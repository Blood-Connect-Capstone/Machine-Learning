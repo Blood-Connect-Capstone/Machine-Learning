{
  "cells": [
    {
      "cell_type": "markdown",
      "metadata": {
        "id": "fKADPWcFKlj3"
      },
      "source": [
        "# **2. Import Library**"
      ]
    },
    {
      "cell_type": "markdown",
      "metadata": {
        "id": "LgA3ERnVn84N"
      },
      "source": [
        "Pada tahap ini, Anda perlu mengimpor beberapa pustaka (library) Python yang dibutuhkan untuk analisis data dan pembangunan model machine learning."
      ]
    },
    {
      "cell_type": "code",
      "execution_count": 1,
      "metadata": {
        "id": "BlmvjLY9M4Yj"
      },
      "outputs": [],
      "source": [
        "import pandas as pd\n",
        "import matplotlib.pyplot as plt\n",
        "import seaborn as sns\n",
        "import numpy as np\n",
        "from sklearn.cluster import DBSCAN\n",
        "from sklearn.metrics import silhouette_score\n",
        "from sklearn.preprocessing import StandardScaler\n",
        "from kneed import KneeLocator\n",
        "from sklearn.neighbors import NearestNeighbors"
      ]
    },
    {
      "cell_type": "markdown",
      "metadata": {
        "id": "f3YIEnAFKrKL"
      },
      "source": [
        "# **3. Memuat Dataset**"
      ]
    },
    {
      "cell_type": "code",
      "execution_count": 2,
      "metadata": {
        "id": "GHCGNTyrM5fS"
      },
      "outputs": [
        {
          "data": {
            "application/vnd.microsoft.datawrangler.viewer.v0+json": {
              "columns": [
                {
                  "name": "index",
                  "rawType": "int64",
                  "type": "integer"
                },
                {
                  "name": "Recency (months)",
                  "rawType": "int64",
                  "type": "integer"
                },
                {
                  "name": "Frequency (times)",
                  "rawType": "int64",
                  "type": "integer"
                },
                {
                  "name": "Monetary (c.c. blood)",
                  "rawType": "int64",
                  "type": "integer"
                },
                {
                  "name": "Time (months)",
                  "rawType": "int64",
                  "type": "integer"
                },
                {
                  "name": "whether he/she donated blood in March 2007",
                  "rawType": "int64",
                  "type": "integer"
                }
              ],
              "ref": "34c054d3-1002-45e1-8369-a2a925f72809",
              "rows": [
                [
                  "0",
                  "2",
                  "50",
                  "12500",
                  "98",
                  "1"
                ],
                [
                  "1",
                  "0",
                  "13",
                  "3250",
                  "28",
                  "1"
                ],
                [
                  "2",
                  "1",
                  "16",
                  "4000",
                  "35",
                  "1"
                ],
                [
                  "3",
                  "2",
                  "20",
                  "5000",
                  "45",
                  "1"
                ],
                [
                  "4",
                  "1",
                  "24",
                  "6000",
                  "77",
                  "0"
                ],
                [
                  "5",
                  "4",
                  "4",
                  "1000",
                  "4",
                  "0"
                ],
                [
                  "6",
                  "2",
                  "7",
                  "1750",
                  "14",
                  "1"
                ],
                [
                  "7",
                  "1",
                  "12",
                  "3000",
                  "35",
                  "0"
                ],
                [
                  "8",
                  "2",
                  "9",
                  "2250",
                  "22",
                  "1"
                ],
                [
                  "9",
                  "5",
                  "46",
                  "11500",
                  "98",
                  "1"
                ],
                [
                  "10",
                  "4",
                  "23",
                  "5750",
                  "58",
                  "0"
                ],
                [
                  "11",
                  "0",
                  "3",
                  "750",
                  "4",
                  "0"
                ],
                [
                  "12",
                  "2",
                  "10",
                  "2500",
                  "28",
                  "1"
                ],
                [
                  "13",
                  "1",
                  "13",
                  "3250",
                  "47",
                  "0"
                ],
                [
                  "14",
                  "2",
                  "6",
                  "1500",
                  "15",
                  "1"
                ],
                [
                  "15",
                  "2",
                  "5",
                  "1250",
                  "11",
                  "1"
                ],
                [
                  "16",
                  "2",
                  "14",
                  "3500",
                  "48",
                  "1"
                ],
                [
                  "17",
                  "2",
                  "15",
                  "3750",
                  "49",
                  "1"
                ],
                [
                  "18",
                  "2",
                  "6",
                  "1500",
                  "15",
                  "1"
                ],
                [
                  "19",
                  "2",
                  "3",
                  "750",
                  "4",
                  "1"
                ],
                [
                  "20",
                  "2",
                  "3",
                  "750",
                  "4",
                  "1"
                ],
                [
                  "21",
                  "4",
                  "11",
                  "2750",
                  "28",
                  "0"
                ],
                [
                  "22",
                  "2",
                  "6",
                  "1500",
                  "16",
                  "1"
                ],
                [
                  "23",
                  "2",
                  "6",
                  "1500",
                  "16",
                  "1"
                ],
                [
                  "24",
                  "9",
                  "9",
                  "2250",
                  "16",
                  "0"
                ],
                [
                  "25",
                  "4",
                  "14",
                  "3500",
                  "40",
                  "0"
                ],
                [
                  "26",
                  "4",
                  "6",
                  "1500",
                  "14",
                  "0"
                ],
                [
                  "27",
                  "4",
                  "12",
                  "3000",
                  "34",
                  "1"
                ],
                [
                  "28",
                  "4",
                  "5",
                  "1250",
                  "11",
                  "1"
                ],
                [
                  "29",
                  "4",
                  "8",
                  "2000",
                  "21",
                  "0"
                ],
                [
                  "30",
                  "1",
                  "14",
                  "3500",
                  "58",
                  "0"
                ],
                [
                  "31",
                  "4",
                  "10",
                  "2500",
                  "28",
                  "1"
                ],
                [
                  "32",
                  "4",
                  "10",
                  "2500",
                  "28",
                  "1"
                ],
                [
                  "33",
                  "4",
                  "9",
                  "2250",
                  "26",
                  "1"
                ],
                [
                  "34",
                  "2",
                  "16",
                  "4000",
                  "64",
                  "0"
                ],
                [
                  "35",
                  "2",
                  "8",
                  "2000",
                  "28",
                  "1"
                ],
                [
                  "36",
                  "2",
                  "12",
                  "3000",
                  "47",
                  "1"
                ],
                [
                  "37",
                  "4",
                  "6",
                  "1500",
                  "16",
                  "1"
                ],
                [
                  "38",
                  "2",
                  "14",
                  "3500",
                  "57",
                  "1"
                ],
                [
                  "39",
                  "4",
                  "7",
                  "1750",
                  "22",
                  "1"
                ],
                [
                  "40",
                  "2",
                  "13",
                  "3250",
                  "53",
                  "1"
                ],
                [
                  "41",
                  "2",
                  "5",
                  "1250",
                  "16",
                  "0"
                ],
                [
                  "42",
                  "2",
                  "5",
                  "1250",
                  "16",
                  "1"
                ],
                [
                  "43",
                  "2",
                  "5",
                  "1250",
                  "16",
                  "0"
                ],
                [
                  "44",
                  "4",
                  "20",
                  "5000",
                  "69",
                  "1"
                ],
                [
                  "45",
                  "4",
                  "9",
                  "2250",
                  "28",
                  "1"
                ],
                [
                  "46",
                  "2",
                  "9",
                  "2250",
                  "36",
                  "0"
                ],
                [
                  "47",
                  "2",
                  "2",
                  "500",
                  "2",
                  "0"
                ],
                [
                  "48",
                  "2",
                  "2",
                  "500",
                  "2",
                  "0"
                ],
                [
                  "49",
                  "2",
                  "2",
                  "500",
                  "2",
                  "0"
                ]
              ],
              "shape": {
                "columns": 5,
                "rows": 748
              }
            },
            "text/html": [
              "<div>\n",
              "<style scoped>\n",
              "    .dataframe tbody tr th:only-of-type {\n",
              "        vertical-align: middle;\n",
              "    }\n",
              "\n",
              "    .dataframe tbody tr th {\n",
              "        vertical-align: top;\n",
              "    }\n",
              "\n",
              "    .dataframe thead th {\n",
              "        text-align: right;\n",
              "    }\n",
              "</style>\n",
              "<table border=\"1\" class=\"dataframe\">\n",
              "  <thead>\n",
              "    <tr style=\"text-align: right;\">\n",
              "      <th></th>\n",
              "      <th>Recency (months)</th>\n",
              "      <th>Frequency (times)</th>\n",
              "      <th>Monetary (c.c. blood)</th>\n",
              "      <th>Time (months)</th>\n",
              "      <th>whether he/she donated blood in March 2007</th>\n",
              "    </tr>\n",
              "  </thead>\n",
              "  <tbody>\n",
              "    <tr>\n",
              "      <th>0</th>\n",
              "      <td>2</td>\n",
              "      <td>50</td>\n",
              "      <td>12500</td>\n",
              "      <td>98</td>\n",
              "      <td>1</td>\n",
              "    </tr>\n",
              "    <tr>\n",
              "      <th>1</th>\n",
              "      <td>0</td>\n",
              "      <td>13</td>\n",
              "      <td>3250</td>\n",
              "      <td>28</td>\n",
              "      <td>1</td>\n",
              "    </tr>\n",
              "    <tr>\n",
              "      <th>2</th>\n",
              "      <td>1</td>\n",
              "      <td>16</td>\n",
              "      <td>4000</td>\n",
              "      <td>35</td>\n",
              "      <td>1</td>\n",
              "    </tr>\n",
              "    <tr>\n",
              "      <th>3</th>\n",
              "      <td>2</td>\n",
              "      <td>20</td>\n",
              "      <td>5000</td>\n",
              "      <td>45</td>\n",
              "      <td>1</td>\n",
              "    </tr>\n",
              "    <tr>\n",
              "      <th>4</th>\n",
              "      <td>1</td>\n",
              "      <td>24</td>\n",
              "      <td>6000</td>\n",
              "      <td>77</td>\n",
              "      <td>0</td>\n",
              "    </tr>\n",
              "    <tr>\n",
              "      <th>...</th>\n",
              "      <td>...</td>\n",
              "      <td>...</td>\n",
              "      <td>...</td>\n",
              "      <td>...</td>\n",
              "      <td>...</td>\n",
              "    </tr>\n",
              "    <tr>\n",
              "      <th>743</th>\n",
              "      <td>23</td>\n",
              "      <td>2</td>\n",
              "      <td>500</td>\n",
              "      <td>38</td>\n",
              "      <td>0</td>\n",
              "    </tr>\n",
              "    <tr>\n",
              "      <th>744</th>\n",
              "      <td>21</td>\n",
              "      <td>2</td>\n",
              "      <td>500</td>\n",
              "      <td>52</td>\n",
              "      <td>0</td>\n",
              "    </tr>\n",
              "    <tr>\n",
              "      <th>745</th>\n",
              "      <td>23</td>\n",
              "      <td>3</td>\n",
              "      <td>750</td>\n",
              "      <td>62</td>\n",
              "      <td>0</td>\n",
              "    </tr>\n",
              "    <tr>\n",
              "      <th>746</th>\n",
              "      <td>39</td>\n",
              "      <td>1</td>\n",
              "      <td>250</td>\n",
              "      <td>39</td>\n",
              "      <td>0</td>\n",
              "    </tr>\n",
              "    <tr>\n",
              "      <th>747</th>\n",
              "      <td>72</td>\n",
              "      <td>1</td>\n",
              "      <td>250</td>\n",
              "      <td>72</td>\n",
              "      <td>0</td>\n",
              "    </tr>\n",
              "  </tbody>\n",
              "</table>\n",
              "<p>748 rows × 5 columns</p>\n",
              "</div>"
            ],
            "text/plain": [
              "     Recency (months)  Frequency (times)  Monetary (c.c. blood)  \\\n",
              "0                   2                 50                  12500   \n",
              "1                   0                 13                   3250   \n",
              "2                   1                 16                   4000   \n",
              "3                   2                 20                   5000   \n",
              "4                   1                 24                   6000   \n",
              "..                ...                ...                    ...   \n",
              "743                23                  2                    500   \n",
              "744                21                  2                    500   \n",
              "745                23                  3                    750   \n",
              "746                39                  1                    250   \n",
              "747                72                  1                    250   \n",
              "\n",
              "     Time (months)  whether he/she donated blood in March 2007  \n",
              "0               98                                           1  \n",
              "1               28                                           1  \n",
              "2               35                                           1  \n",
              "3               45                                           1  \n",
              "4               77                                           0  \n",
              "..             ...                                         ...  \n",
              "743             38                                           0  \n",
              "744             52                                           0  \n",
              "745             62                                           0  \n",
              "746             39                                           0  \n",
              "747             72                                           0  \n",
              "\n",
              "[748 rows x 5 columns]"
            ]
          },
          "execution_count": 2,
          "metadata": {},
          "output_type": "execute_result"
        }
      ],
      "source": [
        "data = pd.read_csv(r\"..\\data\\dataset\\transfusion.csv\", delimiter=\",\")\n",
        "data"
      ]
    },
    {
      "cell_type": "markdown",
      "metadata": {
        "id": "bgZkbJLpK9UR"
      },
      "source": [
        "# **4. Exploratory Data Analysis (EDA)**"
      ]
    },
    {
      "cell_type": "markdown",
      "metadata": {},
      "source": [
        "##### **1. Memahami Struktur Data**"
      ]
    },
    {
      "cell_type": "code",
      "execution_count": 3,
      "metadata": {},
      "outputs": [
        {
          "data": {
            "application/vnd.microsoft.datawrangler.viewer.v0+json": {
              "columns": [
                {
                  "name": "index",
                  "rawType": "int64",
                  "type": "integer"
                },
                {
                  "name": "Recency (months)",
                  "rawType": "int64",
                  "type": "integer"
                },
                {
                  "name": "Frequency (times)",
                  "rawType": "int64",
                  "type": "integer"
                },
                {
                  "name": "Monetary (c.c. blood)",
                  "rawType": "int64",
                  "type": "integer"
                },
                {
                  "name": "Time (months)",
                  "rawType": "int64",
                  "type": "integer"
                },
                {
                  "name": "whether he/she donated blood in March 2007",
                  "rawType": "int64",
                  "type": "integer"
                }
              ],
              "ref": "c9749ac5-bc63-4808-8a26-20953087dd7e",
              "rows": [
                [
                  "0",
                  "2",
                  "50",
                  "12500",
                  "98",
                  "1"
                ],
                [
                  "1",
                  "0",
                  "13",
                  "3250",
                  "28",
                  "1"
                ],
                [
                  "2",
                  "1",
                  "16",
                  "4000",
                  "35",
                  "1"
                ],
                [
                  "3",
                  "2",
                  "20",
                  "5000",
                  "45",
                  "1"
                ],
                [
                  "4",
                  "1",
                  "24",
                  "6000",
                  "77",
                  "0"
                ],
                [
                  "5",
                  "4",
                  "4",
                  "1000",
                  "4",
                  "0"
                ],
                [
                  "6",
                  "2",
                  "7",
                  "1750",
                  "14",
                  "1"
                ],
                [
                  "7",
                  "1",
                  "12",
                  "3000",
                  "35",
                  "0"
                ],
                [
                  "8",
                  "2",
                  "9",
                  "2250",
                  "22",
                  "1"
                ],
                [
                  "9",
                  "5",
                  "46",
                  "11500",
                  "98",
                  "1"
                ],
                [
                  "10",
                  "4",
                  "23",
                  "5750",
                  "58",
                  "0"
                ],
                [
                  "11",
                  "0",
                  "3",
                  "750",
                  "4",
                  "0"
                ],
                [
                  "12",
                  "2",
                  "10",
                  "2500",
                  "28",
                  "1"
                ],
                [
                  "13",
                  "1",
                  "13",
                  "3250",
                  "47",
                  "0"
                ],
                [
                  "14",
                  "2",
                  "6",
                  "1500",
                  "15",
                  "1"
                ],
                [
                  "15",
                  "2",
                  "5",
                  "1250",
                  "11",
                  "1"
                ],
                [
                  "16",
                  "2",
                  "14",
                  "3500",
                  "48",
                  "1"
                ],
                [
                  "17",
                  "2",
                  "15",
                  "3750",
                  "49",
                  "1"
                ],
                [
                  "18",
                  "2",
                  "6",
                  "1500",
                  "15",
                  "1"
                ],
                [
                  "19",
                  "2",
                  "3",
                  "750",
                  "4",
                  "1"
                ],
                [
                  "20",
                  "2",
                  "3",
                  "750",
                  "4",
                  "1"
                ],
                [
                  "21",
                  "4",
                  "11",
                  "2750",
                  "28",
                  "0"
                ],
                [
                  "22",
                  "2",
                  "6",
                  "1500",
                  "16",
                  "1"
                ],
                [
                  "23",
                  "2",
                  "6",
                  "1500",
                  "16",
                  "1"
                ],
                [
                  "24",
                  "9",
                  "9",
                  "2250",
                  "16",
                  "0"
                ],
                [
                  "25",
                  "4",
                  "14",
                  "3500",
                  "40",
                  "0"
                ],
                [
                  "26",
                  "4",
                  "6",
                  "1500",
                  "14",
                  "0"
                ],
                [
                  "27",
                  "4",
                  "12",
                  "3000",
                  "34",
                  "1"
                ],
                [
                  "28",
                  "4",
                  "5",
                  "1250",
                  "11",
                  "1"
                ],
                [
                  "29",
                  "4",
                  "8",
                  "2000",
                  "21",
                  "0"
                ],
                [
                  "30",
                  "1",
                  "14",
                  "3500",
                  "58",
                  "0"
                ],
                [
                  "31",
                  "4",
                  "10",
                  "2500",
                  "28",
                  "1"
                ],
                [
                  "32",
                  "4",
                  "10",
                  "2500",
                  "28",
                  "1"
                ],
                [
                  "33",
                  "4",
                  "9",
                  "2250",
                  "26",
                  "1"
                ],
                [
                  "34",
                  "2",
                  "16",
                  "4000",
                  "64",
                  "0"
                ],
                [
                  "35",
                  "2",
                  "8",
                  "2000",
                  "28",
                  "1"
                ],
                [
                  "36",
                  "2",
                  "12",
                  "3000",
                  "47",
                  "1"
                ],
                [
                  "37",
                  "4",
                  "6",
                  "1500",
                  "16",
                  "1"
                ],
                [
                  "38",
                  "2",
                  "14",
                  "3500",
                  "57",
                  "1"
                ],
                [
                  "39",
                  "4",
                  "7",
                  "1750",
                  "22",
                  "1"
                ],
                [
                  "40",
                  "2",
                  "13",
                  "3250",
                  "53",
                  "1"
                ],
                [
                  "41",
                  "2",
                  "5",
                  "1250",
                  "16",
                  "0"
                ],
                [
                  "42",
                  "2",
                  "5",
                  "1250",
                  "16",
                  "1"
                ],
                [
                  "43",
                  "2",
                  "5",
                  "1250",
                  "16",
                  "0"
                ],
                [
                  "44",
                  "4",
                  "20",
                  "5000",
                  "69",
                  "1"
                ],
                [
                  "45",
                  "4",
                  "9",
                  "2250",
                  "28",
                  "1"
                ],
                [
                  "46",
                  "2",
                  "9",
                  "2250",
                  "36",
                  "0"
                ],
                [
                  "47",
                  "2",
                  "2",
                  "500",
                  "2",
                  "0"
                ],
                [
                  "48",
                  "2",
                  "2",
                  "500",
                  "2",
                  "0"
                ],
                [
                  "49",
                  "2",
                  "2",
                  "500",
                  "2",
                  "0"
                ]
              ],
              "shape": {
                "columns": 5,
                "rows": 748
              }
            },
            "text/html": [
              "<div>\n",
              "<style scoped>\n",
              "    .dataframe tbody tr th:only-of-type {\n",
              "        vertical-align: middle;\n",
              "    }\n",
              "\n",
              "    .dataframe tbody tr th {\n",
              "        vertical-align: top;\n",
              "    }\n",
              "\n",
              "    .dataframe thead th {\n",
              "        text-align: right;\n",
              "    }\n",
              "</style>\n",
              "<table border=\"1\" class=\"dataframe\">\n",
              "  <thead>\n",
              "    <tr style=\"text-align: right;\">\n",
              "      <th></th>\n",
              "      <th>Recency (months)</th>\n",
              "      <th>Frequency (times)</th>\n",
              "      <th>Monetary (c.c. blood)</th>\n",
              "      <th>Time (months)</th>\n",
              "      <th>whether he/she donated blood in March 2007</th>\n",
              "    </tr>\n",
              "  </thead>\n",
              "  <tbody>\n",
              "    <tr>\n",
              "      <th>0</th>\n",
              "      <td>2</td>\n",
              "      <td>50</td>\n",
              "      <td>12500</td>\n",
              "      <td>98</td>\n",
              "      <td>1</td>\n",
              "    </tr>\n",
              "    <tr>\n",
              "      <th>1</th>\n",
              "      <td>0</td>\n",
              "      <td>13</td>\n",
              "      <td>3250</td>\n",
              "      <td>28</td>\n",
              "      <td>1</td>\n",
              "    </tr>\n",
              "    <tr>\n",
              "      <th>2</th>\n",
              "      <td>1</td>\n",
              "      <td>16</td>\n",
              "      <td>4000</td>\n",
              "      <td>35</td>\n",
              "      <td>1</td>\n",
              "    </tr>\n",
              "    <tr>\n",
              "      <th>3</th>\n",
              "      <td>2</td>\n",
              "      <td>20</td>\n",
              "      <td>5000</td>\n",
              "      <td>45</td>\n",
              "      <td>1</td>\n",
              "    </tr>\n",
              "    <tr>\n",
              "      <th>4</th>\n",
              "      <td>1</td>\n",
              "      <td>24</td>\n",
              "      <td>6000</td>\n",
              "      <td>77</td>\n",
              "      <td>0</td>\n",
              "    </tr>\n",
              "    <tr>\n",
              "      <th>...</th>\n",
              "      <td>...</td>\n",
              "      <td>...</td>\n",
              "      <td>...</td>\n",
              "      <td>...</td>\n",
              "      <td>...</td>\n",
              "    </tr>\n",
              "    <tr>\n",
              "      <th>743</th>\n",
              "      <td>23</td>\n",
              "      <td>2</td>\n",
              "      <td>500</td>\n",
              "      <td>38</td>\n",
              "      <td>0</td>\n",
              "    </tr>\n",
              "    <tr>\n",
              "      <th>744</th>\n",
              "      <td>21</td>\n",
              "      <td>2</td>\n",
              "      <td>500</td>\n",
              "      <td>52</td>\n",
              "      <td>0</td>\n",
              "    </tr>\n",
              "    <tr>\n",
              "      <th>745</th>\n",
              "      <td>23</td>\n",
              "      <td>3</td>\n",
              "      <td>750</td>\n",
              "      <td>62</td>\n",
              "      <td>0</td>\n",
              "    </tr>\n",
              "    <tr>\n",
              "      <th>746</th>\n",
              "      <td>39</td>\n",
              "      <td>1</td>\n",
              "      <td>250</td>\n",
              "      <td>39</td>\n",
              "      <td>0</td>\n",
              "    </tr>\n",
              "    <tr>\n",
              "      <th>747</th>\n",
              "      <td>72</td>\n",
              "      <td>1</td>\n",
              "      <td>250</td>\n",
              "      <td>72</td>\n",
              "      <td>0</td>\n",
              "    </tr>\n",
              "  </tbody>\n",
              "</table>\n",
              "<p>748 rows × 5 columns</p>\n",
              "</div>"
            ],
            "text/plain": [
              "     Recency (months)  Frequency (times)  Monetary (c.c. blood)  \\\n",
              "0                   2                 50                  12500   \n",
              "1                   0                 13                   3250   \n",
              "2                   1                 16                   4000   \n",
              "3                   2                 20                   5000   \n",
              "4                   1                 24                   6000   \n",
              "..                ...                ...                    ...   \n",
              "743                23                  2                    500   \n",
              "744                21                  2                    500   \n",
              "745                23                  3                    750   \n",
              "746                39                  1                    250   \n",
              "747                72                  1                    250   \n",
              "\n",
              "     Time (months)  whether he/she donated blood in March 2007  \n",
              "0               98                                           1  \n",
              "1               28                                           1  \n",
              "2               35                                           1  \n",
              "3               45                                           1  \n",
              "4               77                                           0  \n",
              "..             ...                                         ...  \n",
              "743             38                                           0  \n",
              "744             52                                           0  \n",
              "745             62                                           0  \n",
              "746             39                                           0  \n",
              "747             72                                           0  \n",
              "\n",
              "[748 rows x 5 columns]"
            ]
          },
          "execution_count": 3,
          "metadata": {},
          "output_type": "execute_result"
        }
      ],
      "source": [
        "data"
      ]
    },
    {
      "cell_type": "code",
      "execution_count": 4,
      "metadata": {
        "id": "dKeejtvxM6X1"
      },
      "outputs": [
        {
          "name": "stdout",
          "output_type": "stream",
          "text": [
            "<class 'pandas.core.frame.DataFrame'>\n",
            "RangeIndex: 748 entries, 0 to 747\n",
            "Data columns (total 5 columns):\n",
            " #   Column                                      Non-Null Count  Dtype\n",
            "---  ------                                      --------------  -----\n",
            " 0   Recency (months)                            748 non-null    int64\n",
            " 1   Frequency (times)                           748 non-null    int64\n",
            " 2   Monetary (c.c. blood)                       748 non-null    int64\n",
            " 3   Time (months)                               748 non-null    int64\n",
            " 4   whether he/she donated blood in March 2007  748 non-null    int64\n",
            "dtypes: int64(5)\n",
            "memory usage: 29.3 KB\n"
          ]
        }
      ],
      "source": [
        "data.info()"
      ]
    },
    {
      "cell_type": "code",
      "execution_count": 5,
      "metadata": {},
      "outputs": [
        {
          "data": {
            "application/vnd.microsoft.datawrangler.viewer.v0+json": {
              "columns": [
                {
                  "name": "index",
                  "rawType": "object",
                  "type": "string"
                },
                {
                  "name": "Recency (months)",
                  "rawType": "float64",
                  "type": "float"
                },
                {
                  "name": "Frequency (times)",
                  "rawType": "float64",
                  "type": "float"
                },
                {
                  "name": "Monetary (c.c. blood)",
                  "rawType": "float64",
                  "type": "float"
                },
                {
                  "name": "Time (months)",
                  "rawType": "float64",
                  "type": "float"
                },
                {
                  "name": "whether he/she donated blood in March 2007",
                  "rawType": "float64",
                  "type": "float"
                }
              ],
              "ref": "f58d62c8-4bd3-42e3-a37e-2de600f24c07",
              "rows": [
                [
                  "count",
                  "748.0",
                  "748.0",
                  "748.0",
                  "748.0",
                  "748.0"
                ],
                [
                  "mean",
                  "9.506684491978609",
                  "5.514705882352941",
                  "1378.6764705882354",
                  "34.282085561497325",
                  "0.23796791443850268"
                ],
                [
                  "std",
                  "8.095395635299214",
                  "5.839307123090025",
                  "1459.8267807725063",
                  "24.376714368614188",
                  "0.4261243278014516"
                ],
                [
                  "min",
                  "0.0",
                  "1.0",
                  "250.0",
                  "2.0",
                  "0.0"
                ],
                [
                  "25%",
                  "2.75",
                  "2.0",
                  "500.0",
                  "16.0",
                  "0.0"
                ],
                [
                  "50%",
                  "7.0",
                  "4.0",
                  "1000.0",
                  "28.0",
                  "0.0"
                ],
                [
                  "75%",
                  "14.0",
                  "7.0",
                  "1750.0",
                  "50.0",
                  "0.0"
                ],
                [
                  "max",
                  "74.0",
                  "50.0",
                  "12500.0",
                  "98.0",
                  "1.0"
                ]
              ],
              "shape": {
                "columns": 5,
                "rows": 8
              }
            },
            "text/html": [
              "<div>\n",
              "<style scoped>\n",
              "    .dataframe tbody tr th:only-of-type {\n",
              "        vertical-align: middle;\n",
              "    }\n",
              "\n",
              "    .dataframe tbody tr th {\n",
              "        vertical-align: top;\n",
              "    }\n",
              "\n",
              "    .dataframe thead th {\n",
              "        text-align: right;\n",
              "    }\n",
              "</style>\n",
              "<table border=\"1\" class=\"dataframe\">\n",
              "  <thead>\n",
              "    <tr style=\"text-align: right;\">\n",
              "      <th></th>\n",
              "      <th>Recency (months)</th>\n",
              "      <th>Frequency (times)</th>\n",
              "      <th>Monetary (c.c. blood)</th>\n",
              "      <th>Time (months)</th>\n",
              "      <th>whether he/she donated blood in March 2007</th>\n",
              "    </tr>\n",
              "  </thead>\n",
              "  <tbody>\n",
              "    <tr>\n",
              "      <th>count</th>\n",
              "      <td>748.000000</td>\n",
              "      <td>748.000000</td>\n",
              "      <td>748.000000</td>\n",
              "      <td>748.000000</td>\n",
              "      <td>748.000000</td>\n",
              "    </tr>\n",
              "    <tr>\n",
              "      <th>mean</th>\n",
              "      <td>9.506684</td>\n",
              "      <td>5.514706</td>\n",
              "      <td>1378.676471</td>\n",
              "      <td>34.282086</td>\n",
              "      <td>0.237968</td>\n",
              "    </tr>\n",
              "    <tr>\n",
              "      <th>std</th>\n",
              "      <td>8.095396</td>\n",
              "      <td>5.839307</td>\n",
              "      <td>1459.826781</td>\n",
              "      <td>24.376714</td>\n",
              "      <td>0.426124</td>\n",
              "    </tr>\n",
              "    <tr>\n",
              "      <th>min</th>\n",
              "      <td>0.000000</td>\n",
              "      <td>1.000000</td>\n",
              "      <td>250.000000</td>\n",
              "      <td>2.000000</td>\n",
              "      <td>0.000000</td>\n",
              "    </tr>\n",
              "    <tr>\n",
              "      <th>25%</th>\n",
              "      <td>2.750000</td>\n",
              "      <td>2.000000</td>\n",
              "      <td>500.000000</td>\n",
              "      <td>16.000000</td>\n",
              "      <td>0.000000</td>\n",
              "    </tr>\n",
              "    <tr>\n",
              "      <th>50%</th>\n",
              "      <td>7.000000</td>\n",
              "      <td>4.000000</td>\n",
              "      <td>1000.000000</td>\n",
              "      <td>28.000000</td>\n",
              "      <td>0.000000</td>\n",
              "    </tr>\n",
              "    <tr>\n",
              "      <th>75%</th>\n",
              "      <td>14.000000</td>\n",
              "      <td>7.000000</td>\n",
              "      <td>1750.000000</td>\n",
              "      <td>50.000000</td>\n",
              "      <td>0.000000</td>\n",
              "    </tr>\n",
              "    <tr>\n",
              "      <th>max</th>\n",
              "      <td>74.000000</td>\n",
              "      <td>50.000000</td>\n",
              "      <td>12500.000000</td>\n",
              "      <td>98.000000</td>\n",
              "      <td>1.000000</td>\n",
              "    </tr>\n",
              "  </tbody>\n",
              "</table>\n",
              "</div>"
            ],
            "text/plain": [
              "       Recency (months)  Frequency (times)  Monetary (c.c. blood)  \\\n",
              "count        748.000000         748.000000             748.000000   \n",
              "mean           9.506684           5.514706            1378.676471   \n",
              "std            8.095396           5.839307            1459.826781   \n",
              "min            0.000000           1.000000             250.000000   \n",
              "25%            2.750000           2.000000             500.000000   \n",
              "50%            7.000000           4.000000            1000.000000   \n",
              "75%           14.000000           7.000000            1750.000000   \n",
              "max           74.000000          50.000000           12500.000000   \n",
              "\n",
              "       Time (months)  whether he/she donated blood in March 2007  \n",
              "count     748.000000                                  748.000000  \n",
              "mean       34.282086                                    0.237968  \n",
              "std        24.376714                                    0.426124  \n",
              "min         2.000000                                    0.000000  \n",
              "25%        16.000000                                    0.000000  \n",
              "50%        28.000000                                    0.000000  \n",
              "75%        50.000000                                    0.000000  \n",
              "max        98.000000                                    1.000000  "
            ]
          },
          "execution_count": 5,
          "metadata": {},
          "output_type": "execute_result"
        }
      ],
      "source": [
        "data.describe()"
      ]
    },
    {
      "cell_type": "code",
      "execution_count": 6,
      "metadata": {},
      "outputs": [
        {
          "data": {
            "text/plain": [
              "array([[<Axes: title={'center': 'Recency (months)'}>,\n",
              "        <Axes: title={'center': 'Frequency (times)'}>],\n",
              "       [<Axes: title={'center': 'Monetary (c.c. blood)'}>,\n",
              "        <Axes: title={'center': 'Time (months)'}>],\n",
              "       [<Axes: title={'center': 'whether he/she donated blood in March 2007'}>,\n",
              "        <Axes: >]], dtype=object)"
            ]
          },
          "execution_count": 6,
          "metadata": {},
          "output_type": "execute_result"
        },
        {
          "data": {
            "image/png": "[encoded data removed]",
            "text/plain": [
              "<Figure size 1500x1000 with 6 Axes>"
            ]
          },
          "metadata": {},
          "output_type": "display_data"
        }
      ],
      "source": [
        "data.hist(figsize=(15, 10))"
      ]
    },
    {
      "cell_type": "markdown",
      "metadata": {},
      "source": [
        "##### **2. Menangani Data Kosong**"
      ]
    },
    {
      "cell_type": "code",
      "execution_count": 7,
      "metadata": {},
      "outputs": [
        {
          "data": {
            "application/vnd.microsoft.datawrangler.viewer.v0+json": {
              "columns": [
                {
                  "name": "index",
                  "rawType": "object",
                  "type": "string"
                },
                {
                  "name": "0",
                  "rawType": "float64",
                  "type": "float"
                }
              ],
              "ref": "9e328128-6c36-46ad-bedc-889ce5d52f8c",
              "rows": [
                [
                  "Recency (months)",
                  "0.0"
                ],
                [
                  "Frequency (times)",
                  "0.0"
                ],
                [
                  "Monetary (c.c. blood)",
                  "0.0"
                ],
                [
                  "Time (months)",
                  "0.0"
                ],
                [
                  "whether he/she donated blood in March 2007",
                  "0.0"
                ]
              ],
              "shape": {
                "columns": 1,
                "rows": 5
              }
            },
            "text/plain": [
              "Recency (months)                              0.0\n",
              "Frequency (times)                             0.0\n",
              "Monetary (c.c. blood)                         0.0\n",
              "Time (months)                                 0.0\n",
              "whether he/she donated blood in March 2007    0.0\n",
              "dtype: float64"
            ]
          },
          "metadata": {},
          "output_type": "display_data"
        },
        {
          "data": {
            "application/vnd.microsoft.datawrangler.viewer.v0+json": {
              "columns": [
                {
                  "name": "index",
                  "rawType": "object",
                  "type": "string"
                },
                {
                  "name": "Missing Values",
                  "rawType": "int64",
                  "type": "integer"
                },
                {
                  "name": "Percentage",
                  "rawType": "float64",
                  "type": "float"
                }
              ],
              "ref": "c17be93d-984c-43ae-99ba-534c7b14c191",
              "rows": [
                [
                  "Recency (months)",
                  "0",
                  "0.0"
                ],
                [
                  "Frequency (times)",
                  "0",
                  "0.0"
                ],
                [
                  "Monetary (c.c. blood)",
                  "0",
                  "0.0"
                ],
                [
                  "Time (months)",
                  "0",
                  "0.0"
                ],
                [
                  "whether he/she donated blood in March 2007",
                  "0",
                  "0.0"
                ]
              ],
              "shape": {
                "columns": 2,
                "rows": 5
              }
            },
            "text/html": [
              "<div>\n",
              "<style scoped>\n",
              "    .dataframe tbody tr th:only-of-type {\n",
              "        vertical-align: middle;\n",
              "    }\n",
              "\n",
              "    .dataframe tbody tr th {\n",
              "        vertical-align: top;\n",
              "    }\n",
              "\n",
              "    .dataframe thead th {\n",
              "        text-align: right;\n",
              "    }\n",
              "</style>\n",
              "<table border=\"1\" class=\"dataframe\">\n",
              "  <thead>\n",
              "    <tr style=\"text-align: right;\">\n",
              "      <th></th>\n",
              "      <th>Missing Values</th>\n",
              "      <th>Percentage</th>\n",
              "    </tr>\n",
              "  </thead>\n",
              "  <tbody>\n",
              "    <tr>\n",
              "      <th>Recency (months)</th>\n",
              "      <td>0</td>\n",
              "      <td>0.0</td>\n",
              "    </tr>\n",
              "    <tr>\n",
              "      <th>Frequency (times)</th>\n",
              "      <td>0</td>\n",
              "      <td>0.0</td>\n",
              "    </tr>\n",
              "    <tr>\n",
              "      <th>Monetary (c.c. blood)</th>\n",
              "      <td>0</td>\n",
              "      <td>0.0</td>\n",
              "    </tr>\n",
              "    <tr>\n",
              "      <th>Time (months)</th>\n",
              "      <td>0</td>\n",
              "      <td>0.0</td>\n",
              "    </tr>\n",
              "    <tr>\n",
              "      <th>whether he/she donated blood in March 2007</th>\n",
              "      <td>0</td>\n",
              "      <td>0.0</td>\n",
              "    </tr>\n",
              "  </tbody>\n",
              "</table>\n",
              "</div>"
            ],
            "text/plain": [
              "                                            Missing Values  Percentage\n",
              "Recency (months)                                         0         0.0\n",
              "Frequency (times)                                        0         0.0\n",
              "Monetary (c.c. blood)                                    0         0.0\n",
              "Time (months)                                            0         0.0\n",
              "whether he/she donated blood in March 2007               0         0.0"
            ]
          },
          "metadata": {},
          "output_type": "display_data"
        },
        {
          "name": "stdout",
          "output_type": "stream",
          "text": [
            "No missing values in the dataset\n"
          ]
        }
      ],
      "source": [
        "missing_values = data.isna().sum()\n",
        "missing_percentage = (missing_values / len(data)) * 100\n",
        " \n",
        "missing_data = pd.DataFrame({\n",
        "    'Missing Values': missing_values,\n",
        "    'Percentage': missing_percentage\n",
        "}).sort_values(by='Missing Values', ascending=False)\n",
        "display(missing_percentage)\n",
        "display(missing_data)\n",
        "if(missing_data['Missing Values'].all() > 0):\n",
        "    missing_data[missing_data['Missing Values'] > 0]\n",
        "    print(\"There is missing values in the dataset\")\n",
        "else:\n",
        "    print(\"No missing values in the dataset\")"
      ]
    },
    {
      "cell_type": "code",
      "execution_count": null,
      "metadata": {},
      "outputs": [
        {
          "data": {
            "application/vnd.microsoft.datawrangler.viewer.v0+json": {
              "columns": [
                {
                  "name": "index",
                  "rawType": "int64",
                  "type": "integer"
                },
                {
                  "name": "Months",
                  "rawType": "int64",
                  "type": "integer"
                },
                {
                  "name": "Frequencies",
                  "rawType": "int64",
                  "type": "integer"
                },
                {
                  "name": "Monetary",
                  "rawType": "int64",
                  "type": "integer"
                },
                {
                  "name": "NumMonth",
                  "rawType": "int64",
                  "type": "integer"
                },
                {
                  "name": "isDonate",
                  "rawType": "int64",
                  "type": "integer"
                }
              ],
              "ref": "f9999854-8df3-43d1-8665-09ed996f9241",
              "rows": [
                [
                  "0",
                  "2",
                  "50",
                  "12500",
                  "98",
                  "1"
                ],
                [
                  "1",
                  "0",
                  "13",
                  "3250",
                  "28",
                  "1"
                ],
                [
                  "2",
                  "1",
                  "16",
                  "4000",
                  "35",
                  "1"
                ],
                [
                  "3",
                  "2",
                  "20",
                  "5000",
                  "45",
                  "1"
                ],
                [
                  "4",
                  "1",
                  "24",
                  "6000",
                  "77",
                  "0"
                ],
                [
                  "5",
                  "4",
                  "4",
                  "1000",
                  "4",
                  "0"
                ],
                [
                  "6",
                  "2",
                  "7",
                  "1750",
                  "14",
                  "1"
                ],
                [
                  "7",
                  "1",
                  "12",
                  "3000",
                  "35",
                  "0"
                ],
                [
                  "8",
                  "2",
                  "9",
                  "2250",
                  "22",
                  "1"
                ],
                [
                  "9",
                  "5",
                  "46",
                  "11500",
                  "98",
                  "1"
                ],
                [
                  "10",
                  "4",
                  "23",
                  "5750",
                  "58",
                  "0"
                ],
                [
                  "11",
                  "0",
                  "3",
                  "750",
                  "4",
                  "0"
                ],
                [
                  "12",
                  "2",
                  "10",
                  "2500",
                  "28",
                  "1"
                ],
                [
                  "13",
                  "1",
                  "13",
                  "3250",
                  "47",
                  "0"
                ],
                [
                  "14",
                  "2",
                  "6",
                  "1500",
                  "15",
                  "1"
                ],
                [
                  "15",
                  "2",
                  "5",
                  "1250",
                  "11",
                  "1"
                ],
                [
                  "16",
                  "2",
                  "14",
                  "3500",
                  "48",
                  "1"
                ],
                [
                  "17",
                  "2",
                  "15",
                  "3750",
                  "49",
                  "1"
                ],
                [
                  "18",
                  "2",
                  "6",
                  "1500",
                  "15",
                  "1"
                ],
                [
                  "19",
                  "2",
                  "3",
                  "750",
                  "4",
                  "1"
                ],
                [
                  "20",
                  "2",
                  "3",
                  "750",
                  "4",
                  "1"
                ],
                [
                  "21",
                  "4",
                  "11",
                  "2750",
                  "28",
                  "0"
                ],
                [
                  "22",
                  "2",
                  "6",
                  "1500",
                  "16",
                  "1"
                ],
                [
                  "23",
                  "2",
                  "6",
                  "1500",
                  "16",
                  "1"
                ],
                [
                  "24",
                  "9",
                  "9",
                  "2250",
                  "16",
                  "0"
                ],
                [
                  "25",
                  "4",
                  "14",
                  "3500",
                  "40",
                  "0"
                ],
                [
                  "26",
                  "4",
                  "6",
                  "1500",
                  "14",
                  "0"
                ],
                [
                  "27",
                  "4",
                  "12",
                  "3000",
                  "34",
                  "1"
                ],
                [
                  "28",
                  "4",
                  "5",
                  "1250",
                  "11",
                  "1"
                ],
                [
                  "29",
                  "4",
                  "8",
                  "2000",
                  "21",
                  "0"
                ],
                [
                  "30",
                  "1",
                  "14",
                  "3500",
                  "58",
                  "0"
                ],
                [
                  "31",
                  "4",
                  "10",
                  "2500",
                  "28",
                  "1"
                ],
                [
                  "32",
                  "4",
                  "10",
                  "2500",
                  "28",
                  "1"
                ],
                [
                  "33",
                  "4",
                  "9",
                  "2250",
                  "26",
                  "1"
                ],
                [
                  "34",
                  "2",
                  "16",
                  "4000",
                  "64",
                  "0"
                ],
                [
                  "35",
                  "2",
                  "8",
                  "2000",
                  "28",
                  "1"
                ],
                [
                  "36",
                  "2",
                  "12",
                  "3000",
                  "47",
                  "1"
                ],
                [
                  "37",
                  "4",
                  "6",
                  "1500",
                  "16",
                  "1"
                ],
                [
                  "38",
                  "2",
                  "14",
                  "3500",
                  "57",
                  "1"
                ],
                [
                  "39",
                  "4",
                  "7",
                  "1750",
                  "22",
                  "1"
                ],
                [
                  "40",
                  "2",
                  "13",
                  "3250",
                  "53",
                  "1"
                ],
                [
                  "41",
                  "2",
                  "5",
                  "1250",
                  "16",
                  "0"
                ],
                [
                  "42",
                  "2",
                  "5",
                  "1250",
                  "16",
                  "1"
                ],
                [
                  "43",
                  "2",
                  "5",
                  "1250",
                  "16",
                  "0"
                ],
                [
                  "44",
                  "4",
                  "20",
                  "5000",
                  "69",
                  "1"
                ],
                [
                  "45",
                  "4",
                  "9",
                  "2250",
                  "28",
                  "1"
                ],
                [
                  "46",
                  "2",
                  "9",
                  "2250",
                  "36",
                  "0"
                ],
                [
                  "47",
                  "2",
                  "2",
                  "500",
                  "2",
                  "0"
                ],
                [
                  "48",
                  "2",
                  "2",
                  "500",
                  "2",
                  "0"
                ],
                [
                  "49",
                  "2",
                  "2",
                  "500",
                  "2",
                  "0"
                ]
              ],
              "shape": {
                "columns": 5,
                "rows": 748
              }
            },
            "text/html": [
              "<div>\n",
              "<style scoped>\n",
              "    .dataframe tbody tr th:only-of-type {\n",
              "        vertical-align: middle;\n",
              "    }\n",
              "\n",
              "    .dataframe tbody tr th {\n",
              "        vertical-align: top;\n",
              "    }\n",
              "\n",
              "    .dataframe thead th {\n",
              "        text-align: right;\n",
              "    }\n",
              "</style>\n",
              "<table border=\"1\" class=\"dataframe\">\n",
              "  <thead>\n",
              "    <tr style=\"text-align: right;\">\n",
              "      <th></th>\n",
              "      <th>Months</th>\n",
              "      <th>Frequencies</th>\n",
              "      <th>Monetary</th>\n",
              "      <th>NumMonth</th>\n",
              "      <th>isDonate</th>\n",
              "    </tr>\n",
              "  </thead>\n",
              "  <tbody>\n",
              "    <tr>\n",
              "      <th>0</th>\n",
              "      <td>2</td>\n",
              "      <td>50</td>\n",
              "      <td>12500</td>\n",
              "      <td>98</td>\n",
              "      <td>1</td>\n",
              "    </tr>\n",
              "    <tr>\n",
              "      <th>1</th>\n",
              "      <td>0</td>\n",
              "      <td>13</td>\n",
              "      <td>3250</td>\n",
              "      <td>28</td>\n",
              "      <td>1</td>\n",
              "    </tr>\n",
              "    <tr>\n",
              "      <th>2</th>\n",
              "      <td>1</td>\n",
              "      <td>16</td>\n",
              "      <td>4000</td>\n",
              "      <td>35</td>\n",
              "      <td>1</td>\n",
              "    </tr>\n",
              "    <tr>\n",
              "      <th>3</th>\n",
              "      <td>2</td>\n",
              "      <td>20</td>\n",
              "      <td>5000</td>\n",
              "      <td>45</td>\n",
              "      <td>1</td>\n",
              "    </tr>\n",
              "    <tr>\n",
              "      <th>4</th>\n",
              "      <td>1</td>\n",
              "      <td>24</td>\n",
              "      <td>6000</td>\n",
              "      <td>77</td>\n",
              "      <td>0</td>\n",
              "    </tr>\n",
              "    <tr>\n",
              "      <th>...</th>\n",
              "      <td>...</td>\n",
              "      <td>...</td>\n",
              "      <td>...</td>\n",
              "      <td>...</td>\n",
              "      <td>...</td>\n",
              "    </tr>\n",
              "    <tr>\n",
              "      <th>743</th>\n",
              "      <td>23</td>\n",
              "      <td>2</td>\n",
              "      <td>500</td>\n",
              "      <td>38</td>\n",
              "      <td>0</td>\n",
              "    </tr>\n",
              "    <tr>\n",
              "      <th>744</th>\n",
              "      <td>21</td>\n",
              "      <td>2</td>\n",
              "      <td>500</td>\n",
              "      <td>52</td>\n",
              "      <td>0</td>\n",
              "    </tr>\n",
              "    <tr>\n",
              "      <th>745</th>\n",
              "      <td>23</td>\n",
              "      <td>3</td>\n",
              "      <td>750</td>\n",
              "      <td>62</td>\n",
              "      <td>0</td>\n",
              "    </tr>\n",
              "    <tr>\n",
              "      <th>746</th>\n",
              "      <td>39</td>\n",
              "      <td>1</td>\n",
              "      <td>250</td>\n",
              "      <td>39</td>\n",
              "      <td>0</td>\n",
              "    </tr>\n",
              "    <tr>\n",
              "      <th>747</th>\n",
              "      <td>72</td>\n",
              "      <td>1</td>\n",
              "      <td>250</td>\n",
              "      <td>72</td>\n",
              "      <td>0</td>\n",
              "    </tr>\n",
              "  </tbody>\n",
              "</table>\n",
              "<p>748 rows × 5 columns</p>\n",
              "</div>"
            ],
            "text/plain": [
              "     Months  Frequencies  Monetary  NumMonth  isDonate\n",
              "0         2           50     12500        98         1\n",
              "1         0           13      3250        28         1\n",
              "2         1           16      4000        35         1\n",
              "3         2           20      5000        45         1\n",
              "4         1           24      6000        77         0\n",
              "..      ...          ...       ...       ...       ...\n",
              "743      23            2       500        38         0\n",
              "744      21            2       500        52         0\n",
              "745      23            3       750        62         0\n",
              "746      39            1       250        39         0\n",
              "747      72            1       250        72         0\n",
              "\n",
              "[748 rows x 5 columns]"
            ]
          },
          "execution_count": 8,
          "metadata": {},
          "output_type": "execute_result"
        }
      ],
      "source": [
        "data = pd.DataFrame(data)\n",
        "data = data.rename(columns={\"Recency (months)\":\"Months\", \"Frequency (times)\":\"Frequencies\", \"Monetary (c.c. blood)\":\"Monetary\", \n",
        "                            \"Time (months)\":\"NumMonth\",\"whether he/she donated blood in March 2007\":\"isDonate\"})\n",
        "data"
      ]
    },
    {
      "cell_type": "code",
      "execution_count": 9,
      "metadata": {},
      "outputs": [
        {
          "data": {
            "application/vnd.microsoft.datawrangler.viewer.v0+json": {
              "columns": [
                {
                  "name": "isDonate",
                  "rawType": "int64",
                  "type": "integer"
                },
                {
                  "name": "numDonate",
                  "rawType": "int64",
                  "type": "integer"
                }
              ],
              "ref": "17406d1a-3701-4470-a9d3-6360eecd4af1",
              "rows": [
                [
                  "0",
                  "570"
                ],
                [
                  "1",
                  "178"
                ]
              ],
              "shape": {
                "columns": 1,
                "rows": 2
              }
            },
            "text/html": [
              "<div>\n",
              "<style scoped>\n",
              "    .dataframe tbody tr th:only-of-type {\n",
              "        vertical-align: middle;\n",
              "    }\n",
              "\n",
              "    .dataframe tbody tr th {\n",
              "        vertical-align: top;\n",
              "    }\n",
              "\n",
              "    .dataframe thead th {\n",
              "        text-align: right;\n",
              "    }\n",
              "</style>\n",
              "<table border=\"1\" class=\"dataframe\">\n",
              "  <thead>\n",
              "    <tr style=\"text-align: right;\">\n",
              "      <th></th>\n",
              "      <th>numDonate</th>\n",
              "    </tr>\n",
              "    <tr>\n",
              "      <th>isDonate</th>\n",
              "      <th></th>\n",
              "    </tr>\n",
              "  </thead>\n",
              "  <tbody>\n",
              "    <tr>\n",
              "      <th>0</th>\n",
              "      <td>570</td>\n",
              "    </tr>\n",
              "    <tr>\n",
              "      <th>1</th>\n",
              "      <td>178</td>\n",
              "    </tr>\n",
              "  </tbody>\n",
              "</table>\n",
              "</div>"
            ],
            "text/plain": [
              "          numDonate\n",
              "isDonate           \n",
              "0               570\n",
              "1               178"
            ]
          },
          "metadata": {},
          "output_type": "display_data"
        }
      ],
      "source": [
        "data_isdonate = data.groupby(by=[\"isDonate\"]).agg({\"isDonate\":\"count\"}).rename(columns={\"isDonate\": \"numDonate\"})\n",
        "display(data_isdonate)\n"
      ]
    },
    {
      "cell_type": "markdown",
      "metadata": {},
      "source": [
        "##### **4. Visualisasi Data**"
      ]
    },
    {
      "cell_type": "code",
      "execution_count": 10,
      "metadata": {},
      "outputs": [
        {
          "data": {
            "image/png": "[encoded data removed]",
            "text/plain": [
              "<Figure size 400x400 with 1 Axes>"
            ]
          },
          "metadata": {},
          "output_type": "display_data"
        }
      ],
      "source": [
        "plt.figure(figsize=(4, 4))\n",
        "plt.pie(data.isDonate.value_counts(), labels=['0','1'], autopct='%1.1f%%', startangle=90)\n",
        "plt.title('isDonate Distribution')\n",
        "plt.show()"
      ]
    },
    {
      "cell_type": "code",
      "execution_count": null,
      "metadata": {},
      "outputs": [
        {
          "data": {
            "image/png": "[encoded data removed]",
            "text/plain": [
              "<Figure size 1500x1000 with 5 Axes>"
            ]
          },
          "metadata": {},
          "output_type": "display_data"
        }
      ],
      "source": [
        "plt.figure(figsize=(15, 10))\n",
        "for i, column in enumerate(data, 1):\n",
        "    plt.subplot(2, 3, i)\n",
        "    sns.histplot(data[column], kde=True, bins=30)\n",
        "    plt.title(f'Distribution of {column}')\n",
        "plt.tight_layout()\n",
        "plt.show()"
      ]
    },
    {
      "cell_type": "code",
      "execution_count": 13,
      "metadata": {},
      "outputs": [
        {
          "data": {
            "application/vnd.microsoft.datawrangler.viewer.v0+json": {
              "columns": [
                {
                  "name": "index",
                  "rawType": "object",
                  "type": "string"
                },
                {
                  "name": "Months",
                  "rawType": "float64",
                  "type": "float"
                },
                {
                  "name": "Frequencies",
                  "rawType": "float64",
                  "type": "float"
                },
                {
                  "name": "Monetary",
                  "rawType": "float64",
                  "type": "float"
                },
                {
                  "name": "NumMonth",
                  "rawType": "float64",
                  "type": "float"
                },
                {
                  "name": "isDonate",
                  "rawType": "float64",
                  "type": "float"
                }
              ],
              "ref": "893fa148-294d-40f4-bee4-465db70145aa",
              "rows": [
                [
                  "Months",
                  "1.0",
                  "-0.18274546808203868",
                  "-0.18274546808203904",
                  "0.16061809417518472",
                  "-0.2798688674350379"
                ],
                [
                  "Frequencies",
                  "-0.18274546808203868",
                  "1.0",
                  "0.9999999999999999",
                  "0.6349402703229291",
                  "0.21863344180973007"
                ],
                [
                  "Monetary",
                  "-0.18274546808203904",
                  "0.9999999999999999",
                  "1.0",
                  "0.6349402703229291",
                  "0.21863344180973077"
                ],
                [
                  "NumMonth",
                  "0.16061809417518472",
                  "0.6349402703229291",
                  "0.6349402703229291",
                  "1.0",
                  "-0.03585440804425784"
                ],
                [
                  "isDonate",
                  "-0.2798688674350379",
                  "0.21863344180973007",
                  "0.21863344180973077",
                  "-0.03585440804425784",
                  "1.0"
                ]
              ],
              "shape": {
                "columns": 5,
                "rows": 5
              }
            },
            "text/html": [
              "<div>\n",
              "<style scoped>\n",
              "    .dataframe tbody tr th:only-of-type {\n",
              "        vertical-align: middle;\n",
              "    }\n",
              "\n",
              "    .dataframe tbody tr th {\n",
              "        vertical-align: top;\n",
              "    }\n",
              "\n",
              "    .dataframe thead th {\n",
              "        text-align: right;\n",
              "    }\n",
              "</style>\n",
              "<table border=\"1\" class=\"dataframe\">\n",
              "  <thead>\n",
              "    <tr style=\"text-align: right;\">\n",
              "      <th></th>\n",
              "      <th>Months</th>\n",
              "      <th>Frequencies</th>\n",
              "      <th>Monetary</th>\n",
              "      <th>NumMonth</th>\n",
              "      <th>isDonate</th>\n",
              "    </tr>\n",
              "  </thead>\n",
              "  <tbody>\n",
              "    <tr>\n",
              "      <th>Months</th>\n",
              "      <td>1.000000</td>\n",
              "      <td>-0.182745</td>\n",
              "      <td>-0.182745</td>\n",
              "      <td>0.160618</td>\n",
              "      <td>-0.279869</td>\n",
              "    </tr>\n",
              "    <tr>\n",
              "      <th>Frequencies</th>\n",
              "      <td>-0.182745</td>\n",
              "      <td>1.000000</td>\n",
              "      <td>1.000000</td>\n",
              "      <td>0.634940</td>\n",
              "      <td>0.218633</td>\n",
              "    </tr>\n",
              "    <tr>\n",
              "      <th>Monetary</th>\n",
              "      <td>-0.182745</td>\n",
              "      <td>1.000000</td>\n",
              "      <td>1.000000</td>\n",
              "      <td>0.634940</td>\n",
              "      <td>0.218633</td>\n",
              "    </tr>\n",
              "    <tr>\n",
              "      <th>NumMonth</th>\n",
              "      <td>0.160618</td>\n",
              "      <td>0.634940</td>\n",
              "      <td>0.634940</td>\n",
              "      <td>1.000000</td>\n",
              "      <td>-0.035854</td>\n",
              "    </tr>\n",
              "    <tr>\n",
              "      <th>isDonate</th>\n",
              "      <td>-0.279869</td>\n",
              "      <td>0.218633</td>\n",
              "      <td>0.218633</td>\n",
              "      <td>-0.035854</td>\n",
              "      <td>1.000000</td>\n",
              "    </tr>\n",
              "  </tbody>\n",
              "</table>\n",
              "</div>"
            ],
            "text/plain": [
              "               Months  Frequencies  Monetary  NumMonth  isDonate\n",
              "Months       1.000000    -0.182745 -0.182745  0.160618 -0.279869\n",
              "Frequencies -0.182745     1.000000  1.000000  0.634940  0.218633\n",
              "Monetary    -0.182745     1.000000  1.000000  0.634940  0.218633\n",
              "NumMonth     0.160618     0.634940  0.634940  1.000000 -0.035854\n",
              "isDonate    -0.279869     0.218633  0.218633 -0.035854  1.000000"
            ]
          },
          "execution_count": 13,
          "metadata": {},
          "output_type": "execute_result"
        }
      ],
      "source": [
        "data_corr = data.corr()\n",
        "data_corr"
      ]
    },
    {
      "cell_type": "code",
      "execution_count": null,
      "metadata": {},
      "outputs": [
        {
          "data": {
            "image/png": "[encoded data removed]",
            "text/plain": [
              "<Figure size 1000x800 with 2 Axes>"
            ]
          },
          "metadata": {},
          "output_type": "display_data"
        }
      ],
      "source": [
        "plt.figure(figsize=(10, 8))\n",
        "cm = data_corr\n",
        " \n",
        "sns.heatmap(cm, annot=True, cmap='coolwarm', vmin=-1, vmax=1)\n",
        "plt.title('Correlation Matrix', fontsize=17, pad=20)\n",
        "plt.yticks(rotation=0, horizontalalignment='right')\n",
        "plt.gca().xaxis.tick_top()\n",
        "plt.show()"
      ]
    },
    {
      "cell_type": "markdown",
      "metadata": {
        "id": "cpgHfgnSK3ip"
      },
      "source": [
        "# **5. Data Preprocessing**"
      ]
    },
    {
      "cell_type": "markdown",
      "metadata": {},
      "source": [
        "##### 1. Deteksi dan Penanganan Outlier \n",
        "Namun, ini tidak dipakai untuk tahap analisis pada datasetnya karena data yang kedetect outlier bisa jadi informasi penting, maka kita tidak akan menangani data outlier secara matematis dan mengunjungi ke tahap lebih lanjut untuk sementara."
      ]
    },
    {
      "cell_type": "code",
      "execution_count": 15,
      "metadata": {},
      "outputs": [
        {
          "data": {
            "image/png": "[encoded data removed]",
            "text/plain": [
              "<Figure size 500x300 with 1 Axes>"
            ]
          },
          "metadata": {},
          "output_type": "display_data"
        },
        {
          "data": {
            "image/png": "[encoded data removed]",
            "text/plain": [
              "<Figure size 500x300 with 1 Axes>"
            ]
          },
          "metadata": {},
          "output_type": "display_data"
        },
        {
          "data": {
            "image/png": "[encoded data removed]",
            "text/plain": [
              "<Figure size 500x300 with 1 Axes>"
            ]
          },
          "metadata": {},
          "output_type": "display_data"
        },
        {
          "data": {
            "image/png": "[encoded data removed]",
            "text/plain": [
              "<Figure size 500x300 with 1 Axes>"
            ]
          },
          "metadata": {},
          "output_type": "display_data"
        },
        {
          "data": {
            "image/png": "[encoded data removed]",
            "text/plain": [
              "<Figure size 500x300 with 1 Axes>"
            ]
          },
          "metadata": {},
          "output_type": "display_data"
        }
      ],
      "source": [
        "# Mendeteksi Outlier\n",
        "import pandas as pd\n",
        "import seaborn as sns\n",
        "import matplotlib.pyplot as plt\n",
        "\n",
        "for feature in data:\n",
        "    plt.figure(figsize=(5, 3))\n",
        "    sns.boxplot(x=data[feature])\n",
        "    plt.title(f'Box Plot of {feature}')\n",
        "    plt.show()"
      ]
    },
    {
      "cell_type": "code",
      "execution_count": null,
      "metadata": {},
      "outputs": [],
      "source": [
        "# Menghapus outlier\n",
        "Q1 = data.quantile(0.25)\n",
        "Q3 = data.quantile(0.75)\n",
        "IQR = Q3 - Q1\n",
        "batas_bawah, batas_atas = (Q1 - 1.5 * IQR), (Q3 + 1.5 * IQR)\n",
        "\n",
        "condition = ~((data < (Q1 - 1.5 * IQR)) | (data > (Q3 + 1.5 * IQR))).any(axis=1)\n",
        "df_iqr = data.loc[condition, data.columns]"
      ]
    },
    {
      "cell_type": "code",
      "execution_count": 16,
      "metadata": {},
      "outputs": [
        {
          "data": {
            "application/vnd.microsoft.datawrangler.viewer.v0+json": {
              "columns": [
                {
                  "name": "index",
                  "rawType": "int64",
                  "type": "integer"
                },
                {
                  "name": "Months",
                  "rawType": "float64",
                  "type": "float"
                },
                {
                  "name": "Frequencies",
                  "rawType": "int64",
                  "type": "integer"
                },
                {
                  "name": "Monetary",
                  "rawType": "int64",
                  "type": "integer"
                },
                {
                  "name": "NumMonth",
                  "rawType": "int64",
                  "type": "integer"
                },
                {
                  "name": "isDonate",
                  "rawType": "int64",
                  "type": "integer"
                }
              ],
              "ref": "e0c98fcc-62ad-47de-b049-f1e8e28a8950",
              "rows": [
                [
                  "0",
                  "2.0",
                  "50",
                  "12500",
                  "98",
                  "1"
                ],
                [
                  "1",
                  "0.0",
                  "13",
                  "3250",
                  "28",
                  "1"
                ],
                [
                  "2",
                  "1.0",
                  "16",
                  "4000",
                  "35",
                  "1"
                ],
                [
                  "3",
                  "2.0",
                  "20",
                  "5000",
                  "45",
                  "1"
                ],
                [
                  "4",
                  "1.0",
                  "24",
                  "6000",
                  "77",
                  "0"
                ],
                [
                  "5",
                  "4.0",
                  "4",
                  "1000",
                  "4",
                  "0"
                ],
                [
                  "6",
                  "2.0",
                  "7",
                  "1750",
                  "14",
                  "1"
                ],
                [
                  "7",
                  "1.0",
                  "12",
                  "3000",
                  "35",
                  "0"
                ],
                [
                  "8",
                  "2.0",
                  "9",
                  "2250",
                  "22",
                  "1"
                ],
                [
                  "9",
                  "5.0",
                  "46",
                  "11500",
                  "98",
                  "1"
                ],
                [
                  "10",
                  "4.0",
                  "23",
                  "5750",
                  "58",
                  "0"
                ],
                [
                  "11",
                  "0.0",
                  "3",
                  "750",
                  "4",
                  "0"
                ],
                [
                  "12",
                  "2.0",
                  "10",
                  "2500",
                  "28",
                  "1"
                ],
                [
                  "13",
                  "1.0",
                  "13",
                  "3250",
                  "47",
                  "0"
                ],
                [
                  "14",
                  "2.0",
                  "6",
                  "1500",
                  "15",
                  "1"
                ],
                [
                  "15",
                  "2.0",
                  "5",
                  "1250",
                  "11",
                  "1"
                ],
                [
                  "16",
                  "2.0",
                  "14",
                  "3500",
                  "48",
                  "1"
                ],
                [
                  "17",
                  "2.0",
                  "15",
                  "3750",
                  "49",
                  "1"
                ],
                [
                  "18",
                  "2.0",
                  "6",
                  "1500",
                  "15",
                  "1"
                ],
                [
                  "19",
                  "2.0",
                  "3",
                  "750",
                  "4",
                  "1"
                ],
                [
                  "20",
                  "2.0",
                  "3",
                  "750",
                  "4",
                  "1"
                ],
                [
                  "21",
                  "4.0",
                  "11",
                  "2750",
                  "28",
                  "0"
                ],
                [
                  "22",
                  "2.0",
                  "6",
                  "1500",
                  "16",
                  "1"
                ],
                [
                  "23",
                  "2.0",
                  "6",
                  "1500",
                  "16",
                  "1"
                ],
                [
                  "24",
                  "9.0",
                  "9",
                  "2250",
                  "16",
                  "0"
                ],
                [
                  "25",
                  "4.0",
                  "14",
                  "3500",
                  "40",
                  "0"
                ],
                [
                  "26",
                  "4.0",
                  "6",
                  "1500",
                  "14",
                  "0"
                ],
                [
                  "27",
                  "4.0",
                  "12",
                  "3000",
                  "34",
                  "1"
                ],
                [
                  "28",
                  "4.0",
                  "5",
                  "1250",
                  "11",
                  "1"
                ],
                [
                  "29",
                  "4.0",
                  "8",
                  "2000",
                  "21",
                  "0"
                ],
                [
                  "30",
                  "1.0",
                  "14",
                  "3500",
                  "58",
                  "0"
                ],
                [
                  "31",
                  "4.0",
                  "10",
                  "2500",
                  "28",
                  "1"
                ],
                [
                  "32",
                  "4.0",
                  "10",
                  "2500",
                  "28",
                  "1"
                ],
                [
                  "33",
                  "4.0",
                  "9",
                  "2250",
                  "26",
                  "1"
                ],
                [
                  "34",
                  "2.0",
                  "16",
                  "4000",
                  "64",
                  "0"
                ],
                [
                  "35",
                  "2.0",
                  "8",
                  "2000",
                  "28",
                  "1"
                ],
                [
                  "36",
                  "2.0",
                  "12",
                  "3000",
                  "47",
                  "1"
                ],
                [
                  "37",
                  "4.0",
                  "6",
                  "1500",
                  "16",
                  "1"
                ],
                [
                  "38",
                  "2.0",
                  "14",
                  "3500",
                  "57",
                  "1"
                ],
                [
                  "39",
                  "4.0",
                  "7",
                  "1750",
                  "22",
                  "1"
                ],
                [
                  "40",
                  "2.0",
                  "13",
                  "3250",
                  "53",
                  "1"
                ],
                [
                  "41",
                  "2.0",
                  "5",
                  "1250",
                  "16",
                  "0"
                ],
                [
                  "42",
                  "2.0",
                  "5",
                  "1250",
                  "16",
                  "1"
                ],
                [
                  "43",
                  "2.0",
                  "5",
                  "1250",
                  "16",
                  "0"
                ],
                [
                  "44",
                  "4.0",
                  "20",
                  "5000",
                  "69",
                  "1"
                ],
                [
                  "45",
                  "4.0",
                  "9",
                  "2250",
                  "28",
                  "1"
                ],
                [
                  "46",
                  "2.0",
                  "9",
                  "2250",
                  "36",
                  "0"
                ],
                [
                  "47",
                  "2.0",
                  "2",
                  "500",
                  "2",
                  "0"
                ],
                [
                  "48",
                  "2.0",
                  "2",
                  "500",
                  "2",
                  "0"
                ],
                [
                  "49",
                  "2.0",
                  "2",
                  "500",
                  "2",
                  "0"
                ]
              ],
              "shape": {
                "columns": 5,
                "rows": 748
              }
            },
            "text/html": [
              "<div>\n",
              "<style scoped>\n",
              "    .dataframe tbody tr th:only-of-type {\n",
              "        vertical-align: middle;\n",
              "    }\n",
              "\n",
              "    .dataframe tbody tr th {\n",
              "        vertical-align: top;\n",
              "    }\n",
              "\n",
              "    .dataframe thead th {\n",
              "        text-align: right;\n",
              "    }\n",
              "</style>\n",
              "<table border=\"1\" class=\"dataframe\">\n",
              "  <thead>\n",
              "    <tr style=\"text-align: right;\">\n",
              "      <th></th>\n",
              "      <th>Months</th>\n",
              "      <th>Frequencies</th>\n",
              "      <th>Monetary</th>\n",
              "      <th>NumMonth</th>\n",
              "      <th>isDonate</th>\n",
              "    </tr>\n",
              "  </thead>\n",
              "  <tbody>\n",
              "    <tr>\n",
              "      <th>0</th>\n",
              "      <td>2.0</td>\n",
              "      <td>50</td>\n",
              "      <td>12500</td>\n",
              "      <td>98</td>\n",
              "      <td>1</td>\n",
              "    </tr>\n",
              "    <tr>\n",
              "      <th>1</th>\n",
              "      <td>0.0</td>\n",
              "      <td>13</td>\n",
              "      <td>3250</td>\n",
              "      <td>28</td>\n",
              "      <td>1</td>\n",
              "    </tr>\n",
              "    <tr>\n",
              "      <th>2</th>\n",
              "      <td>1.0</td>\n",
              "      <td>16</td>\n",
              "      <td>4000</td>\n",
              "      <td>35</td>\n",
              "      <td>1</td>\n",
              "    </tr>\n",
              "    <tr>\n",
              "      <th>3</th>\n",
              "      <td>2.0</td>\n",
              "      <td>20</td>\n",
              "      <td>5000</td>\n",
              "      <td>45</td>\n",
              "      <td>1</td>\n",
              "    </tr>\n",
              "    <tr>\n",
              "      <th>4</th>\n",
              "      <td>1.0</td>\n",
              "      <td>24</td>\n",
              "      <td>6000</td>\n",
              "      <td>77</td>\n",
              "      <td>0</td>\n",
              "    </tr>\n",
              "    <tr>\n",
              "      <th>...</th>\n",
              "      <td>...</td>\n",
              "      <td>...</td>\n",
              "      <td>...</td>\n",
              "      <td>...</td>\n",
              "      <td>...</td>\n",
              "    </tr>\n",
              "    <tr>\n",
              "      <th>743</th>\n",
              "      <td>23.0</td>\n",
              "      <td>2</td>\n",
              "      <td>500</td>\n",
              "      <td>38</td>\n",
              "      <td>0</td>\n",
              "    </tr>\n",
              "    <tr>\n",
              "      <th>744</th>\n",
              "      <td>21.0</td>\n",
              "      <td>2</td>\n",
              "      <td>500</td>\n",
              "      <td>52</td>\n",
              "      <td>0</td>\n",
              "    </tr>\n",
              "    <tr>\n",
              "      <th>745</th>\n",
              "      <td>23.0</td>\n",
              "      <td>3</td>\n",
              "      <td>750</td>\n",
              "      <td>62</td>\n",
              "      <td>0</td>\n",
              "    </tr>\n",
              "    <tr>\n",
              "      <th>746</th>\n",
              "      <td>7.0</td>\n",
              "      <td>1</td>\n",
              "      <td>250</td>\n",
              "      <td>39</td>\n",
              "      <td>0</td>\n",
              "    </tr>\n",
              "    <tr>\n",
              "      <th>747</th>\n",
              "      <td>7.0</td>\n",
              "      <td>1</td>\n",
              "      <td>250</td>\n",
              "      <td>72</td>\n",
              "      <td>0</td>\n",
              "    </tr>\n",
              "  </tbody>\n",
              "</table>\n",
              "<p>748 rows × 5 columns</p>\n",
              "</div>"
            ],
            "text/plain": [
              "     Months  Frequencies  Monetary  NumMonth  isDonate\n",
              "0       2.0           50     12500        98         1\n",
              "1       0.0           13      3250        28         1\n",
              "2       1.0           16      4000        35         1\n",
              "3       2.0           20      5000        45         1\n",
              "4       1.0           24      6000        77         0\n",
              "..      ...          ...       ...       ...       ...\n",
              "743    23.0            2       500        38         0\n",
              "744    21.0            2       500        52         0\n",
              "745    23.0            3       750        62         0\n",
              "746     7.0            1       250        39         0\n",
              "747     7.0            1       250        72         0\n",
              "\n",
              "[748 rows x 5 columns]"
            ]
          },
          "metadata": {},
          "output_type": "display_data"
        },
        {
          "data": {
            "image/png": "[encoded data removed]",
            "text/plain": [
              "<Figure size 500x300 with 1 Axes>"
            ]
          },
          "metadata": {},
          "output_type": "display_data"
        },
        {
          "data": {
            "application/vnd.microsoft.datawrangler.viewer.v0+json": {
              "columns": [
                {
                  "name": "index",
                  "rawType": "int64",
                  "type": "integer"
                },
                {
                  "name": "Months",
                  "rawType": "float64",
                  "type": "float"
                },
                {
                  "name": "Frequencies",
                  "rawType": "float64",
                  "type": "float"
                },
                {
                  "name": "Monetary",
                  "rawType": "int64",
                  "type": "integer"
                },
                {
                  "name": "NumMonth",
                  "rawType": "int64",
                  "type": "integer"
                },
                {
                  "name": "isDonate",
                  "rawType": "int64",
                  "type": "integer"
                }
              ],
              "ref": "5c1ad705-ba46-408a-9cd1-8fdb4634adc1",
              "rows": [
                [
                  "0",
                  "2.0",
                  "4.0",
                  "12500",
                  "98",
                  "1"
                ],
                [
                  "1",
                  "0.0",
                  "13.0",
                  "3250",
                  "28",
                  "1"
                ],
                [
                  "2",
                  "1.0",
                  "4.0",
                  "4000",
                  "35",
                  "1"
                ],
                [
                  "3",
                  "2.0",
                  "4.0",
                  "5000",
                  "45",
                  "1"
                ],
                [
                  "4",
                  "1.0",
                  "4.0",
                  "6000",
                  "77",
                  "0"
                ],
                [
                  "5",
                  "4.0",
                  "4.0",
                  "1000",
                  "4",
                  "0"
                ],
                [
                  "6",
                  "2.0",
                  "7.0",
                  "1750",
                  "14",
                  "1"
                ],
                [
                  "7",
                  "1.0",
                  "12.0",
                  "3000",
                  "35",
                  "0"
                ],
                [
                  "8",
                  "2.0",
                  "9.0",
                  "2250",
                  "22",
                  "1"
                ],
                [
                  "9",
                  "5.0",
                  "4.0",
                  "11500",
                  "98",
                  "1"
                ],
                [
                  "10",
                  "4.0",
                  "4.0",
                  "5750",
                  "58",
                  "0"
                ],
                [
                  "11",
                  "0.0",
                  "3.0",
                  "750",
                  "4",
                  "0"
                ],
                [
                  "12",
                  "2.0",
                  "10.0",
                  "2500",
                  "28",
                  "1"
                ],
                [
                  "13",
                  "1.0",
                  "13.0",
                  "3250",
                  "47",
                  "0"
                ],
                [
                  "14",
                  "2.0",
                  "6.0",
                  "1500",
                  "15",
                  "1"
                ],
                [
                  "15",
                  "2.0",
                  "5.0",
                  "1250",
                  "11",
                  "1"
                ],
                [
                  "16",
                  "2.0",
                  "14.0",
                  "3500",
                  "48",
                  "1"
                ],
                [
                  "17",
                  "2.0",
                  "4.0",
                  "3750",
                  "49",
                  "1"
                ],
                [
                  "18",
                  "2.0",
                  "6.0",
                  "1500",
                  "15",
                  "1"
                ],
                [
                  "19",
                  "2.0",
                  "3.0",
                  "750",
                  "4",
                  "1"
                ],
                [
                  "20",
                  "2.0",
                  "3.0",
                  "750",
                  "4",
                  "1"
                ],
                [
                  "21",
                  "4.0",
                  "11.0",
                  "2750",
                  "28",
                  "0"
                ],
                [
                  "22",
                  "2.0",
                  "6.0",
                  "1500",
                  "16",
                  "1"
                ],
                [
                  "23",
                  "2.0",
                  "6.0",
                  "1500",
                  "16",
                  "1"
                ],
                [
                  "24",
                  "9.0",
                  "9.0",
                  "2250",
                  "16",
                  "0"
                ],
                [
                  "25",
                  "4.0",
                  "14.0",
                  "3500",
                  "40",
                  "0"
                ],
                [
                  "26",
                  "4.0",
                  "6.0",
                  "1500",
                  "14",
                  "0"
                ],
                [
                  "27",
                  "4.0",
                  "12.0",
                  "3000",
                  "34",
                  "1"
                ],
                [
                  "28",
                  "4.0",
                  "5.0",
                  "1250",
                  "11",
                  "1"
                ],
                [
                  "29",
                  "4.0",
                  "8.0",
                  "2000",
                  "21",
                  "0"
                ],
                [
                  "30",
                  "1.0",
                  "14.0",
                  "3500",
                  "58",
                  "0"
                ],
                [
                  "31",
                  "4.0",
                  "10.0",
                  "2500",
                  "28",
                  "1"
                ],
                [
                  "32",
                  "4.0",
                  "10.0",
                  "2500",
                  "28",
                  "1"
                ],
                [
                  "33",
                  "4.0",
                  "9.0",
                  "2250",
                  "26",
                  "1"
                ],
                [
                  "34",
                  "2.0",
                  "4.0",
                  "4000",
                  "64",
                  "0"
                ],
                [
                  "35",
                  "2.0",
                  "8.0",
                  "2000",
                  "28",
                  "1"
                ],
                [
                  "36",
                  "2.0",
                  "12.0",
                  "3000",
                  "47",
                  "1"
                ],
                [
                  "37",
                  "4.0",
                  "6.0",
                  "1500",
                  "16",
                  "1"
                ],
                [
                  "38",
                  "2.0",
                  "14.0",
                  "3500",
                  "57",
                  "1"
                ],
                [
                  "39",
                  "4.0",
                  "7.0",
                  "1750",
                  "22",
                  "1"
                ],
                [
                  "40",
                  "2.0",
                  "13.0",
                  "3250",
                  "53",
                  "1"
                ],
                [
                  "41",
                  "2.0",
                  "5.0",
                  "1250",
                  "16",
                  "0"
                ],
                [
                  "42",
                  "2.0",
                  "5.0",
                  "1250",
                  "16",
                  "1"
                ],
                [
                  "43",
                  "2.0",
                  "5.0",
                  "1250",
                  "16",
                  "0"
                ],
                [
                  "44",
                  "4.0",
                  "4.0",
                  "5000",
                  "69",
                  "1"
                ],
                [
                  "45",
                  "4.0",
                  "9.0",
                  "2250",
                  "28",
                  "1"
                ],
                [
                  "46",
                  "2.0",
                  "9.0",
                  "2250",
                  "36",
                  "0"
                ],
                [
                  "47",
                  "2.0",
                  "2.0",
                  "500",
                  "2",
                  "0"
                ],
                [
                  "48",
                  "2.0",
                  "2.0",
                  "500",
                  "2",
                  "0"
                ],
                [
                  "49",
                  "2.0",
                  "2.0",
                  "500",
                  "2",
                  "0"
                ]
              ],
              "shape": {
                "columns": 5,
                "rows": 748
              }
            },
            "text/html": [
              "<div>\n",
              "<style scoped>\n",
              "    .dataframe tbody tr th:only-of-type {\n",
              "        vertical-align: middle;\n",
              "    }\n",
              "\n",
              "    .dataframe tbody tr th {\n",
              "        vertical-align: top;\n",
              "    }\n",
              "\n",
              "    .dataframe thead th {\n",
              "        text-align: right;\n",
              "    }\n",
              "</style>\n",
              "<table border=\"1\" class=\"dataframe\">\n",
              "  <thead>\n",
              "    <tr style=\"text-align: right;\">\n",
              "      <th></th>\n",
              "      <th>Months</th>\n",
              "      <th>Frequencies</th>\n",
              "      <th>Monetary</th>\n",
              "      <th>NumMonth</th>\n",
              "      <th>isDonate</th>\n",
              "    </tr>\n",
              "  </thead>\n",
              "  <tbody>\n",
              "    <tr>\n",
              "      <th>0</th>\n",
              "      <td>2.0</td>\n",
              "      <td>4.0</td>\n",
              "      <td>12500</td>\n",
              "      <td>98</td>\n",
              "      <td>1</td>\n",
              "    </tr>\n",
              "    <tr>\n",
              "      <th>1</th>\n",
              "      <td>0.0</td>\n",
              "      <td>13.0</td>\n",
              "      <td>3250</td>\n",
              "      <td>28</td>\n",
              "      <td>1</td>\n",
              "    </tr>\n",
              "    <tr>\n",
              "      <th>2</th>\n",
              "      <td>1.0</td>\n",
              "      <td>4.0</td>\n",
              "      <td>4000</td>\n",
              "      <td>35</td>\n",
              "      <td>1</td>\n",
              "    </tr>\n",
              "    <tr>\n",
              "      <th>3</th>\n",
              "      <td>2.0</td>\n",
              "      <td>4.0</td>\n",
              "      <td>5000</td>\n",
              "      <td>45</td>\n",
              "      <td>1</td>\n",
              "    </tr>\n",
              "    <tr>\n",
              "      <th>4</th>\n",
              "      <td>1.0</td>\n",
              "      <td>4.0</td>\n",
              "      <td>6000</td>\n",
              "      <td>77</td>\n",
              "      <td>0</td>\n",
              "    </tr>\n",
              "    <tr>\n",
              "      <th>...</th>\n",
              "      <td>...</td>\n",
              "      <td>...</td>\n",
              "      <td>...</td>\n",
              "      <td>...</td>\n",
              "      <td>...</td>\n",
              "    </tr>\n",
              "    <tr>\n",
              "      <th>743</th>\n",
              "      <td>23.0</td>\n",
              "      <td>2.0</td>\n",
              "      <td>500</td>\n",
              "      <td>38</td>\n",
              "      <td>0</td>\n",
              "    </tr>\n",
              "    <tr>\n",
              "      <th>744</th>\n",
              "      <td>21.0</td>\n",
              "      <td>2.0</td>\n",
              "      <td>500</td>\n",
              "      <td>52</td>\n",
              "      <td>0</td>\n",
              "    </tr>\n",
              "    <tr>\n",
              "      <th>745</th>\n",
              "      <td>23.0</td>\n",
              "      <td>3.0</td>\n",
              "      <td>750</td>\n",
              "      <td>62</td>\n",
              "      <td>0</td>\n",
              "    </tr>\n",
              "    <tr>\n",
              "      <th>746</th>\n",
              "      <td>7.0</td>\n",
              "      <td>1.0</td>\n",
              "      <td>250</td>\n",
              "      <td>39</td>\n",
              "      <td>0</td>\n",
              "    </tr>\n",
              "    <tr>\n",
              "      <th>747</th>\n",
              "      <td>7.0</td>\n",
              "      <td>1.0</td>\n",
              "      <td>250</td>\n",
              "      <td>72</td>\n",
              "      <td>0</td>\n",
              "    </tr>\n",
              "  </tbody>\n",
              "</table>\n",
              "<p>748 rows × 5 columns</p>\n",
              "</div>"
            ],
            "text/plain": [
              "     Months  Frequencies  Monetary  NumMonth  isDonate\n",
              "0       2.0          4.0     12500        98         1\n",
              "1       0.0         13.0      3250        28         1\n",
              "2       1.0          4.0      4000        35         1\n",
              "3       2.0          4.0      5000        45         1\n",
              "4       1.0          4.0      6000        77         0\n",
              "..      ...          ...       ...       ...       ...\n",
              "743    23.0          2.0       500        38         0\n",
              "744    21.0          2.0       500        52         0\n",
              "745    23.0          3.0       750        62         0\n",
              "746     7.0          1.0       250        39         0\n",
              "747     7.0          1.0       250        72         0\n",
              "\n",
              "[748 rows x 5 columns]"
            ]
          },
          "metadata": {},
          "output_type": "display_data"
        },
        {
          "data": {
            "image/png": "[encoded data removed]",
            "text/plain": [
              "<Figure size 500x300 with 1 Axes>"
            ]
          },
          "metadata": {},
          "output_type": "display_data"
        },
        {
          "data": {
            "application/vnd.microsoft.datawrangler.viewer.v0+json": {
              "columns": [
                {
                  "name": "index",
                  "rawType": "int64",
                  "type": "integer"
                },
                {
                  "name": "Months",
                  "rawType": "float64",
                  "type": "float"
                },
                {
                  "name": "Frequencies",
                  "rawType": "float64",
                  "type": "float"
                },
                {
                  "name": "Monetary",
                  "rawType": "float64",
                  "type": "float"
                },
                {
                  "name": "NumMonth",
                  "rawType": "int64",
                  "type": "integer"
                },
                {
                  "name": "isDonate",
                  "rawType": "int64",
                  "type": "integer"
                }
              ],
              "ref": "31bfdac5-6179-4504-ab34-9af490c3afc3",
              "rows": [
                [
                  "0",
                  "2.0",
                  "4.0",
                  "1000.0",
                  "98",
                  "1"
                ],
                [
                  "1",
                  "0.0",
                  "13.0",
                  "3250.0",
                  "28",
                  "1"
                ],
                [
                  "2",
                  "1.0",
                  "4.0",
                  "1000.0",
                  "35",
                  "1"
                ],
                [
                  "3",
                  "2.0",
                  "4.0",
                  "1000.0",
                  "45",
                  "1"
                ],
                [
                  "4",
                  "1.0",
                  "4.0",
                  "1000.0",
                  "77",
                  "0"
                ],
                [
                  "5",
                  "4.0",
                  "4.0",
                  "1000.0",
                  "4",
                  "0"
                ],
                [
                  "6",
                  "2.0",
                  "7.0",
                  "1750.0",
                  "14",
                  "1"
                ],
                [
                  "7",
                  "1.0",
                  "12.0",
                  "3000.0",
                  "35",
                  "0"
                ],
                [
                  "8",
                  "2.0",
                  "9.0",
                  "2250.0",
                  "22",
                  "1"
                ],
                [
                  "9",
                  "5.0",
                  "4.0",
                  "1000.0",
                  "98",
                  "1"
                ],
                [
                  "10",
                  "4.0",
                  "4.0",
                  "1000.0",
                  "58",
                  "0"
                ],
                [
                  "11",
                  "0.0",
                  "3.0",
                  "750.0",
                  "4",
                  "0"
                ],
                [
                  "12",
                  "2.0",
                  "10.0",
                  "2500.0",
                  "28",
                  "1"
                ],
                [
                  "13",
                  "1.0",
                  "13.0",
                  "3250.0",
                  "47",
                  "0"
                ],
                [
                  "14",
                  "2.0",
                  "6.0",
                  "1500.0",
                  "15",
                  "1"
                ],
                [
                  "15",
                  "2.0",
                  "5.0",
                  "1250.0",
                  "11",
                  "1"
                ],
                [
                  "16",
                  "2.0",
                  "14.0",
                  "3500.0",
                  "48",
                  "1"
                ],
                [
                  "17",
                  "2.0",
                  "4.0",
                  "1000.0",
                  "49",
                  "1"
                ],
                [
                  "18",
                  "2.0",
                  "6.0",
                  "1500.0",
                  "15",
                  "1"
                ],
                [
                  "19",
                  "2.0",
                  "3.0",
                  "750.0",
                  "4",
                  "1"
                ],
                [
                  "20",
                  "2.0",
                  "3.0",
                  "750.0",
                  "4",
                  "1"
                ],
                [
                  "21",
                  "4.0",
                  "11.0",
                  "2750.0",
                  "28",
                  "0"
                ],
                [
                  "22",
                  "2.0",
                  "6.0",
                  "1500.0",
                  "16",
                  "1"
                ],
                [
                  "23",
                  "2.0",
                  "6.0",
                  "1500.0",
                  "16",
                  "1"
                ],
                [
                  "24",
                  "9.0",
                  "9.0",
                  "2250.0",
                  "16",
                  "0"
                ],
                [
                  "25",
                  "4.0",
                  "14.0",
                  "3500.0",
                  "40",
                  "0"
                ],
                [
                  "26",
                  "4.0",
                  "6.0",
                  "1500.0",
                  "14",
                  "0"
                ],
                [
                  "27",
                  "4.0",
                  "12.0",
                  "3000.0",
                  "34",
                  "1"
                ],
                [
                  "28",
                  "4.0",
                  "5.0",
                  "1250.0",
                  "11",
                  "1"
                ],
                [
                  "29",
                  "4.0",
                  "8.0",
                  "2000.0",
                  "21",
                  "0"
                ],
                [
                  "30",
                  "1.0",
                  "14.0",
                  "3500.0",
                  "58",
                  "0"
                ],
                [
                  "31",
                  "4.0",
                  "10.0",
                  "2500.0",
                  "28",
                  "1"
                ],
                [
                  "32",
                  "4.0",
                  "10.0",
                  "2500.0",
                  "28",
                  "1"
                ],
                [
                  "33",
                  "4.0",
                  "9.0",
                  "2250.0",
                  "26",
                  "1"
                ],
                [
                  "34",
                  "2.0",
                  "4.0",
                  "1000.0",
                  "64",
                  "0"
                ],
                [
                  "35",
                  "2.0",
                  "8.0",
                  "2000.0",
                  "28",
                  "1"
                ],
                [
                  "36",
                  "2.0",
                  "12.0",
                  "3000.0",
                  "47",
                  "1"
                ],
                [
                  "37",
                  "4.0",
                  "6.0",
                  "1500.0",
                  "16",
                  "1"
                ],
                [
                  "38",
                  "2.0",
                  "14.0",
                  "3500.0",
                  "57",
                  "1"
                ],
                [
                  "39",
                  "4.0",
                  "7.0",
                  "1750.0",
                  "22",
                  "1"
                ],
                [
                  "40",
                  "2.0",
                  "13.0",
                  "3250.0",
                  "53",
                  "1"
                ],
                [
                  "41",
                  "2.0",
                  "5.0",
                  "1250.0",
                  "16",
                  "0"
                ],
                [
                  "42",
                  "2.0",
                  "5.0",
                  "1250.0",
                  "16",
                  "1"
                ],
                [
                  "43",
                  "2.0",
                  "5.0",
                  "1250.0",
                  "16",
                  "0"
                ],
                [
                  "44",
                  "4.0",
                  "4.0",
                  "1000.0",
                  "69",
                  "1"
                ],
                [
                  "45",
                  "4.0",
                  "9.0",
                  "2250.0",
                  "28",
                  "1"
                ],
                [
                  "46",
                  "2.0",
                  "9.0",
                  "2250.0",
                  "36",
                  "0"
                ],
                [
                  "47",
                  "2.0",
                  "2.0",
                  "500.0",
                  "2",
                  "0"
                ],
                [
                  "48",
                  "2.0",
                  "2.0",
                  "500.0",
                  "2",
                  "0"
                ],
                [
                  "49",
                  "2.0",
                  "2.0",
                  "500.0",
                  "2",
                  "0"
                ]
              ],
              "shape": {
                "columns": 5,
                "rows": 748
              }
            },
            "text/html": [
              "<div>\n",
              "<style scoped>\n",
              "    .dataframe tbody tr th:only-of-type {\n",
              "        vertical-align: middle;\n",
              "    }\n",
              "\n",
              "    .dataframe tbody tr th {\n",
              "        vertical-align: top;\n",
              "    }\n",
              "\n",
              "    .dataframe thead th {\n",
              "        text-align: right;\n",
              "    }\n",
              "</style>\n",
              "<table border=\"1\" class=\"dataframe\">\n",
              "  <thead>\n",
              "    <tr style=\"text-align: right;\">\n",
              "      <th></th>\n",
              "      <th>Months</th>\n",
              "      <th>Frequencies</th>\n",
              "      <th>Monetary</th>\n",
              "      <th>NumMonth</th>\n",
              "      <th>isDonate</th>\n",
              "    </tr>\n",
              "  </thead>\n",
              "  <tbody>\n",
              "    <tr>\n",
              "      <th>0</th>\n",
              "      <td>2.0</td>\n",
              "      <td>4.0</td>\n",
              "      <td>1000.0</td>\n",
              "      <td>98</td>\n",
              "      <td>1</td>\n",
              "    </tr>\n",
              "    <tr>\n",
              "      <th>1</th>\n",
              "      <td>0.0</td>\n",
              "      <td>13.0</td>\n",
              "      <td>3250.0</td>\n",
              "      <td>28</td>\n",
              "      <td>1</td>\n",
              "    </tr>\n",
              "    <tr>\n",
              "      <th>2</th>\n",
              "      <td>1.0</td>\n",
              "      <td>4.0</td>\n",
              "      <td>1000.0</td>\n",
              "      <td>35</td>\n",
              "      <td>1</td>\n",
              "    </tr>\n",
              "    <tr>\n",
              "      <th>3</th>\n",
              "      <td>2.0</td>\n",
              "      <td>4.0</td>\n",
              "      <td>1000.0</td>\n",
              "      <td>45</td>\n",
              "      <td>1</td>\n",
              "    </tr>\n",
              "    <tr>\n",
              "      <th>4</th>\n",
              "      <td>1.0</td>\n",
              "      <td>4.0</td>\n",
              "      <td>1000.0</td>\n",
              "      <td>77</td>\n",
              "      <td>0</td>\n",
              "    </tr>\n",
              "    <tr>\n",
              "      <th>...</th>\n",
              "      <td>...</td>\n",
              "      <td>...</td>\n",
              "      <td>...</td>\n",
              "      <td>...</td>\n",
              "      <td>...</td>\n",
              "    </tr>\n",
              "    <tr>\n",
              "      <th>743</th>\n",
              "      <td>23.0</td>\n",
              "      <td>2.0</td>\n",
              "      <td>500.0</td>\n",
              "      <td>38</td>\n",
              "      <td>0</td>\n",
              "    </tr>\n",
              "    <tr>\n",
              "      <th>744</th>\n",
              "      <td>21.0</td>\n",
              "      <td>2.0</td>\n",
              "      <td>500.0</td>\n",
              "      <td>52</td>\n",
              "      <td>0</td>\n",
              "    </tr>\n",
              "    <tr>\n",
              "      <th>745</th>\n",
              "      <td>23.0</td>\n",
              "      <td>3.0</td>\n",
              "      <td>750.0</td>\n",
              "      <td>62</td>\n",
              "      <td>0</td>\n",
              "    </tr>\n",
              "    <tr>\n",
              "      <th>746</th>\n",
              "      <td>7.0</td>\n",
              "      <td>1.0</td>\n",
              "      <td>250.0</td>\n",
              "      <td>39</td>\n",
              "      <td>0</td>\n",
              "    </tr>\n",
              "    <tr>\n",
              "      <th>747</th>\n",
              "      <td>7.0</td>\n",
              "      <td>1.0</td>\n",
              "      <td>250.0</td>\n",
              "      <td>72</td>\n",
              "      <td>0</td>\n",
              "    </tr>\n",
              "  </tbody>\n",
              "</table>\n",
              "<p>748 rows × 5 columns</p>\n",
              "</div>"
            ],
            "text/plain": [
              "     Months  Frequencies  Monetary  NumMonth  isDonate\n",
              "0       2.0          4.0    1000.0        98         1\n",
              "1       0.0         13.0    3250.0        28         1\n",
              "2       1.0          4.0    1000.0        35         1\n",
              "3       2.0          4.0    1000.0        45         1\n",
              "4       1.0          4.0    1000.0        77         0\n",
              "..      ...          ...       ...       ...       ...\n",
              "743    23.0          2.0     500.0        38         0\n",
              "744    21.0          2.0     500.0        52         0\n",
              "745    23.0          3.0     750.0        62         0\n",
              "746     7.0          1.0     250.0        39         0\n",
              "747     7.0          1.0     250.0        72         0\n",
              "\n",
              "[748 rows x 5 columns]"
            ]
          },
          "metadata": {},
          "output_type": "display_data"
        },
        {
          "data": {
            "image/png": "[encoded data removed]",
            "text/plain": [
              "<Figure size 500x300 with 1 Axes>"
            ]
          },
          "metadata": {},
          "output_type": "display_data"
        },
        {
          "data": {
            "application/vnd.microsoft.datawrangler.viewer.v0+json": {
              "columns": [
                {
                  "name": "index",
                  "rawType": "int64",
                  "type": "integer"
                },
                {
                  "name": "Months",
                  "rawType": "float64",
                  "type": "float"
                },
                {
                  "name": "Frequencies",
                  "rawType": "float64",
                  "type": "float"
                },
                {
                  "name": "Monetary",
                  "rawType": "float64",
                  "type": "float"
                },
                {
                  "name": "NumMonth",
                  "rawType": "int64",
                  "type": "integer"
                },
                {
                  "name": "isDonate",
                  "rawType": "int64",
                  "type": "integer"
                }
              ],
              "ref": "6cded945-95cd-4080-be6e-704bb7b1dcdc",
              "rows": [
                [
                  "0",
                  "2.0",
                  "4.0",
                  "1000.0",
                  "98",
                  "1"
                ],
                [
                  "1",
                  "0.0",
                  "13.0",
                  "3250.0",
                  "28",
                  "1"
                ],
                [
                  "2",
                  "1.0",
                  "4.0",
                  "1000.0",
                  "35",
                  "1"
                ],
                [
                  "3",
                  "2.0",
                  "4.0",
                  "1000.0",
                  "45",
                  "1"
                ],
                [
                  "4",
                  "1.0",
                  "4.0",
                  "1000.0",
                  "77",
                  "0"
                ],
                [
                  "5",
                  "4.0",
                  "4.0",
                  "1000.0",
                  "4",
                  "0"
                ],
                [
                  "6",
                  "2.0",
                  "7.0",
                  "1750.0",
                  "14",
                  "1"
                ],
                [
                  "7",
                  "1.0",
                  "12.0",
                  "3000.0",
                  "35",
                  "0"
                ],
                [
                  "8",
                  "2.0",
                  "9.0",
                  "2250.0",
                  "22",
                  "1"
                ],
                [
                  "9",
                  "5.0",
                  "4.0",
                  "1000.0",
                  "98",
                  "1"
                ],
                [
                  "10",
                  "4.0",
                  "4.0",
                  "1000.0",
                  "58",
                  "0"
                ],
                [
                  "11",
                  "0.0",
                  "3.0",
                  "750.0",
                  "4",
                  "0"
                ],
                [
                  "12",
                  "2.0",
                  "10.0",
                  "2500.0",
                  "28",
                  "1"
                ],
                [
                  "13",
                  "1.0",
                  "13.0",
                  "3250.0",
                  "47",
                  "0"
                ],
                [
                  "14",
                  "2.0",
                  "6.0",
                  "1500.0",
                  "15",
                  "1"
                ],
                [
                  "15",
                  "2.0",
                  "5.0",
                  "1250.0",
                  "11",
                  "1"
                ],
                [
                  "16",
                  "2.0",
                  "14.0",
                  "3500.0",
                  "48",
                  "1"
                ],
                [
                  "17",
                  "2.0",
                  "4.0",
                  "1000.0",
                  "49",
                  "1"
                ],
                [
                  "18",
                  "2.0",
                  "6.0",
                  "1500.0",
                  "15",
                  "1"
                ],
                [
                  "19",
                  "2.0",
                  "3.0",
                  "750.0",
                  "4",
                  "1"
                ],
                [
                  "20",
                  "2.0",
                  "3.0",
                  "750.0",
                  "4",
                  "1"
                ],
                [
                  "21",
                  "4.0",
                  "11.0",
                  "2750.0",
                  "28",
                  "0"
                ],
                [
                  "22",
                  "2.0",
                  "6.0",
                  "1500.0",
                  "16",
                  "1"
                ],
                [
                  "23",
                  "2.0",
                  "6.0",
                  "1500.0",
                  "16",
                  "1"
                ],
                [
                  "24",
                  "9.0",
                  "9.0",
                  "2250.0",
                  "16",
                  "0"
                ],
                [
                  "25",
                  "4.0",
                  "14.0",
                  "3500.0",
                  "40",
                  "0"
                ],
                [
                  "26",
                  "4.0",
                  "6.0",
                  "1500.0",
                  "14",
                  "0"
                ],
                [
                  "27",
                  "4.0",
                  "12.0",
                  "3000.0",
                  "34",
                  "1"
                ],
                [
                  "28",
                  "4.0",
                  "5.0",
                  "1250.0",
                  "11",
                  "1"
                ],
                [
                  "29",
                  "4.0",
                  "8.0",
                  "2000.0",
                  "21",
                  "0"
                ],
                [
                  "30",
                  "1.0",
                  "14.0",
                  "3500.0",
                  "58",
                  "0"
                ],
                [
                  "31",
                  "4.0",
                  "10.0",
                  "2500.0",
                  "28",
                  "1"
                ],
                [
                  "32",
                  "4.0",
                  "10.0",
                  "2500.0",
                  "28",
                  "1"
                ],
                [
                  "33",
                  "4.0",
                  "9.0",
                  "2250.0",
                  "26",
                  "1"
                ],
                [
                  "34",
                  "2.0",
                  "4.0",
                  "1000.0",
                  "64",
                  "0"
                ],
                [
                  "35",
                  "2.0",
                  "8.0",
                  "2000.0",
                  "28",
                  "1"
                ],
                [
                  "36",
                  "2.0",
                  "12.0",
                  "3000.0",
                  "47",
                  "1"
                ],
                [
                  "37",
                  "4.0",
                  "6.0",
                  "1500.0",
                  "16",
                  "1"
                ],
                [
                  "38",
                  "2.0",
                  "14.0",
                  "3500.0",
                  "57",
                  "1"
                ],
                [
                  "39",
                  "4.0",
                  "7.0",
                  "1750.0",
                  "22",
                  "1"
                ],
                [
                  "40",
                  "2.0",
                  "13.0",
                  "3250.0",
                  "53",
                  "1"
                ],
                [
                  "41",
                  "2.0",
                  "5.0",
                  "1250.0",
                  "16",
                  "0"
                ],
                [
                  "42",
                  "2.0",
                  "5.0",
                  "1250.0",
                  "16",
                  "1"
                ],
                [
                  "43",
                  "2.0",
                  "5.0",
                  "1250.0",
                  "16",
                  "0"
                ],
                [
                  "44",
                  "4.0",
                  "4.0",
                  "1000.0",
                  "69",
                  "1"
                ],
                [
                  "45",
                  "4.0",
                  "9.0",
                  "2250.0",
                  "28",
                  "1"
                ],
                [
                  "46",
                  "2.0",
                  "9.0",
                  "2250.0",
                  "36",
                  "0"
                ],
                [
                  "47",
                  "2.0",
                  "2.0",
                  "500.0",
                  "2",
                  "0"
                ],
                [
                  "48",
                  "2.0",
                  "2.0",
                  "500.0",
                  "2",
                  "0"
                ],
                [
                  "49",
                  "2.0",
                  "2.0",
                  "500.0",
                  "2",
                  "0"
                ]
              ],
              "shape": {
                "columns": 5,
                "rows": 748
              }
            },
            "text/html": [
              "<div>\n",
              "<style scoped>\n",
              "    .dataframe tbody tr th:only-of-type {\n",
              "        vertical-align: middle;\n",
              "    }\n",
              "\n",
              "    .dataframe tbody tr th {\n",
              "        vertical-align: top;\n",
              "    }\n",
              "\n",
              "    .dataframe thead th {\n",
              "        text-align: right;\n",
              "    }\n",
              "</style>\n",
              "<table border=\"1\" class=\"dataframe\">\n",
              "  <thead>\n",
              "    <tr style=\"text-align: right;\">\n",
              "      <th></th>\n",
              "      <th>Months</th>\n",
              "      <th>Frequencies</th>\n",
              "      <th>Monetary</th>\n",
              "      <th>NumMonth</th>\n",
              "      <th>isDonate</th>\n",
              "    </tr>\n",
              "  </thead>\n",
              "  <tbody>\n",
              "    <tr>\n",
              "      <th>0</th>\n",
              "      <td>2.0</td>\n",
              "      <td>4.0</td>\n",
              "      <td>1000.0</td>\n",
              "      <td>98</td>\n",
              "      <td>1</td>\n",
              "    </tr>\n",
              "    <tr>\n",
              "      <th>1</th>\n",
              "      <td>0.0</td>\n",
              "      <td>13.0</td>\n",
              "      <td>3250.0</td>\n",
              "      <td>28</td>\n",
              "      <td>1</td>\n",
              "    </tr>\n",
              "    <tr>\n",
              "      <th>2</th>\n",
              "      <td>1.0</td>\n",
              "      <td>4.0</td>\n",
              "      <td>1000.0</td>\n",
              "      <td>35</td>\n",
              "      <td>1</td>\n",
              "    </tr>\n",
              "    <tr>\n",
              "      <th>3</th>\n",
              "      <td>2.0</td>\n",
              "      <td>4.0</td>\n",
              "      <td>1000.0</td>\n",
              "      <td>45</td>\n",
              "      <td>1</td>\n",
              "    </tr>\n",
              "    <tr>\n",
              "      <th>4</th>\n",
              "      <td>1.0</td>\n",
              "      <td>4.0</td>\n",
              "      <td>1000.0</td>\n",
              "      <td>77</td>\n",
              "      <td>0</td>\n",
              "    </tr>\n",
              "    <tr>\n",
              "      <th>...</th>\n",
              "      <td>...</td>\n",
              "      <td>...</td>\n",
              "      <td>...</td>\n",
              "      <td>...</td>\n",
              "      <td>...</td>\n",
              "    </tr>\n",
              "    <tr>\n",
              "      <th>743</th>\n",
              "      <td>23.0</td>\n",
              "      <td>2.0</td>\n",
              "      <td>500.0</td>\n",
              "      <td>38</td>\n",
              "      <td>0</td>\n",
              "    </tr>\n",
              "    <tr>\n",
              "      <th>744</th>\n",
              "      <td>21.0</td>\n",
              "      <td>2.0</td>\n",
              "      <td>500.0</td>\n",
              "      <td>52</td>\n",
              "      <td>0</td>\n",
              "    </tr>\n",
              "    <tr>\n",
              "      <th>745</th>\n",
              "      <td>23.0</td>\n",
              "      <td>3.0</td>\n",
              "      <td>750.0</td>\n",
              "      <td>62</td>\n",
              "      <td>0</td>\n",
              "    </tr>\n",
              "    <tr>\n",
              "      <th>746</th>\n",
              "      <td>7.0</td>\n",
              "      <td>1.0</td>\n",
              "      <td>250.0</td>\n",
              "      <td>39</td>\n",
              "      <td>0</td>\n",
              "    </tr>\n",
              "    <tr>\n",
              "      <th>747</th>\n",
              "      <td>7.0</td>\n",
              "      <td>1.0</td>\n",
              "      <td>250.0</td>\n",
              "      <td>72</td>\n",
              "      <td>0</td>\n",
              "    </tr>\n",
              "  </tbody>\n",
              "</table>\n",
              "<p>748 rows × 5 columns</p>\n",
              "</div>"
            ],
            "text/plain": [
              "     Months  Frequencies  Monetary  NumMonth  isDonate\n",
              "0       2.0          4.0    1000.0        98         1\n",
              "1       0.0         13.0    3250.0        28         1\n",
              "2       1.0          4.0    1000.0        35         1\n",
              "3       2.0          4.0    1000.0        45         1\n",
              "4       1.0          4.0    1000.0        77         0\n",
              "..      ...          ...       ...       ...       ...\n",
              "743    23.0          2.0     500.0        38         0\n",
              "744    21.0          2.0     500.0        52         0\n",
              "745    23.0          3.0     750.0        62         0\n",
              "746     7.0          1.0     250.0        39         0\n",
              "747     7.0          1.0     250.0        72         0\n",
              "\n",
              "[748 rows x 5 columns]"
            ]
          },
          "metadata": {},
          "output_type": "display_data"
        },
        {
          "data": {
            "image/png": "[encoded data removed]",
            "text/plain": [
              "<Figure size 500x300 with 1 Axes>"
            ]
          },
          "metadata": {},
          "output_type": "display_data"
        },
        {
          "data": {
            "application/vnd.microsoft.datawrangler.viewer.v0+json": {
              "columns": [
                {
                  "name": "index",
                  "rawType": "int64",
                  "type": "integer"
                },
                {
                  "name": "Months",
                  "rawType": "float64",
                  "type": "float"
                },
                {
                  "name": "Frequencies",
                  "rawType": "float64",
                  "type": "float"
                },
                {
                  "name": "Monetary",
                  "rawType": "float64",
                  "type": "float"
                },
                {
                  "name": "NumMonth",
                  "rawType": "int64",
                  "type": "integer"
                },
                {
                  "name": "isDonate",
                  "rawType": "float64",
                  "type": "float"
                }
              ],
              "ref": "11c15b5b-aaa9-4714-ae3f-e2d12a1e94f1",
              "rows": [
                [
                  "0",
                  "2.0",
                  "4.0",
                  "1000.0",
                  "98",
                  "0.0"
                ],
                [
                  "1",
                  "0.0",
                  "13.0",
                  "3250.0",
                  "28",
                  "0.0"
                ],
                [
                  "2",
                  "1.0",
                  "4.0",
                  "1000.0",
                  "35",
                  "0.0"
                ],
                [
                  "3",
                  "2.0",
                  "4.0",
                  "1000.0",
                  "45",
                  "0.0"
                ],
                [
                  "4",
                  "1.0",
                  "4.0",
                  "1000.0",
                  "77",
                  "0.0"
                ],
                [
                  "5",
                  "4.0",
                  "4.0",
                  "1000.0",
                  "4",
                  "0.0"
                ],
                [
                  "6",
                  "2.0",
                  "7.0",
                  "1750.0",
                  "14",
                  "0.0"
                ],
                [
                  "7",
                  "1.0",
                  "12.0",
                  "3000.0",
                  "35",
                  "0.0"
                ],
                [
                  "8",
                  "2.0",
                  "9.0",
                  "2250.0",
                  "22",
                  "0.0"
                ],
                [
                  "9",
                  "5.0",
                  "4.0",
                  "1000.0",
                  "98",
                  "0.0"
                ],
                [
                  "10",
                  "4.0",
                  "4.0",
                  "1000.0",
                  "58",
                  "0.0"
                ],
                [
                  "11",
                  "0.0",
                  "3.0",
                  "750.0",
                  "4",
                  "0.0"
                ],
                [
                  "12",
                  "2.0",
                  "10.0",
                  "2500.0",
                  "28",
                  "0.0"
                ],
                [
                  "13",
                  "1.0",
                  "13.0",
                  "3250.0",
                  "47",
                  "0.0"
                ],
                [
                  "14",
                  "2.0",
                  "6.0",
                  "1500.0",
                  "15",
                  "0.0"
                ],
                [
                  "15",
                  "2.0",
                  "5.0",
                  "1250.0",
                  "11",
                  "0.0"
                ],
                [
                  "16",
                  "2.0",
                  "14.0",
                  "3500.0",
                  "48",
                  "0.0"
                ],
                [
                  "17",
                  "2.0",
                  "4.0",
                  "1000.0",
                  "49",
                  "0.0"
                ],
                [
                  "18",
                  "2.0",
                  "6.0",
                  "1500.0",
                  "15",
                  "0.0"
                ],
                [
                  "19",
                  "2.0",
                  "3.0",
                  "750.0",
                  "4",
                  "0.0"
                ],
                [
                  "20",
                  "2.0",
                  "3.0",
                  "750.0",
                  "4",
                  "0.0"
                ],
                [
                  "21",
                  "4.0",
                  "11.0",
                  "2750.0",
                  "28",
                  "0.0"
                ],
                [
                  "22",
                  "2.0",
                  "6.0",
                  "1500.0",
                  "16",
                  "0.0"
                ],
                [
                  "23",
                  "2.0",
                  "6.0",
                  "1500.0",
                  "16",
                  "0.0"
                ],
                [
                  "24",
                  "9.0",
                  "9.0",
                  "2250.0",
                  "16",
                  "0.0"
                ],
                [
                  "25",
                  "4.0",
                  "14.0",
                  "3500.0",
                  "40",
                  "0.0"
                ],
                [
                  "26",
                  "4.0",
                  "6.0",
                  "1500.0",
                  "14",
                  "0.0"
                ],
                [
                  "27",
                  "4.0",
                  "12.0",
                  "3000.0",
                  "34",
                  "0.0"
                ],
                [
                  "28",
                  "4.0",
                  "5.0",
                  "1250.0",
                  "11",
                  "0.0"
                ],
                [
                  "29",
                  "4.0",
                  "8.0",
                  "2000.0",
                  "21",
                  "0.0"
                ],
                [
                  "30",
                  "1.0",
                  "14.0",
                  "3500.0",
                  "58",
                  "0.0"
                ],
                [
                  "31",
                  "4.0",
                  "10.0",
                  "2500.0",
                  "28",
                  "0.0"
                ],
                [
                  "32",
                  "4.0",
                  "10.0",
                  "2500.0",
                  "28",
                  "0.0"
                ],
                [
                  "33",
                  "4.0",
                  "9.0",
                  "2250.0",
                  "26",
                  "0.0"
                ],
                [
                  "34",
                  "2.0",
                  "4.0",
                  "1000.0",
                  "64",
                  "0.0"
                ],
                [
                  "35",
                  "2.0",
                  "8.0",
                  "2000.0",
                  "28",
                  "0.0"
                ],
                [
                  "36",
                  "2.0",
                  "12.0",
                  "3000.0",
                  "47",
                  "0.0"
                ],
                [
                  "37",
                  "4.0",
                  "6.0",
                  "1500.0",
                  "16",
                  "0.0"
                ],
                [
                  "38",
                  "2.0",
                  "14.0",
                  "3500.0",
                  "57",
                  "0.0"
                ],
                [
                  "39",
                  "4.0",
                  "7.0",
                  "1750.0",
                  "22",
                  "0.0"
                ],
                [
                  "40",
                  "2.0",
                  "13.0",
                  "3250.0",
                  "53",
                  "0.0"
                ],
                [
                  "41",
                  "2.0",
                  "5.0",
                  "1250.0",
                  "16",
                  "0.0"
                ],
                [
                  "42",
                  "2.0",
                  "5.0",
                  "1250.0",
                  "16",
                  "0.0"
                ],
                [
                  "43",
                  "2.0",
                  "5.0",
                  "1250.0",
                  "16",
                  "0.0"
                ],
                [
                  "44",
                  "4.0",
                  "4.0",
                  "1000.0",
                  "69",
                  "0.0"
                ],
                [
                  "45",
                  "4.0",
                  "9.0",
                  "2250.0",
                  "28",
                  "0.0"
                ],
                [
                  "46",
                  "2.0",
                  "9.0",
                  "2250.0",
                  "36",
                  "0.0"
                ],
                [
                  "47",
                  "2.0",
                  "2.0",
                  "500.0",
                  "2",
                  "0.0"
                ],
                [
                  "48",
                  "2.0",
                  "2.0",
                  "500.0",
                  "2",
                  "0.0"
                ],
                [
                  "49",
                  "2.0",
                  "2.0",
                  "500.0",
                  "2",
                  "0.0"
                ]
              ],
              "shape": {
                "columns": 5,
                "rows": 748
              }
            },
            "text/html": [
              "<div>\n",
              "<style scoped>\n",
              "    .dataframe tbody tr th:only-of-type {\n",
              "        vertical-align: middle;\n",
              "    }\n",
              "\n",
              "    .dataframe tbody tr th {\n",
              "        vertical-align: top;\n",
              "    }\n",
              "\n",
              "    .dataframe thead th {\n",
              "        text-align: right;\n",
              "    }\n",
              "</style>\n",
              "<table border=\"1\" class=\"dataframe\">\n",
              "  <thead>\n",
              "    <tr style=\"text-align: right;\">\n",
              "      <th></th>\n",
              "      <th>Months</th>\n",
              "      <th>Frequencies</th>\n",
              "      <th>Monetary</th>\n",
              "      <th>NumMonth</th>\n",
              "      <th>isDonate</th>\n",
              "    </tr>\n",
              "  </thead>\n",
              "  <tbody>\n",
              "    <tr>\n",
              "      <th>0</th>\n",
              "      <td>2.0</td>\n",
              "      <td>4.0</td>\n",
              "      <td>1000.0</td>\n",
              "      <td>98</td>\n",
              "      <td>0.0</td>\n",
              "    </tr>\n",
              "    <tr>\n",
              "      <th>1</th>\n",
              "      <td>0.0</td>\n",
              "      <td>13.0</td>\n",
              "      <td>3250.0</td>\n",
              "      <td>28</td>\n",
              "      <td>0.0</td>\n",
              "    </tr>\n",
              "    <tr>\n",
              "      <th>2</th>\n",
              "      <td>1.0</td>\n",
              "      <td>4.0</td>\n",
              "      <td>1000.0</td>\n",
              "      <td>35</td>\n",
              "      <td>0.0</td>\n",
              "    </tr>\n",
              "    <tr>\n",
              "      <th>3</th>\n",
              "      <td>2.0</td>\n",
              "      <td>4.0</td>\n",
              "      <td>1000.0</td>\n",
              "      <td>45</td>\n",
              "      <td>0.0</td>\n",
              "    </tr>\n",
              "    <tr>\n",
              "      <th>4</th>\n",
              "      <td>1.0</td>\n",
              "      <td>4.0</td>\n",
              "      <td>1000.0</td>\n",
              "      <td>77</td>\n",
              "      <td>0.0</td>\n",
              "    </tr>\n",
              "    <tr>\n",
              "      <th>...</th>\n",
              "      <td>...</td>\n",
              "      <td>...</td>\n",
              "      <td>...</td>\n",
              "      <td>...</td>\n",
              "      <td>...</td>\n",
              "    </tr>\n",
              "    <tr>\n",
              "      <th>743</th>\n",
              "      <td>23.0</td>\n",
              "      <td>2.0</td>\n",
              "      <td>500.0</td>\n",
              "      <td>38</td>\n",
              "      <td>0.0</td>\n",
              "    </tr>\n",
              "    <tr>\n",
              "      <th>744</th>\n",
              "      <td>21.0</td>\n",
              "      <td>2.0</td>\n",
              "      <td>500.0</td>\n",
              "      <td>52</td>\n",
              "      <td>0.0</td>\n",
              "    </tr>\n",
              "    <tr>\n",
              "      <th>745</th>\n",
              "      <td>23.0</td>\n",
              "      <td>3.0</td>\n",
              "      <td>750.0</td>\n",
              "      <td>62</td>\n",
              "      <td>0.0</td>\n",
              "    </tr>\n",
              "    <tr>\n",
              "      <th>746</th>\n",
              "      <td>7.0</td>\n",
              "      <td>1.0</td>\n",
              "      <td>250.0</td>\n",
              "      <td>39</td>\n",
              "      <td>0.0</td>\n",
              "    </tr>\n",
              "    <tr>\n",
              "      <th>747</th>\n",
              "      <td>7.0</td>\n",
              "      <td>1.0</td>\n",
              "      <td>250.0</td>\n",
              "      <td>72</td>\n",
              "      <td>0.0</td>\n",
              "    </tr>\n",
              "  </tbody>\n",
              "</table>\n",
              "<p>748 rows × 5 columns</p>\n",
              "</div>"
            ],
            "text/plain": [
              "     Months  Frequencies  Monetary  NumMonth  isDonate\n",
              "0       2.0          4.0    1000.0        98       0.0\n",
              "1       0.0         13.0    3250.0        28       0.0\n",
              "2       1.0          4.0    1000.0        35       0.0\n",
              "3       2.0          4.0    1000.0        45       0.0\n",
              "4       1.0          4.0    1000.0        77       0.0\n",
              "..      ...          ...       ...       ...       ...\n",
              "743    23.0          2.0     500.0        38       0.0\n",
              "744    21.0          2.0     500.0        52       0.0\n",
              "745    23.0          3.0     750.0        62       0.0\n",
              "746     7.0          1.0     250.0        39       0.0\n",
              "747     7.0          1.0     250.0        72       0.0\n",
              "\n",
              "[748 rows x 5 columns]"
            ]
          },
          "metadata": {},
          "output_type": "display_data"
        },
        {
          "data": {
            "image/png": "[encoded data removed]",
            "text/plain": [
              "<Figure size 500x300 with 1 Axes>"
            ]
          },
          "metadata": {},
          "output_type": "display_data"
        }
      ],
      "source": [
        "# Menangani Outlier\n",
        "\n",
        "def median_outlier(data, batas_bawah, batas_atas):\n",
        "    median = data.median()\n",
        "    data = data.apply(lambda x: median if (x < batas_bawah) | (x > batas_atas) else x)\n",
        "    return data\n",
        "\n",
        "def near_outlier(data, batas_bawah, batas_atas):\n",
        "    data = data.apply(lambda x: (Q1 - 1.5 * IQR) if x < batas_bawah else batas_atas if x > batas_bawah else x)\n",
        "    return data\n",
        "\n",
        "def delete_outlier(data, batas_bawah, batas_atas):\n",
        "    condition = ~((data < (batas_bawah)) | (data > (batas_atas))).any(axis=1)\n",
        "    return condition\n",
        "\n",
        "def handleOutlier(data, feature):\n",
        "    Q1 = data.quantile(0.25)\n",
        "    Q3 = data.quantile(0.75)\n",
        "    IQR = Q3 - Q1\n",
        "    batas_bawah, batas_atas = (Q1 - 1.5 * IQR), (Q3 + 1.5 * IQR)\n",
        "    \n",
        "    # display(data, feature)\n",
        "    # replace outlier wiith median\n",
        "    data = median_outlier(data, batas_bawah, batas_atas)\n",
        "\n",
        "    # replace outlier with near bound\n",
        "    # data = near_outlier(data, batas_bawah, batas_atas)\n",
        "    return data\n",
        "\n",
        "dataCopy = data.copy()\n",
        "for feature in dataCopy.columns:\n",
        "    dataCopy[feature] = handleOutlier(dataCopy[feature], feature)\n",
        "    display(dataCopy)\n",
        "    plt.figure(figsize=(5, 3))\n",
        "    sns.boxplot(x=dataCopy[feature])\n",
        "    plt.title(f'Box Plot of {feature}')\n",
        "    plt.show()"
      ]
    },
    {
      "cell_type": "code",
      "execution_count": 17,
      "metadata": {},
      "outputs": [
        {
          "data": {
            "application/vnd.microsoft.datawrangler.viewer.v0+json": {
              "columns": [
                {
                  "name": "index",
                  "rawType": "int64",
                  "type": "integer"
                },
                {
                  "name": "Months",
                  "rawType": "float64",
                  "type": "float"
                },
                {
                  "name": "Frequencies",
                  "rawType": "float64",
                  "type": "float"
                },
                {
                  "name": "Monetary",
                  "rawType": "float64",
                  "type": "float"
                },
                {
                  "name": "NumMonth",
                  "rawType": "int64",
                  "type": "integer"
                },
                {
                  "name": "isDonate",
                  "rawType": "float64",
                  "type": "float"
                }
              ],
              "ref": "9b2c4cc4-be2c-4e2d-9ca7-1e58da17a423",
              "rows": [
                [
                  "0",
                  "2.0",
                  "4.0",
                  "1000.0",
                  "98",
                  "0.0"
                ],
                [
                  "1",
                  "0.0",
                  "4.0",
                  "1000.0",
                  "28",
                  "0.0"
                ],
                [
                  "2",
                  "1.0",
                  "4.0",
                  "1000.0",
                  "35",
                  "0.0"
                ],
                [
                  "3",
                  "2.0",
                  "4.0",
                  "1000.0",
                  "45",
                  "0.0"
                ],
                [
                  "4",
                  "1.0",
                  "4.0",
                  "1000.0",
                  "77",
                  "0.0"
                ],
                [
                  "5",
                  "4.0",
                  "4.0",
                  "1000.0",
                  "4",
                  "0.0"
                ],
                [
                  "6",
                  "2.0",
                  "7.0",
                  "1750.0",
                  "14",
                  "0.0"
                ],
                [
                  "7",
                  "1.0",
                  "12.0",
                  "3000.0",
                  "35",
                  "0.0"
                ],
                [
                  "8",
                  "2.0",
                  "9.0",
                  "2250.0",
                  "22",
                  "0.0"
                ],
                [
                  "9",
                  "5.0",
                  "4.0",
                  "1000.0",
                  "98",
                  "0.0"
                ],
                [
                  "10",
                  "4.0",
                  "4.0",
                  "1000.0",
                  "58",
                  "0.0"
                ],
                [
                  "11",
                  "0.0",
                  "3.0",
                  "750.0",
                  "4",
                  "0.0"
                ],
                [
                  "12",
                  "2.0",
                  "10.0",
                  "2500.0",
                  "28",
                  "0.0"
                ],
                [
                  "13",
                  "1.0",
                  "4.0",
                  "1000.0",
                  "47",
                  "0.0"
                ],
                [
                  "14",
                  "2.0",
                  "6.0",
                  "1500.0",
                  "15",
                  "0.0"
                ],
                [
                  "15",
                  "2.0",
                  "5.0",
                  "1250.0",
                  "11",
                  "0.0"
                ],
                [
                  "16",
                  "2.0",
                  "4.0",
                  "1000.0",
                  "48",
                  "0.0"
                ],
                [
                  "17",
                  "2.0",
                  "4.0",
                  "1000.0",
                  "49",
                  "0.0"
                ],
                [
                  "18",
                  "2.0",
                  "6.0",
                  "1500.0",
                  "15",
                  "0.0"
                ],
                [
                  "19",
                  "2.0",
                  "3.0",
                  "750.0",
                  "4",
                  "0.0"
                ],
                [
                  "20",
                  "2.0",
                  "3.0",
                  "750.0",
                  "4",
                  "0.0"
                ],
                [
                  "21",
                  "4.0",
                  "11.0",
                  "2750.0",
                  "28",
                  "0.0"
                ],
                [
                  "22",
                  "2.0",
                  "6.0",
                  "1500.0",
                  "16",
                  "0.0"
                ],
                [
                  "23",
                  "2.0",
                  "6.0",
                  "1500.0",
                  "16",
                  "0.0"
                ],
                [
                  "24",
                  "9.0",
                  "9.0",
                  "2250.0",
                  "16",
                  "0.0"
                ],
                [
                  "25",
                  "4.0",
                  "4.0",
                  "1000.0",
                  "40",
                  "0.0"
                ],
                [
                  "26",
                  "4.0",
                  "6.0",
                  "1500.0",
                  "14",
                  "0.0"
                ],
                [
                  "27",
                  "4.0",
                  "12.0",
                  "3000.0",
                  "34",
                  "0.0"
                ],
                [
                  "28",
                  "4.0",
                  "5.0",
                  "1250.0",
                  "11",
                  "0.0"
                ],
                [
                  "29",
                  "4.0",
                  "8.0",
                  "2000.0",
                  "21",
                  "0.0"
                ],
                [
                  "30",
                  "1.0",
                  "4.0",
                  "1000.0",
                  "58",
                  "0.0"
                ],
                [
                  "31",
                  "4.0",
                  "10.0",
                  "2500.0",
                  "28",
                  "0.0"
                ],
                [
                  "32",
                  "4.0",
                  "10.0",
                  "2500.0",
                  "28",
                  "0.0"
                ],
                [
                  "33",
                  "4.0",
                  "9.0",
                  "2250.0",
                  "26",
                  "0.0"
                ],
                [
                  "34",
                  "2.0",
                  "4.0",
                  "1000.0",
                  "64",
                  "0.0"
                ],
                [
                  "35",
                  "2.0",
                  "8.0",
                  "2000.0",
                  "28",
                  "0.0"
                ],
                [
                  "36",
                  "2.0",
                  "12.0",
                  "3000.0",
                  "47",
                  "0.0"
                ],
                [
                  "37",
                  "4.0",
                  "6.0",
                  "1500.0",
                  "16",
                  "0.0"
                ],
                [
                  "38",
                  "2.0",
                  "4.0",
                  "1000.0",
                  "57",
                  "0.0"
                ],
                [
                  "39",
                  "4.0",
                  "7.0",
                  "1750.0",
                  "22",
                  "0.0"
                ],
                [
                  "40",
                  "2.0",
                  "4.0",
                  "1000.0",
                  "53",
                  "0.0"
                ],
                [
                  "41",
                  "2.0",
                  "5.0",
                  "1250.0",
                  "16",
                  "0.0"
                ],
                [
                  "42",
                  "2.0",
                  "5.0",
                  "1250.0",
                  "16",
                  "0.0"
                ],
                [
                  "43",
                  "2.0",
                  "5.0",
                  "1250.0",
                  "16",
                  "0.0"
                ],
                [
                  "44",
                  "4.0",
                  "4.0",
                  "1000.0",
                  "69",
                  "0.0"
                ],
                [
                  "45",
                  "4.0",
                  "9.0",
                  "2250.0",
                  "28",
                  "0.0"
                ],
                [
                  "46",
                  "2.0",
                  "9.0",
                  "2250.0",
                  "36",
                  "0.0"
                ],
                [
                  "47",
                  "2.0",
                  "2.0",
                  "500.0",
                  "2",
                  "0.0"
                ],
                [
                  "48",
                  "2.0",
                  "2.0",
                  "500.0",
                  "2",
                  "0.0"
                ],
                [
                  "49",
                  "2.0",
                  "2.0",
                  "500.0",
                  "2",
                  "0.0"
                ]
              ],
              "shape": {
                "columns": 5,
                "rows": 748
              }
            },
            "text/html": [
              "<div>\n",
              "<style scoped>\n",
              "    .dataframe tbody tr th:only-of-type {\n",
              "        vertical-align: middle;\n",
              "    }\n",
              "\n",
              "    .dataframe tbody tr th {\n",
              "        vertical-align: top;\n",
              "    }\n",
              "\n",
              "    .dataframe thead th {\n",
              "        text-align: right;\n",
              "    }\n",
              "</style>\n",
              "<table border=\"1\" class=\"dataframe\">\n",
              "  <thead>\n",
              "    <tr style=\"text-align: right;\">\n",
              "      <th></th>\n",
              "      <th>Months</th>\n",
              "      <th>Frequencies</th>\n",
              "      <th>Monetary</th>\n",
              "      <th>NumMonth</th>\n",
              "      <th>isDonate</th>\n",
              "    </tr>\n",
              "  </thead>\n",
              "  <tbody>\n",
              "    <tr>\n",
              "      <th>0</th>\n",
              "      <td>2.0</td>\n",
              "      <td>4.0</td>\n",
              "      <td>1000.0</td>\n",
              "      <td>98</td>\n",
              "      <td>0.0</td>\n",
              "    </tr>\n",
              "    <tr>\n",
              "      <th>1</th>\n",
              "      <td>0.0</td>\n",
              "      <td>4.0</td>\n",
              "      <td>1000.0</td>\n",
              "      <td>28</td>\n",
              "      <td>0.0</td>\n",
              "    </tr>\n",
              "    <tr>\n",
              "      <th>2</th>\n",
              "      <td>1.0</td>\n",
              "      <td>4.0</td>\n",
              "      <td>1000.0</td>\n",
              "      <td>35</td>\n",
              "      <td>0.0</td>\n",
              "    </tr>\n",
              "    <tr>\n",
              "      <th>3</th>\n",
              "      <td>2.0</td>\n",
              "      <td>4.0</td>\n",
              "      <td>1000.0</td>\n",
              "      <td>45</td>\n",
              "      <td>0.0</td>\n",
              "    </tr>\n",
              "    <tr>\n",
              "      <th>4</th>\n",
              "      <td>1.0</td>\n",
              "      <td>4.0</td>\n",
              "      <td>1000.0</td>\n",
              "      <td>77</td>\n",
              "      <td>0.0</td>\n",
              "    </tr>\n",
              "    <tr>\n",
              "      <th>...</th>\n",
              "      <td>...</td>\n",
              "      <td>...</td>\n",
              "      <td>...</td>\n",
              "      <td>...</td>\n",
              "      <td>...</td>\n",
              "    </tr>\n",
              "    <tr>\n",
              "      <th>743</th>\n",
              "      <td>23.0</td>\n",
              "      <td>2.0</td>\n",
              "      <td>500.0</td>\n",
              "      <td>38</td>\n",
              "      <td>0.0</td>\n",
              "    </tr>\n",
              "    <tr>\n",
              "      <th>744</th>\n",
              "      <td>21.0</td>\n",
              "      <td>2.0</td>\n",
              "      <td>500.0</td>\n",
              "      <td>52</td>\n",
              "      <td>0.0</td>\n",
              "    </tr>\n",
              "    <tr>\n",
              "      <th>745</th>\n",
              "      <td>23.0</td>\n",
              "      <td>3.0</td>\n",
              "      <td>750.0</td>\n",
              "      <td>62</td>\n",
              "      <td>0.0</td>\n",
              "    </tr>\n",
              "    <tr>\n",
              "      <th>746</th>\n",
              "      <td>7.0</td>\n",
              "      <td>1.0</td>\n",
              "      <td>250.0</td>\n",
              "      <td>39</td>\n",
              "      <td>0.0</td>\n",
              "    </tr>\n",
              "    <tr>\n",
              "      <th>747</th>\n",
              "      <td>7.0</td>\n",
              "      <td>1.0</td>\n",
              "      <td>250.0</td>\n",
              "      <td>72</td>\n",
              "      <td>0.0</td>\n",
              "    </tr>\n",
              "  </tbody>\n",
              "</table>\n",
              "<p>748 rows × 5 columns</p>\n",
              "</div>"
            ],
            "text/plain": [
              "     Months  Frequencies  Monetary  NumMonth  isDonate\n",
              "0       2.0          4.0    1000.0        98       0.0\n",
              "1       0.0          4.0    1000.0        28       0.0\n",
              "2       1.0          4.0    1000.0        35       0.0\n",
              "3       2.0          4.0    1000.0        45       0.0\n",
              "4       1.0          4.0    1000.0        77       0.0\n",
              "..      ...          ...       ...       ...       ...\n",
              "743    23.0          2.0     500.0        38       0.0\n",
              "744    21.0          2.0     500.0        52       0.0\n",
              "745    23.0          3.0     750.0        62       0.0\n",
              "746     7.0          1.0     250.0        39       0.0\n",
              "747     7.0          1.0     250.0        72       0.0\n",
              "\n",
              "[748 rows x 5 columns]"
            ]
          },
          "metadata": {},
          "output_type": "display_data"
        }
      ],
      "source": [
        "b = [\"Frequencies\", \"Monetary\"]\n",
        "for feature in b:\n",
        "    dataCopy[feature] = handleOutlier(dataCopy[feature], feature)\n",
        "    \n",
        "display(dataCopy)"
      ]
    },
    {
      "cell_type": "code",
      "execution_count": 18,
      "metadata": {},
      "outputs": [
        {
          "data": {
            "image/png": "[encoded data removed]",
            "text/plain": [
              "<Figure size 500x300 with 1 Axes>"
            ]
          },
          "metadata": {},
          "output_type": "display_data"
        },
        {
          "data": {
            "image/png": "[encoded data removed]",
            "text/plain": [
              "<Figure size 500x300 with 1 Axes>"
            ]
          },
          "metadata": {},
          "output_type": "display_data"
        }
      ],
      "source": [
        "for feature in b:\n",
        "    plt.figure(figsize=(5, 3))\n",
        "    sns.boxplot(x=dataCopy[feature])\n",
        "    plt.title(f'Box Plot of {feature}')\n",
        "    plt.show()"
      ]
    },
    {
      "cell_type": "markdown",
      "metadata": {},
      "source": [
        "##### 5. Feature Selecting\n",
        "Memilih kolom untuk melatih model"
      ]
    },
    {
      "cell_type": "code",
      "execution_count": null,
      "metadata": {},
      "outputs": [
        {
          "data": {
            "application/vnd.microsoft.datawrangler.viewer.v0+json": {
              "columns": [
                {
                  "name": "index",
                  "rawType": "int64",
                  "type": "integer"
                },
                {
                  "name": "Months",
                  "rawType": "int64",
                  "type": "integer"
                },
                {
                  "name": "Frequencies",
                  "rawType": "int64",
                  "type": "integer"
                },
                {
                  "name": "Monetary",
                  "rawType": "int64",
                  "type": "integer"
                }
              ],
              "ref": "99c2a775-6614-40ea-9150-c472a50f512f",
              "rows": [
                [
                  "0",
                  "2",
                  "50",
                  "12500"
                ],
                [
                  "1",
                  "0",
                  "13",
                  "3250"
                ],
                [
                  "2",
                  "1",
                  "16",
                  "4000"
                ],
                [
                  "3",
                  "2",
                  "20",
                  "5000"
                ],
                [
                  "4",
                  "1",
                  "24",
                  "6000"
                ],
                [
                  "5",
                  "4",
                  "4",
                  "1000"
                ],
                [
                  "6",
                  "2",
                  "7",
                  "1750"
                ],
                [
                  "7",
                  "1",
                  "12",
                  "3000"
                ],
                [
                  "8",
                  "2",
                  "9",
                  "2250"
                ],
                [
                  "9",
                  "5",
                  "46",
                  "11500"
                ],
                [
                  "10",
                  "4",
                  "23",
                  "5750"
                ],
                [
                  "11",
                  "0",
                  "3",
                  "750"
                ],
                [
                  "12",
                  "2",
                  "10",
                  "2500"
                ],
                [
                  "13",
                  "1",
                  "13",
                  "3250"
                ],
                [
                  "14",
                  "2",
                  "6",
                  "1500"
                ],
                [
                  "15",
                  "2",
                  "5",
                  "1250"
                ],
                [
                  "16",
                  "2",
                  "14",
                  "3500"
                ],
                [
                  "17",
                  "2",
                  "15",
                  "3750"
                ],
                [
                  "18",
                  "2",
                  "6",
                  "1500"
                ],
                [
                  "19",
                  "2",
                  "3",
                  "750"
                ],
                [
                  "20",
                  "2",
                  "3",
                  "750"
                ],
                [
                  "21",
                  "4",
                  "11",
                  "2750"
                ],
                [
                  "22",
                  "2",
                  "6",
                  "1500"
                ],
                [
                  "23",
                  "2",
                  "6",
                  "1500"
                ],
                [
                  "24",
                  "9",
                  "9",
                  "2250"
                ],
                [
                  "25",
                  "4",
                  "14",
                  "3500"
                ],
                [
                  "26",
                  "4",
                  "6",
                  "1500"
                ],
                [
                  "27",
                  "4",
                  "12",
                  "3000"
                ],
                [
                  "28",
                  "4",
                  "5",
                  "1250"
                ],
                [
                  "29",
                  "4",
                  "8",
                  "2000"
                ],
                [
                  "30",
                  "1",
                  "14",
                  "3500"
                ],
                [
                  "31",
                  "4",
                  "10",
                  "2500"
                ],
                [
                  "32",
                  "4",
                  "10",
                  "2500"
                ],
                [
                  "33",
                  "4",
                  "9",
                  "2250"
                ],
                [
                  "34",
                  "2",
                  "16",
                  "4000"
                ],
                [
                  "35",
                  "2",
                  "8",
                  "2000"
                ],
                [
                  "36",
                  "2",
                  "12",
                  "3000"
                ],
                [
                  "37",
                  "4",
                  "6",
                  "1500"
                ],
                [
                  "38",
                  "2",
                  "14",
                  "3500"
                ],
                [
                  "39",
                  "4",
                  "7",
                  "1750"
                ],
                [
                  "40",
                  "2",
                  "13",
                  "3250"
                ],
                [
                  "41",
                  "2",
                  "5",
                  "1250"
                ],
                [
                  "42",
                  "2",
                  "5",
                  "1250"
                ],
                [
                  "43",
                  "2",
                  "5",
                  "1250"
                ],
                [
                  "44",
                  "4",
                  "20",
                  "5000"
                ],
                [
                  "45",
                  "4",
                  "9",
                  "2250"
                ],
                [
                  "46",
                  "2",
                  "9",
                  "2250"
                ],
                [
                  "47",
                  "2",
                  "2",
                  "500"
                ],
                [
                  "48",
                  "2",
                  "2",
                  "500"
                ],
                [
                  "49",
                  "2",
                  "2",
                  "500"
                ]
              ],
              "shape": {
                "columns": 3,
                "rows": 748
              }
            },
            "text/html": [
              "<div>\n",
              "<style scoped>\n",
              "    .dataframe tbody tr th:only-of-type {\n",
              "        vertical-align: middle;\n",
              "    }\n",
              "\n",
              "    .dataframe tbody tr th {\n",
              "        vertical-align: top;\n",
              "    }\n",
              "\n",
              "    .dataframe thead th {\n",
              "        text-align: right;\n",
              "    }\n",
              "</style>\n",
              "<table border=\"1\" class=\"dataframe\">\n",
              "  <thead>\n",
              "    <tr style=\"text-align: right;\">\n",
              "      <th></th>\n",
              "      <th>Months</th>\n",
              "      <th>Frequencies</th>\n",
              "      <th>Monetary</th>\n",
              "    </tr>\n",
              "  </thead>\n",
              "  <tbody>\n",
              "    <tr>\n",
              "      <th>0</th>\n",
              "      <td>2</td>\n",
              "      <td>50</td>\n",
              "      <td>12500</td>\n",
              "    </tr>\n",
              "    <tr>\n",
              "      <th>1</th>\n",
              "      <td>0</td>\n",
              "      <td>13</td>\n",
              "      <td>3250</td>\n",
              "    </tr>\n",
              "    <tr>\n",
              "      <th>2</th>\n",
              "      <td>1</td>\n",
              "      <td>16</td>\n",
              "      <td>4000</td>\n",
              "    </tr>\n",
              "    <tr>\n",
              "      <th>3</th>\n",
              "      <td>2</td>\n",
              "      <td>20</td>\n",
              "      <td>5000</td>\n",
              "    </tr>\n",
              "    <tr>\n",
              "      <th>4</th>\n",
              "      <td>1</td>\n",
              "      <td>24</td>\n",
              "      <td>6000</td>\n",
              "    </tr>\n",
              "    <tr>\n",
              "      <th>...</th>\n",
              "      <td>...</td>\n",
              "      <td>...</td>\n",
              "      <td>...</td>\n",
              "    </tr>\n",
              "    <tr>\n",
              "      <th>743</th>\n",
              "      <td>23</td>\n",
              "      <td>2</td>\n",
              "      <td>500</td>\n",
              "    </tr>\n",
              "    <tr>\n",
              "      <th>744</th>\n",
              "      <td>21</td>\n",
              "      <td>2</td>\n",
              "      <td>500</td>\n",
              "    </tr>\n",
              "    <tr>\n",
              "      <th>745</th>\n",
              "      <td>23</td>\n",
              "      <td>3</td>\n",
              "      <td>750</td>\n",
              "    </tr>\n",
              "    <tr>\n",
              "      <th>746</th>\n",
              "      <td>39</td>\n",
              "      <td>1</td>\n",
              "      <td>250</td>\n",
              "    </tr>\n",
              "    <tr>\n",
              "      <th>747</th>\n",
              "      <td>72</td>\n",
              "      <td>1</td>\n",
              "      <td>250</td>\n",
              "    </tr>\n",
              "  </tbody>\n",
              "</table>\n",
              "<p>748 rows × 3 columns</p>\n",
              "</div>"
            ],
            "text/plain": [
              "     Months  Frequencies  Monetary\n",
              "0         2           50     12500\n",
              "1         0           13      3250\n",
              "2         1           16      4000\n",
              "3         2           20      5000\n",
              "4         1           24      6000\n",
              "..      ...          ...       ...\n",
              "743      23            2       500\n",
              "744      21            2       500\n",
              "745      23            3       750\n",
              "746      39            1       250\n",
              "747      72            1       250\n",
              "\n",
              "[748 rows x 3 columns]"
            ]
          },
          "metadata": {},
          "output_type": "display_data"
        },
        {
          "name": "stdout",
          "output_type": "stream",
          "text": [
            "<class 'pandas.core.frame.DataFrame'>\n",
            "RangeIndex: 748 entries, 0 to 747\n",
            "Data columns (total 5 columns):\n",
            " #   Column       Non-Null Count  Dtype\n",
            "---  ------       --------------  -----\n",
            " 0   Months       748 non-null    int64\n",
            " 1   Frequencies  748 non-null    int64\n",
            " 2   Monetary     748 non-null    int64\n",
            " 3   NumMonth     748 non-null    int64\n",
            " 4   isDonate     748 non-null    int64\n",
            "dtypes: int64(5)\n",
            "memory usage: 29.3 KB\n"
          ]
        },
        {
          "data": {
            "text/plain": [
              "None"
            ]
          },
          "metadata": {},
          "output_type": "display_data"
        }
      ],
      "source": [
        "features = [\"Months\", \"Frequencies\", \"Monetary\"]\n",
        "\n",
        "display(data[features])\n",
        "display(data.info())"
      ]
    },
    {
      "cell_type": "markdown",
      "metadata": {},
      "source": [
        "##### 5. Normalisasi atau Standarisasi Fitur"
      ]
    },
    {
      "cell_type": "code",
      "execution_count": null,
      "metadata": {},
      "outputs": [
        {
          "data": {
            "text/plain": [
              "array([[-0.92789873,  7.62334626,  7.62334626],\n",
              "       [-1.17511806,  1.28273826,  1.28273826],\n",
              "       [-1.0515084 ,  1.79684161,  1.79684161],\n",
              "       ...,\n",
              "       [ 1.66790417, -0.43093957, -0.43093957],\n",
              "       [ 3.64565877, -0.77367514, -0.77367514],\n",
              "       [ 7.72477762, -0.77367514, -0.77367514]])"
            ]
          },
          "metadata": {},
          "output_type": "display_data"
        }
      ],
      "source": [
        "# normalization = MinMaxScaler()\n",
        "scaler = StandardScaler()\n",
        "data_scaler = scaler.fit_transform(data[features])\n",
        "display(data_scaler)"
      ]
    },
    {
      "cell_type": "code",
      "execution_count": 18,
      "metadata": {},
      "outputs": [
        {
          "data": {
            "text/plain": [
              "Text(0.5, 1.0, 'Histogram Sebelum Di-transform oleh standarisasi')"
            ]
          },
          "execution_count": 18,
          "metadata": {},
          "output_type": "execute_result"
        },
        {
          "data": {
            "image/png": "[encoded data removed]",
            "text/plain": [
              "<Figure size 1200x500 with 1 Axes>"
            ]
          },
          "metadata": {},
          "output_type": "display_data"
        }
      ],
      "source": [
        "# Histogram Sebelum Normalisasi\n",
        "plt.figure(figsize=(12, 5))\n",
        "plt.subplot(1, 2, 1)\n",
        "sns.histplot(data, kde=True)\n",
        "plt.title(\"Histogram Sebelum Di-transform oleh standarisasi\")"
      ]
    },
    {
      "cell_type": "code",
      "execution_count": 19,
      "metadata": {},
      "outputs": [
        {
          "data": {
            "text/plain": [
              "Text(0.5, 1.0, 'Histogram Setelah Di-transform oleh Standarisasi')"
            ]
          },
          "execution_count": 19,
          "metadata": {},
          "output_type": "execute_result"
        },
        {
          "data": {
            "image/png": "[encoded data removed]",
            "text/plain": [
              "<Figure size 1200x500 with 1 Axes>"
            ]
          },
          "metadata": {},
          "output_type": "display_data"
        }
      ],
      "source": [
        "plt.figure(figsize=(12, 5))\n",
        "plt.subplot(1, 2, 2)\n",
        "sns.histplot(data_scaler, kde=True)\n",
        "plt.title(\"Histogram Setelah Di-transform oleh Standarisasi\")"
      ]
    },
    {
      "cell_type": "code",
      "execution_count": 19,
      "metadata": {},
      "outputs": [],
      "source": [
        "# data_numMonths = data.copy()\n",
        "data_without_numMonths = data.copy()\n",
        "# data_without_numMonths = dataCopy.copy()"
      ]
    },
    {
      "cell_type": "code",
      "execution_count": 20,
      "metadata": {},
      "outputs": [
        {
          "data": {
            "application/vnd.microsoft.datawrangler.viewer.v0+json": {
              "columns": [
                {
                  "name": "index",
                  "rawType": "int64",
                  "type": "integer"
                },
                {
                  "name": "Months",
                  "rawType": "int64",
                  "type": "integer"
                },
                {
                  "name": "Frequencies",
                  "rawType": "int64",
                  "type": "integer"
                },
                {
                  "name": "Monetary",
                  "rawType": "int64",
                  "type": "integer"
                },
                {
                  "name": "NumMonth",
                  "rawType": "int64",
                  "type": "integer"
                },
                {
                  "name": "isDonate",
                  "rawType": "int64",
                  "type": "integer"
                }
              ],
              "ref": "64e79e92-4c58-4f31-9a05-4f6dda918dd1",
              "rows": [
                [
                  "0",
                  "2",
                  "50",
                  "12500",
                  "98",
                  "1"
                ],
                [
                  "1",
                  "0",
                  "13",
                  "3250",
                  "28",
                  "1"
                ],
                [
                  "2",
                  "1",
                  "16",
                  "4000",
                  "35",
                  "1"
                ],
                [
                  "3",
                  "2",
                  "20",
                  "5000",
                  "45",
                  "1"
                ],
                [
                  "4",
                  "1",
                  "24",
                  "6000",
                  "77",
                  "0"
                ],
                [
                  "5",
                  "4",
                  "4",
                  "1000",
                  "4",
                  "0"
                ],
                [
                  "6",
                  "2",
                  "7",
                  "1750",
                  "14",
                  "1"
                ],
                [
                  "7",
                  "1",
                  "12",
                  "3000",
                  "35",
                  "0"
                ],
                [
                  "8",
                  "2",
                  "9",
                  "2250",
                  "22",
                  "1"
                ],
                [
                  "9",
                  "5",
                  "46",
                  "11500",
                  "98",
                  "1"
                ],
                [
                  "10",
                  "4",
                  "23",
                  "5750",
                  "58",
                  "0"
                ],
                [
                  "11",
                  "0",
                  "3",
                  "750",
                  "4",
                  "0"
                ],
                [
                  "12",
                  "2",
                  "10",
                  "2500",
                  "28",
                  "1"
                ],
                [
                  "13",
                  "1",
                  "13",
                  "3250",
                  "47",
                  "0"
                ],
                [
                  "14",
                  "2",
                  "6",
                  "1500",
                  "15",
                  "1"
                ],
                [
                  "15",
                  "2",
                  "5",
                  "1250",
                  "11",
                  "1"
                ],
                [
                  "16",
                  "2",
                  "14",
                  "3500",
                  "48",
                  "1"
                ],
                [
                  "17",
                  "2",
                  "15",
                  "3750",
                  "49",
                  "1"
                ],
                [
                  "18",
                  "2",
                  "6",
                  "1500",
                  "15",
                  "1"
                ],
                [
                  "19",
                  "2",
                  "3",
                  "750",
                  "4",
                  "1"
                ],
                [
                  "20",
                  "2",
                  "3",
                  "750",
                  "4",
                  "1"
                ],
                [
                  "21",
                  "4",
                  "11",
                  "2750",
                  "28",
                  "0"
                ],
                [
                  "22",
                  "2",
                  "6",
                  "1500",
                  "16",
                  "1"
                ],
                [
                  "23",
                  "2",
                  "6",
                  "1500",
                  "16",
                  "1"
                ],
                [
                  "24",
                  "9",
                  "9",
                  "2250",
                  "16",
                  "0"
                ],
                [
                  "25",
                  "4",
                  "14",
                  "3500",
                  "40",
                  "0"
                ],
                [
                  "26",
                  "4",
                  "6",
                  "1500",
                  "14",
                  "0"
                ],
                [
                  "27",
                  "4",
                  "12",
                  "3000",
                  "34",
                  "1"
                ],
                [
                  "28",
                  "4",
                  "5",
                  "1250",
                  "11",
                  "1"
                ],
                [
                  "29",
                  "4",
                  "8",
                  "2000",
                  "21",
                  "0"
                ],
                [
                  "30",
                  "1",
                  "14",
                  "3500",
                  "58",
                  "0"
                ],
                [
                  "31",
                  "4",
                  "10",
                  "2500",
                  "28",
                  "1"
                ],
                [
                  "32",
                  "4",
                  "10",
                  "2500",
                  "28",
                  "1"
                ],
                [
                  "33",
                  "4",
                  "9",
                  "2250",
                  "26",
                  "1"
                ],
                [
                  "34",
                  "2",
                  "16",
                  "4000",
                  "64",
                  "0"
                ],
                [
                  "35",
                  "2",
                  "8",
                  "2000",
                  "28",
                  "1"
                ],
                [
                  "36",
                  "2",
                  "12",
                  "3000",
                  "47",
                  "1"
                ],
                [
                  "37",
                  "4",
                  "6",
                  "1500",
                  "16",
                  "1"
                ],
                [
                  "38",
                  "2",
                  "14",
                  "3500",
                  "57",
                  "1"
                ],
                [
                  "39",
                  "4",
                  "7",
                  "1750",
                  "22",
                  "1"
                ],
                [
                  "40",
                  "2",
                  "13",
                  "3250",
                  "53",
                  "1"
                ],
                [
                  "41",
                  "2",
                  "5",
                  "1250",
                  "16",
                  "0"
                ],
                [
                  "42",
                  "2",
                  "5",
                  "1250",
                  "16",
                  "1"
                ],
                [
                  "43",
                  "2",
                  "5",
                  "1250",
                  "16",
                  "0"
                ],
                [
                  "44",
                  "4",
                  "20",
                  "5000",
                  "69",
                  "1"
                ],
                [
                  "45",
                  "4",
                  "9",
                  "2250",
                  "28",
                  "1"
                ],
                [
                  "46",
                  "2",
                  "9",
                  "2250",
                  "36",
                  "0"
                ],
                [
                  "47",
                  "2",
                  "2",
                  "500",
                  "2",
                  "0"
                ],
                [
                  "48",
                  "2",
                  "2",
                  "500",
                  "2",
                  "0"
                ],
                [
                  "49",
                  "2",
                  "2",
                  "500",
                  "2",
                  "0"
                ]
              ],
              "shape": {
                "columns": 5,
                "rows": 748
              }
            },
            "text/html": [
              "<div>\n",
              "<style scoped>\n",
              "    .dataframe tbody tr th:only-of-type {\n",
              "        vertical-align: middle;\n",
              "    }\n",
              "\n",
              "    .dataframe tbody tr th {\n",
              "        vertical-align: top;\n",
              "    }\n",
              "\n",
              "    .dataframe thead th {\n",
              "        text-align: right;\n",
              "    }\n",
              "</style>\n",
              "<table border=\"1\" class=\"dataframe\">\n",
              "  <thead>\n",
              "    <tr style=\"text-align: right;\">\n",
              "      <th></th>\n",
              "      <th>Months</th>\n",
              "      <th>Frequencies</th>\n",
              "      <th>Monetary</th>\n",
              "      <th>NumMonth</th>\n",
              "      <th>isDonate</th>\n",
              "    </tr>\n",
              "  </thead>\n",
              "  <tbody>\n",
              "    <tr>\n",
              "      <th>0</th>\n",
              "      <td>2</td>\n",
              "      <td>50</td>\n",
              "      <td>12500</td>\n",
              "      <td>98</td>\n",
              "      <td>1</td>\n",
              "    </tr>\n",
              "    <tr>\n",
              "      <th>1</th>\n",
              "      <td>0</td>\n",
              "      <td>13</td>\n",
              "      <td>3250</td>\n",
              "      <td>28</td>\n",
              "      <td>1</td>\n",
              "    </tr>\n",
              "    <tr>\n",
              "      <th>2</th>\n",
              "      <td>1</td>\n",
              "      <td>16</td>\n",
              "      <td>4000</td>\n",
              "      <td>35</td>\n",
              "      <td>1</td>\n",
              "    </tr>\n",
              "    <tr>\n",
              "      <th>3</th>\n",
              "      <td>2</td>\n",
              "      <td>20</td>\n",
              "      <td>5000</td>\n",
              "      <td>45</td>\n",
              "      <td>1</td>\n",
              "    </tr>\n",
              "    <tr>\n",
              "      <th>4</th>\n",
              "      <td>1</td>\n",
              "      <td>24</td>\n",
              "      <td>6000</td>\n",
              "      <td>77</td>\n",
              "      <td>0</td>\n",
              "    </tr>\n",
              "    <tr>\n",
              "      <th>...</th>\n",
              "      <td>...</td>\n",
              "      <td>...</td>\n",
              "      <td>...</td>\n",
              "      <td>...</td>\n",
              "      <td>...</td>\n",
              "    </tr>\n",
              "    <tr>\n",
              "      <th>743</th>\n",
              "      <td>23</td>\n",
              "      <td>2</td>\n",
              "      <td>500</td>\n",
              "      <td>38</td>\n",
              "      <td>0</td>\n",
              "    </tr>\n",
              "    <tr>\n",
              "      <th>744</th>\n",
              "      <td>21</td>\n",
              "      <td>2</td>\n",
              "      <td>500</td>\n",
              "      <td>52</td>\n",
              "      <td>0</td>\n",
              "    </tr>\n",
              "    <tr>\n",
              "      <th>745</th>\n",
              "      <td>23</td>\n",
              "      <td>3</td>\n",
              "      <td>750</td>\n",
              "      <td>62</td>\n",
              "      <td>0</td>\n",
              "    </tr>\n",
              "    <tr>\n",
              "      <th>746</th>\n",
              "      <td>39</td>\n",
              "      <td>1</td>\n",
              "      <td>250</td>\n",
              "      <td>39</td>\n",
              "      <td>0</td>\n",
              "    </tr>\n",
              "    <tr>\n",
              "      <th>747</th>\n",
              "      <td>72</td>\n",
              "      <td>1</td>\n",
              "      <td>250</td>\n",
              "      <td>72</td>\n",
              "      <td>0</td>\n",
              "    </tr>\n",
              "  </tbody>\n",
              "</table>\n",
              "<p>748 rows × 5 columns</p>\n",
              "</div>"
            ],
            "text/plain": [
              "     Months  Frequencies  Monetary  NumMonth  isDonate\n",
              "0         2           50     12500        98         1\n",
              "1         0           13      3250        28         1\n",
              "2         1           16      4000        35         1\n",
              "3         2           20      5000        45         1\n",
              "4         1           24      6000        77         0\n",
              "..      ...          ...       ...       ...       ...\n",
              "743      23            2       500        38         0\n",
              "744      21            2       500        52         0\n",
              "745      23            3       750        62         0\n",
              "746      39            1       250        39         0\n",
              "747      72            1       250        72         0\n",
              "\n",
              "[748 rows x 5 columns]"
            ]
          },
          "metadata": {},
          "output_type": "display_data"
        },
        {
          "data": {
            "application/vnd.microsoft.datawrangler.viewer.v0+json": {
              "columns": [
                {
                  "name": "index",
                  "rawType": "int64",
                  "type": "integer"
                },
                {
                  "name": "Months",
                  "rawType": "int64",
                  "type": "integer"
                },
                {
                  "name": "Frequencies",
                  "rawType": "int64",
                  "type": "integer"
                },
                {
                  "name": "Monetary",
                  "rawType": "int64",
                  "type": "integer"
                },
                {
                  "name": "NumMonth",
                  "rawType": "int64",
                  "type": "integer"
                },
                {
                  "name": "isDonate",
                  "rawType": "int64",
                  "type": "integer"
                }
              ],
              "ref": "b67e4294-cb77-4f70-8b05-c79278266077",
              "rows": [
                [
                  "0",
                  "2",
                  "50",
                  "12500",
                  "98",
                  "1"
                ],
                [
                  "1",
                  "0",
                  "13",
                  "3250",
                  "28",
                  "1"
                ],
                [
                  "2",
                  "1",
                  "16",
                  "4000",
                  "35",
                  "1"
                ],
                [
                  "3",
                  "2",
                  "20",
                  "5000",
                  "45",
                  "1"
                ],
                [
                  "4",
                  "1",
                  "24",
                  "6000",
                  "77",
                  "0"
                ],
                [
                  "5",
                  "4",
                  "4",
                  "1000",
                  "4",
                  "0"
                ],
                [
                  "6",
                  "2",
                  "7",
                  "1750",
                  "14",
                  "1"
                ],
                [
                  "7",
                  "1",
                  "12",
                  "3000",
                  "35",
                  "0"
                ],
                [
                  "8",
                  "2",
                  "9",
                  "2250",
                  "22",
                  "1"
                ],
                [
                  "9",
                  "5",
                  "46",
                  "11500",
                  "98",
                  "1"
                ],
                [
                  "10",
                  "4",
                  "23",
                  "5750",
                  "58",
                  "0"
                ],
                [
                  "11",
                  "0",
                  "3",
                  "750",
                  "4",
                  "0"
                ],
                [
                  "12",
                  "2",
                  "10",
                  "2500",
                  "28",
                  "1"
                ],
                [
                  "13",
                  "1",
                  "13",
                  "3250",
                  "47",
                  "0"
                ],
                [
                  "14",
                  "2",
                  "6",
                  "1500",
                  "15",
                  "1"
                ],
                [
                  "15",
                  "2",
                  "5",
                  "1250",
                  "11",
                  "1"
                ],
                [
                  "16",
                  "2",
                  "14",
                  "3500",
                  "48",
                  "1"
                ],
                [
                  "17",
                  "2",
                  "15",
                  "3750",
                  "49",
                  "1"
                ],
                [
                  "18",
                  "2",
                  "6",
                  "1500",
                  "15",
                  "1"
                ],
                [
                  "19",
                  "2",
                  "3",
                  "750",
                  "4",
                  "1"
                ],
                [
                  "20",
                  "2",
                  "3",
                  "750",
                  "4",
                  "1"
                ],
                [
                  "21",
                  "4",
                  "11",
                  "2750",
                  "28",
                  "0"
                ],
                [
                  "22",
                  "2",
                  "6",
                  "1500",
                  "16",
                  "1"
                ],
                [
                  "23",
                  "2",
                  "6",
                  "1500",
                  "16",
                  "1"
                ],
                [
                  "24",
                  "9",
                  "9",
                  "2250",
                  "16",
                  "0"
                ],
                [
                  "25",
                  "4",
                  "14",
                  "3500",
                  "40",
                  "0"
                ],
                [
                  "26",
                  "4",
                  "6",
                  "1500",
                  "14",
                  "0"
                ],
                [
                  "27",
                  "4",
                  "12",
                  "3000",
                  "34",
                  "1"
                ],
                [
                  "28",
                  "4",
                  "5",
                  "1250",
                  "11",
                  "1"
                ],
                [
                  "29",
                  "4",
                  "8",
                  "2000",
                  "21",
                  "0"
                ],
                [
                  "30",
                  "1",
                  "14",
                  "3500",
                  "58",
                  "0"
                ],
                [
                  "31",
                  "4",
                  "10",
                  "2500",
                  "28",
                  "1"
                ],
                [
                  "32",
                  "4",
                  "10",
                  "2500",
                  "28",
                  "1"
                ],
                [
                  "33",
                  "4",
                  "9",
                  "2250",
                  "26",
                  "1"
                ],
                [
                  "34",
                  "2",
                  "16",
                  "4000",
                  "64",
                  "0"
                ],
                [
                  "35",
                  "2",
                  "8",
                  "2000",
                  "28",
                  "1"
                ],
                [
                  "36",
                  "2",
                  "12",
                  "3000",
                  "47",
                  "1"
                ],
                [
                  "37",
                  "4",
                  "6",
                  "1500",
                  "16",
                  "1"
                ],
                [
                  "38",
                  "2",
                  "14",
                  "3500",
                  "57",
                  "1"
                ],
                [
                  "39",
                  "4",
                  "7",
                  "1750",
                  "22",
                  "1"
                ],
                [
                  "40",
                  "2",
                  "13",
                  "3250",
                  "53",
                  "1"
                ],
                [
                  "41",
                  "2",
                  "5",
                  "1250",
                  "16",
                  "0"
                ],
                [
                  "42",
                  "2",
                  "5",
                  "1250",
                  "16",
                  "1"
                ],
                [
                  "43",
                  "2",
                  "5",
                  "1250",
                  "16",
                  "0"
                ],
                [
                  "44",
                  "4",
                  "20",
                  "5000",
                  "69",
                  "1"
                ],
                [
                  "45",
                  "4",
                  "9",
                  "2250",
                  "28",
                  "1"
                ],
                [
                  "46",
                  "2",
                  "9",
                  "2250",
                  "36",
                  "0"
                ],
                [
                  "47",
                  "2",
                  "2",
                  "500",
                  "2",
                  "0"
                ],
                [
                  "48",
                  "2",
                  "2",
                  "500",
                  "2",
                  "0"
                ],
                [
                  "49",
                  "2",
                  "2",
                  "500",
                  "2",
                  "0"
                ]
              ],
              "shape": {
                "columns": 5,
                "rows": 748
              }
            },
            "text/html": [
              "<div>\n",
              "<style scoped>\n",
              "    .dataframe tbody tr th:only-of-type {\n",
              "        vertical-align: middle;\n",
              "    }\n",
              "\n",
              "    .dataframe tbody tr th {\n",
              "        vertical-align: top;\n",
              "    }\n",
              "\n",
              "    .dataframe thead th {\n",
              "        text-align: right;\n",
              "    }\n",
              "</style>\n",
              "<table border=\"1\" class=\"dataframe\">\n",
              "  <thead>\n",
              "    <tr style=\"text-align: right;\">\n",
              "      <th></th>\n",
              "      <th>Months</th>\n",
              "      <th>Frequencies</th>\n",
              "      <th>Monetary</th>\n",
              "      <th>NumMonth</th>\n",
              "      <th>isDonate</th>\n",
              "    </tr>\n",
              "  </thead>\n",
              "  <tbody>\n",
              "    <tr>\n",
              "      <th>0</th>\n",
              "      <td>2</td>\n",
              "      <td>50</td>\n",
              "      <td>12500</td>\n",
              "      <td>98</td>\n",
              "      <td>1</td>\n",
              "    </tr>\n",
              "    <tr>\n",
              "      <th>1</th>\n",
              "      <td>0</td>\n",
              "      <td>13</td>\n",
              "      <td>3250</td>\n",
              "      <td>28</td>\n",
              "      <td>1</td>\n",
              "    </tr>\n",
              "    <tr>\n",
              "      <th>2</th>\n",
              "      <td>1</td>\n",
              "      <td>16</td>\n",
              "      <td>4000</td>\n",
              "      <td>35</td>\n",
              "      <td>1</td>\n",
              "    </tr>\n",
              "    <tr>\n",
              "      <th>3</th>\n",
              "      <td>2</td>\n",
              "      <td>20</td>\n",
              "      <td>5000</td>\n",
              "      <td>45</td>\n",
              "      <td>1</td>\n",
              "    </tr>\n",
              "    <tr>\n",
              "      <th>4</th>\n",
              "      <td>1</td>\n",
              "      <td>24</td>\n",
              "      <td>6000</td>\n",
              "      <td>77</td>\n",
              "      <td>0</td>\n",
              "    </tr>\n",
              "    <tr>\n",
              "      <th>...</th>\n",
              "      <td>...</td>\n",
              "      <td>...</td>\n",
              "      <td>...</td>\n",
              "      <td>...</td>\n",
              "      <td>...</td>\n",
              "    </tr>\n",
              "    <tr>\n",
              "      <th>743</th>\n",
              "      <td>23</td>\n",
              "      <td>2</td>\n",
              "      <td>500</td>\n",
              "      <td>38</td>\n",
              "      <td>0</td>\n",
              "    </tr>\n",
              "    <tr>\n",
              "      <th>744</th>\n",
              "      <td>21</td>\n",
              "      <td>2</td>\n",
              "      <td>500</td>\n",
              "      <td>52</td>\n",
              "      <td>0</td>\n",
              "    </tr>\n",
              "    <tr>\n",
              "      <th>745</th>\n",
              "      <td>23</td>\n",
              "      <td>3</td>\n",
              "      <td>750</td>\n",
              "      <td>62</td>\n",
              "      <td>0</td>\n",
              "    </tr>\n",
              "    <tr>\n",
              "      <th>746</th>\n",
              "      <td>39</td>\n",
              "      <td>1</td>\n",
              "      <td>250</td>\n",
              "      <td>39</td>\n",
              "      <td>0</td>\n",
              "    </tr>\n",
              "    <tr>\n",
              "      <th>747</th>\n",
              "      <td>72</td>\n",
              "      <td>1</td>\n",
              "      <td>250</td>\n",
              "      <td>72</td>\n",
              "      <td>0</td>\n",
              "    </tr>\n",
              "  </tbody>\n",
              "</table>\n",
              "<p>748 rows × 5 columns</p>\n",
              "</div>"
            ],
            "text/plain": [
              "     Months  Frequencies  Monetary  NumMonth  isDonate\n",
              "0         2           50     12500        98         1\n",
              "1         0           13      3250        28         1\n",
              "2         1           16      4000        35         1\n",
              "3         2           20      5000        45         1\n",
              "4         1           24      6000        77         0\n",
              "..      ...          ...       ...       ...       ...\n",
              "743      23            2       500        38         0\n",
              "744      21            2       500        52         0\n",
              "745      23            3       750        62         0\n",
              "746      39            1       250        39         0\n",
              "747      72            1       250        72         0\n",
              "\n",
              "[748 rows x 5 columns]"
            ]
          },
          "metadata": {},
          "output_type": "display_data"
        }
      ],
      "source": [
        "display(data)\n",
        "# display(data_numMonths)\n",
        "display(data_without_numMonths)"
      ]
    },
    {
      "cell_type": "code",
      "execution_count": 21,
      "metadata": {},
      "outputs": [
        {
          "data": {
            "text/plain": [
              "['Months', 'Frequencies', 'Monetary']"
            ]
          },
          "execution_count": 21,
          "metadata": {},
          "output_type": "execute_result"
        }
      ],
      "source": [
        "features"
      ]
    },
    {
      "cell_type": "code",
      "execution_count": 22,
      "metadata": {},
      "outputs": [
        {
          "data": {
            "application/vnd.microsoft.datawrangler.viewer.v0+json": {
              "columns": [
                {
                  "name": "index",
                  "rawType": "int64",
                  "type": "integer"
                },
                {
                  "name": "Months",
                  "rawType": "float64",
                  "type": "float"
                },
                {
                  "name": "Frequencies",
                  "rawType": "float64",
                  "type": "float"
                },
                {
                  "name": "Monetary",
                  "rawType": "float64",
                  "type": "float"
                },
                {
                  "name": "NumMonth",
                  "rawType": "int64",
                  "type": "integer"
                },
                {
                  "name": "isDonate",
                  "rawType": "int64",
                  "type": "integer"
                }
              ],
              "ref": "2568649a-5201-4f91-b459-bcc11ec5e31d",
              "rows": [
                [
                  "0",
                  "-0.9278987345988959",
                  "7.62334626135984",
                  "7.62334626135984",
                  "98",
                  "1"
                ],
                [
                  "1",
                  "-1.1751180590797417",
                  "1.2827382634817053",
                  "1.2827382634817053",
                  "28",
                  "1"
                ],
                [
                  "2",
                  "-1.0515083968393188",
                  "1.7968416146610133",
                  "1.7968416146610138",
                  "35",
                  "1"
                ],
                [
                  "3",
                  "-0.9278987345988959",
                  "2.482312749566758",
                  "2.4823127495667583",
                  "45",
                  "1"
                ],
                [
                  "4",
                  "-1.0515083968393188",
                  "3.167783884472502",
                  "3.1677838844725024",
                  "77",
                  "0"
                ],
                [
                  "5",
                  "-0.6806794101180503",
                  "-0.25957179005621933",
                  "-0.2595717900562194",
                  "4",
                  "0"
                ],
                [
                  "6",
                  "-0.9278987345988959",
                  "0.2545315611230889",
                  "0.25453156112308883",
                  "14",
                  "1"
                ],
                [
                  "7",
                  "-1.0515083968393188",
                  "1.1113704797552693",
                  "1.1113704797552693",
                  "35",
                  "0"
                ],
                [
                  "8",
                  "-0.9278987345988959",
                  "0.597267128575961",
                  "0.597267128575961",
                  "22",
                  "1"
                ],
                [
                  "9",
                  "-0.5570697478776274",
                  "6.937875126454095",
                  "6.937875126454096",
                  "98",
                  "1"
                ],
                [
                  "10",
                  "-0.6806794101180503",
                  "2.9964161007460657",
                  "2.9964161007460666",
                  "58",
                  "0"
                ],
                [
                  "11",
                  "-1.1751180590797417",
                  "-0.4309395737826554",
                  "-0.4309395737826555",
                  "4",
                  "0"
                ],
                [
                  "12",
                  "-0.9278987345988959",
                  "0.7686349123023971",
                  "0.7686349123023971",
                  "28",
                  "1"
                ],
                [
                  "13",
                  "-1.0515083968393188",
                  "1.2827382634817053",
                  "1.2827382634817053",
                  "47",
                  "0"
                ],
                [
                  "14",
                  "-0.9278987345988959",
                  "0.0831637773966528",
                  "0.08316377739665276",
                  "15",
                  "1"
                ],
                [
                  "15",
                  "-0.9278987345988959",
                  "-0.08820400632978326",
                  "-0.08820400632978333",
                  "11",
                  "1"
                ],
                [
                  "16",
                  "-0.9278987345988959",
                  "1.4541060472081413",
                  "1.4541060472081415",
                  "48",
                  "1"
                ],
                [
                  "17",
                  "-0.9278987345988959",
                  "1.6254738309345773",
                  "1.6254738309345778",
                  "49",
                  "1"
                ],
                [
                  "18",
                  "-0.9278987345988959",
                  "0.0831637773966528",
                  "0.08316377739665276",
                  "15",
                  "1"
                ],
                [
                  "19",
                  "-0.9278987345988959",
                  "-0.4309395737826554",
                  "-0.4309395737826555",
                  "4",
                  "1"
                ],
                [
                  "20",
                  "-0.9278987345988959",
                  "-0.4309395737826554",
                  "-0.4309395737826555",
                  "4",
                  "1"
                ],
                [
                  "21",
                  "-0.6806794101180503",
                  "0.9400026960288331",
                  "0.9400026960288332",
                  "28",
                  "0"
                ],
                [
                  "22",
                  "-0.9278987345988959",
                  "0.0831637773966528",
                  "0.08316377739665276",
                  "16",
                  "1"
                ],
                [
                  "23",
                  "-0.9278987345988959",
                  "0.0831637773966528",
                  "0.08316377739665276",
                  "16",
                  "1"
                ],
                [
                  "24",
                  "-0.06263109891593607",
                  "0.597267128575961",
                  "0.597267128575961",
                  "16",
                  "0"
                ],
                [
                  "25",
                  "-0.6806794101180503",
                  "1.4541060472081413",
                  "1.4541060472081415",
                  "40",
                  "0"
                ],
                [
                  "26",
                  "-0.6806794101180503",
                  "0.0831637773966528",
                  "0.08316377739665276",
                  "14",
                  "0"
                ],
                [
                  "27",
                  "-0.6806794101180503",
                  "1.1113704797552693",
                  "1.1113704797552693",
                  "34",
                  "1"
                ],
                [
                  "28",
                  "-0.6806794101180503",
                  "-0.08820400632978326",
                  "-0.08820400632978333",
                  "11",
                  "1"
                ],
                [
                  "29",
                  "-0.6806794101180503",
                  "0.42589934484952496",
                  "0.42589934484952496",
                  "21",
                  "0"
                ],
                [
                  "30",
                  "-1.0515083968393188",
                  "1.4541060472081413",
                  "1.4541060472081415",
                  "58",
                  "0"
                ],
                [
                  "31",
                  "-0.6806794101180503",
                  "0.7686349123023971",
                  "0.7686349123023971",
                  "28",
                  "1"
                ],
                [
                  "32",
                  "-0.6806794101180503",
                  "0.7686349123023971",
                  "0.7686349123023971",
                  "28",
                  "1"
                ],
                [
                  "33",
                  "-0.6806794101180503",
                  "0.597267128575961",
                  "0.597267128575961",
                  "26",
                  "1"
                ],
                [
                  "34",
                  "-0.9278987345988959",
                  "1.7968416146610133",
                  "1.7968416146610138",
                  "64",
                  "0"
                ],
                [
                  "35",
                  "-0.9278987345988959",
                  "0.42589934484952496",
                  "0.42589934484952496",
                  "28",
                  "1"
                ],
                [
                  "36",
                  "-0.9278987345988959",
                  "1.1113704797552693",
                  "1.1113704797552693",
                  "47",
                  "1"
                ],
                [
                  "37",
                  "-0.6806794101180503",
                  "0.0831637773966528",
                  "0.08316377739665276",
                  "16",
                  "1"
                ],
                [
                  "38",
                  "-0.9278987345988959",
                  "1.4541060472081413",
                  "1.4541060472081415",
                  "57",
                  "1"
                ],
                [
                  "39",
                  "-0.6806794101180503",
                  "0.2545315611230889",
                  "0.25453156112308883",
                  "22",
                  "1"
                ],
                [
                  "40",
                  "-0.9278987345988959",
                  "1.2827382634817053",
                  "1.2827382634817053",
                  "53",
                  "1"
                ],
                [
                  "41",
                  "-0.9278987345988959",
                  "-0.08820400632978326",
                  "-0.08820400632978333",
                  "16",
                  "0"
                ],
                [
                  "42",
                  "-0.9278987345988959",
                  "-0.08820400632978326",
                  "-0.08820400632978333",
                  "16",
                  "1"
                ],
                [
                  "43",
                  "-0.9278987345988959",
                  "-0.08820400632978326",
                  "-0.08820400632978333",
                  "16",
                  "0"
                ],
                [
                  "44",
                  "-0.6806794101180503",
                  "2.482312749566758",
                  "2.4823127495667583",
                  "69",
                  "1"
                ],
                [
                  "45",
                  "-0.6806794101180503",
                  "0.597267128575961",
                  "0.597267128575961",
                  "28",
                  "1"
                ],
                [
                  "46",
                  "-0.9278987345988959",
                  "0.597267128575961",
                  "0.597267128575961",
                  "36",
                  "0"
                ],
                [
                  "47",
                  "-0.9278987345988959",
                  "-0.6023073575090915",
                  "-0.6023073575090916",
                  "2",
                  "0"
                ],
                [
                  "48",
                  "-0.9278987345988959",
                  "-0.6023073575090915",
                  "-0.6023073575090916",
                  "2",
                  "0"
                ],
                [
                  "49",
                  "-0.9278987345988959",
                  "-0.6023073575090915",
                  "-0.6023073575090916",
                  "2",
                  "0"
                ]
              ],
              "shape": {
                "columns": 5,
                "rows": 748
              }
            },
            "text/html": [
              "<div>\n",
              "<style scoped>\n",
              "    .dataframe tbody tr th:only-of-type {\n",
              "        vertical-align: middle;\n",
              "    }\n",
              "\n",
              "    .dataframe tbody tr th {\n",
              "        vertical-align: top;\n",
              "    }\n",
              "\n",
              "    .dataframe thead th {\n",
              "        text-align: right;\n",
              "    }\n",
              "</style>\n",
              "<table border=\"1\" class=\"dataframe\">\n",
              "  <thead>\n",
              "    <tr style=\"text-align: right;\">\n",
              "      <th></th>\n",
              "      <th>Months</th>\n",
              "      <th>Frequencies</th>\n",
              "      <th>Monetary</th>\n",
              "      <th>NumMonth</th>\n",
              "      <th>isDonate</th>\n",
              "    </tr>\n",
              "  </thead>\n",
              "  <tbody>\n",
              "    <tr>\n",
              "      <th>0</th>\n",
              "      <td>-0.927899</td>\n",
              "      <td>7.623346</td>\n",
              "      <td>7.623346</td>\n",
              "      <td>98</td>\n",
              "      <td>1</td>\n",
              "    </tr>\n",
              "    <tr>\n",
              "      <th>1</th>\n",
              "      <td>-1.175118</td>\n",
              "      <td>1.282738</td>\n",
              "      <td>1.282738</td>\n",
              "      <td>28</td>\n",
              "      <td>1</td>\n",
              "    </tr>\n",
              "    <tr>\n",
              "      <th>2</th>\n",
              "      <td>-1.051508</td>\n",
              "      <td>1.796842</td>\n",
              "      <td>1.796842</td>\n",
              "      <td>35</td>\n",
              "      <td>1</td>\n",
              "    </tr>\n",
              "    <tr>\n",
              "      <th>3</th>\n",
              "      <td>-0.927899</td>\n",
              "      <td>2.482313</td>\n",
              "      <td>2.482313</td>\n",
              "      <td>45</td>\n",
              "      <td>1</td>\n",
              "    </tr>\n",
              "    <tr>\n",
              "      <th>4</th>\n",
              "      <td>-1.051508</td>\n",
              "      <td>3.167784</td>\n",
              "      <td>3.167784</td>\n",
              "      <td>77</td>\n",
              "      <td>0</td>\n",
              "    </tr>\n",
              "    <tr>\n",
              "      <th>...</th>\n",
              "      <td>...</td>\n",
              "      <td>...</td>\n",
              "      <td>...</td>\n",
              "      <td>...</td>\n",
              "      <td>...</td>\n",
              "    </tr>\n",
              "    <tr>\n",
              "      <th>743</th>\n",
              "      <td>1.667904</td>\n",
              "      <td>-0.602307</td>\n",
              "      <td>-0.602307</td>\n",
              "      <td>38</td>\n",
              "      <td>0</td>\n",
              "    </tr>\n",
              "    <tr>\n",
              "      <th>744</th>\n",
              "      <td>1.420685</td>\n",
              "      <td>-0.602307</td>\n",
              "      <td>-0.602307</td>\n",
              "      <td>52</td>\n",
              "      <td>0</td>\n",
              "    </tr>\n",
              "    <tr>\n",
              "      <th>745</th>\n",
              "      <td>1.667904</td>\n",
              "      <td>-0.430940</td>\n",
              "      <td>-0.430940</td>\n",
              "      <td>62</td>\n",
              "      <td>0</td>\n",
              "    </tr>\n",
              "    <tr>\n",
              "      <th>746</th>\n",
              "      <td>3.645659</td>\n",
              "      <td>-0.773675</td>\n",
              "      <td>-0.773675</td>\n",
              "      <td>39</td>\n",
              "      <td>0</td>\n",
              "    </tr>\n",
              "    <tr>\n",
              "      <th>747</th>\n",
              "      <td>7.724778</td>\n",
              "      <td>-0.773675</td>\n",
              "      <td>-0.773675</td>\n",
              "      <td>72</td>\n",
              "      <td>0</td>\n",
              "    </tr>\n",
              "  </tbody>\n",
              "</table>\n",
              "<p>748 rows × 5 columns</p>\n",
              "</div>"
            ],
            "text/plain": [
              "       Months  Frequencies  Monetary  NumMonth  isDonate\n",
              "0   -0.927899     7.623346  7.623346        98         1\n",
              "1   -1.175118     1.282738  1.282738        28         1\n",
              "2   -1.051508     1.796842  1.796842        35         1\n",
              "3   -0.927899     2.482313  2.482313        45         1\n",
              "4   -1.051508     3.167784  3.167784        77         0\n",
              "..        ...          ...       ...       ...       ...\n",
              "743  1.667904    -0.602307 -0.602307        38         0\n",
              "744  1.420685    -0.602307 -0.602307        52         0\n",
              "745  1.667904    -0.430940 -0.430940        62         0\n",
              "746  3.645659    -0.773675 -0.773675        39         0\n",
              "747  7.724778    -0.773675 -0.773675        72         0\n",
              "\n",
              "[748 rows x 5 columns]"
            ]
          },
          "execution_count": 22,
          "metadata": {},
          "output_type": "execute_result"
        }
      ],
      "source": [
        "data_without_numMonths[features] = data_scaler\n",
        "data_without_numMonths"
      ]
    },
    {
      "cell_type": "code",
      "execution_count": 24,
      "metadata": {},
      "outputs": [
        {
          "name": "stdout",
          "output_type": "stream",
          "text": [
            "[[-0.92789873  7.62334626  7.62334626]\n",
            " [-1.17511806  1.28273826  1.28273826]\n",
            " [-1.0515084   1.79684161  1.79684161]\n",
            " ...\n",
            " [ 1.66790417 -0.43093957 -0.43093957]\n",
            " [ 3.64565877 -0.77367514 -0.77367514]\n",
            " [ 7.72477762 -0.77367514 -0.77367514]]\n"
          ]
        }
      ],
      "source": [
        "X = data_without_numMonths[features].values\n",
        "print(X)"
      ]
    },
    {
      "cell_type": "markdown",
      "metadata": {
        "id": "BR73dCnrLEiq"
      },
      "source": [
        "# **6. Pembangunan Model Clustering**"
      ]
    },
    {
      "cell_type": "markdown",
      "metadata": {
        "id": "zsGVwzPKMEvn"
      },
      "source": [
        "## **a. Pembangunan Model Clustering & Evaluasi Model Clustering**"
      ]
    },
    {
      "cell_type": "markdown",
      "metadata": {
        "id": "qk63ew39MeBf"
      },
      "source": [
        "Untuk menentukan jumlah cluster yang optimal dalam model clustering, Anda dapat menggunakan metode Elbow atau Silhouette Score.\n",
        "\n",
        "Metode ini membantu kita menemukan jumlah cluster yang memberikan pemisahan terbaik antar kelompok data, sehingga model yang dibangun dapat lebih efektif. Berikut adalah **rekomendasi** tahapannya.\n",
        "1. Gunakan Silhouette Score dan Elbow Method untuk menentukan jumlah cluster optimal.\n",
        "2. Hitung Silhouette Score sebagai ukuran kualitas cluster."
      ]
    },
    {
      "cell_type": "markdown",
      "metadata": {},
      "source": [
        "##### 2. Kode python manual untuk menentukan eps"
      ]
    },
    {
      "cell_type": "code",
      "execution_count": 28,
      "metadata": {},
      "outputs": [],
      "source": [
        "def plot_k_distance(X, k=4):\n",
        "    neigh = NearestNeighbors(n_neighbors=k)\n",
        "    nbrs = neigh.fit(X)\n",
        "    distances, indices = nbrs.kneighbors(X)\n",
        "    \n",
        "    # Ambil jarak ke tetangga ke-k\n",
        "    k_distances = np.sort(distances[:, k-1])\n",
        "    \n",
        "    # Plot\n",
        "    plt.figure(figsize=(8, 4))\n",
        "    plt.plot(k_distances)\n",
        "    plt.xlabel(\"Data Points sorted by distance\")\n",
        "    plt.ylabel(f\"{k}-NN Distance\")\n",
        "    plt.title(f\"K-distance plot (k={k})\")\n",
        "    plt.grid(True)\n",
        "    plt.show()\n",
        "    \n",
        "    return k_distances"
      ]
    },
    {
      "cell_type": "code",
      "execution_count": 29,
      "metadata": {},
      "outputs": [
        {
          "data": {
            "image/png": "[encoded data removed]",
            "text/plain": [
              "<Figure size 800x400 with 1 Axes>"
            ]
          },
          "metadata": {},
          "output_type": "display_data"
        }
      ],
      "source": [
        "# X adalah datamu (harus bentuk numerik dan sudah discale kalau perlu)\n",
        "k_distances = plot_k_distance(X, k=4)"
      ]
    },
    {
      "cell_type": "code",
      "execution_count": null,
      "metadata": {},
      "outputs": [
        {
          "data": {
            "text/html": [
              "<style>#sk-container-id-1 {\n",
              "  /* Definition of color scheme common for light and dark mode */\n",
              "  --sklearn-color-text: black;\n",
              "  --sklearn-color-line: gray;\n",
              "  /* Definition of color scheme for unfitted estimators */\n",
              "  --sklearn-color-unfitted-level-0: #fff5e6;\n",
              "  --sklearn-color-unfitted-level-1: #f6e4d2;\n",
              "  --sklearn-color-unfitted-level-2: #ffe0b3;\n",
              "  --sklearn-color-unfitted-level-3: chocolate;\n",
              "  /* Definition of color scheme for fitted estimators */\n",
              "  --sklearn-color-fitted-level-0: #f0f8ff;\n",
              "  --sklearn-color-fitted-level-1: #d4ebff;\n",
              "  --sklearn-color-fitted-level-2: #b3dbfd;\n",
              "  --sklearn-color-fitted-level-3: cornflowerblue;\n",
              "\n",
              "  /* Specific color for light theme */\n",
              "  --sklearn-color-text-on-default-background: var(--sg-text-color, var(--theme-code-foreground, var(--jp-content-font-color1, black)));\n",
              "  --sklearn-color-background: var(--sg-background-color, var(--theme-background, var(--jp-layout-color0, white)));\n",
              "  --sklearn-color-border-box: var(--sg-text-color, var(--theme-code-foreground, var(--jp-content-font-color1, black)));\n",
              "  --sklearn-color-icon: #696969;\n",
              "\n",
              "  @media (prefers-color-scheme: dark) {\n",
              "    /* Redefinition of color scheme for dark theme */\n",
              "    --sklearn-color-text-on-default-background: var(--sg-text-color, var(--theme-code-foreground, var(--jp-content-font-color1, white)));\n",
              "    --sklearn-color-background: var(--sg-background-color, var(--theme-background, var(--jp-layout-color0, #111)));\n",
              "    --sklearn-color-border-box: var(--sg-text-color, var(--theme-code-foreground, var(--jp-content-font-color1, white)));\n",
              "    --sklearn-color-icon: #878787;\n",
              "  }\n",
              "}\n",
              "\n",
              "#sk-container-id-1 {\n",
              "  color: var(--sklearn-color-text);\n",
              "}\n",
              "\n",
              "#sk-container-id-1 pre {\n",
              "  padding: 0;\n",
              "}\n",
              "\n",
              "#sk-container-id-1 input.sk-hidden--visually {\n",
              "  border: 0;\n",
              "  clip: rect(1px 1px 1px 1px);\n",
              "  clip: rect(1px, 1px, 1px, 1px);\n",
              "  height: 1px;\n",
              "  margin: -1px;\n",
              "  overflow: hidden;\n",
              "  padding: 0;\n",
              "  position: absolute;\n",
              "  width: 1px;\n",
              "}\n",
              "\n",
              "#sk-container-id-1 div.sk-dashed-wrapped {\n",
              "  border: 1px dashed var(--sklearn-color-line);\n",
              "  margin: 0 0.4em 0.5em 0.4em;\n",
              "  box-sizing: border-box;\n",
              "  padding-bottom: 0.4em;\n",
              "  background-color: var(--sklearn-color-background);\n",
              "}\n",
              "\n",
              "#sk-container-id-1 div.sk-container {\n",
              "  /* jupyter's `normalize.less` sets `[hidden] { display: none; }`\n",
              "     but bootstrap.min.css set `[hidden] { display: none !important; }`\n",
              "     so we also need the `!important` here to be able to override the\n",
              "     default hidden behavior on the sphinx rendered scikit-learn.org.\n",
              "     See: https://github.com/scikit-learn/scikit-learn/issues/21755 */\n",
              "  display: inline-block !important;\n",
              "  position: relative;\n",
              "}\n",
              "\n",
              "#sk-container-id-1 div.sk-text-repr-fallback {\n",
              "  display: none;\n",
              "}\n",
              "\n",
              "div.sk-parallel-item,\n",
              "div.sk-serial,\n",
              "div.sk-item {\n",
              "  /* draw centered vertical line to link estimators */\n",
              "  background-image: linear-gradient(var(--sklearn-color-text-on-default-background), var(--sklearn-color-text-on-default-background));\n",
              "  background-size: 2px 100%;\n",
              "  background-repeat: no-repeat;\n",
              "  background-position: center center;\n",
              "}\n",
              "\n",
              "/* Parallel-specific style estimator block */\n",
              "\n",
              "#sk-container-id-1 div.sk-parallel-item::after {\n",
              "  content: \"\";\n",
              "  width: 100%;\n",
              "  border-bottom: 2px solid var(--sklearn-color-text-on-default-background);\n",
              "  flex-grow: 1;\n",
              "}\n",
              "\n",
              "#sk-container-id-1 div.sk-parallel {\n",
              "  display: flex;\n",
              "  align-items: stretch;\n",
              "  justify-content: center;\n",
              "  background-color: var(--sklearn-color-background);\n",
              "  position: relative;\n",
              "}\n",
              "\n",
              "#sk-container-id-1 div.sk-parallel-item {\n",
              "  display: flex;\n",
              "  flex-direction: column;\n",
              "}\n",
              "\n",
              "#sk-container-id-1 div.sk-parallel-item:first-child::after {\n",
              "  align-self: flex-end;\n",
              "  width: 50%;\n",
              "}\n",
              "\n",
              "#sk-container-id-1 div.sk-parallel-item:last-child::after {\n",
              "  align-self: flex-start;\n",
              "  width: 50%;\n",
              "}\n",
              "\n",
              "#sk-container-id-1 div.sk-parallel-item:only-child::after {\n",
              "  width: 0;\n",
              "}\n",
              "\n",
              "/* Serial-specific style estimator block */\n",
              "\n",
              "#sk-container-id-1 div.sk-serial {\n",
              "  display: flex;\n",
              "  flex-direction: column;\n",
              "  align-items: center;\n",
              "  background-color: var(--sklearn-color-background);\n",
              "  padding-right: 1em;\n",
              "  padding-left: 1em;\n",
              "}\n",
              "\n",
              "\n",
              "/* Toggleable style: style used for estimator/Pipeline/ColumnTransformer box that is\n",
              "clickable and can be expanded/collapsed.\n",
              "- Pipeline and ColumnTransformer use this feature and define the default style\n",
              "- Estimators will overwrite some part of the style using the `sk-estimator` class\n",
              "*/\n",
              "\n",
              "/* Pipeline and ColumnTransformer style (default) */\n",
              "\n",
              "#sk-container-id-1 div.sk-toggleable {\n",
              "  /* Default theme specific background. It is overwritten whether we have a\n",
              "  specific estimator or a Pipeline/ColumnTransformer */\n",
              "  background-color: var(--sklearn-color-background);\n",
              "}\n",
              "\n",
              "/* Toggleable label */\n",
              "#sk-container-id-1 label.sk-toggleable__label {\n",
              "  cursor: pointer;\n",
              "  display: block;\n",
              "  width: 100%;\n",
              "  margin-bottom: 0;\n",
              "  padding: 0.5em;\n",
              "  box-sizing: border-box;\n",
              "  text-align: center;\n",
              "}\n",
              "\n",
              "#sk-container-id-1 label.sk-toggleable__label-arrow:before {\n",
              "  /* Arrow on the left of the label */\n",
              "  content: \"▸\";\n",
              "  float: left;\n",
              "  margin-right: 0.25em;\n",
              "  color: var(--sklearn-color-icon);\n",
              "}\n",
              "\n",
              "#sk-container-id-1 label.sk-toggleable__label-arrow:hover:before {\n",
              "  color: var(--sklearn-color-text);\n",
              "}\n",
              "\n",
              "/* Toggleable content - dropdown */\n",
              "\n",
              "#sk-container-id-1 div.sk-toggleable__content {\n",
              "  max-height: 0;\n",
              "  max-width: 0;\n",
              "  overflow: hidden;\n",
              "  text-align: left;\n",
              "  /* unfitted */\n",
              "  background-color: var(--sklearn-color-unfitted-level-0);\n",
              "}\n",
              "\n",
              "#sk-container-id-1 div.sk-toggleable__content.fitted {\n",
              "  /* fitted */\n",
              "  background-color: var(--sklearn-color-fitted-level-0);\n",
              "}\n",
              "\n",
              "#sk-container-id-1 div.sk-toggleable__content pre {\n",
              "  margin: 0.2em;\n",
              "  border-radius: 0.25em;\n",
              "  color: var(--sklearn-color-text);\n",
              "  /* unfitted */\n",
              "  background-color: var(--sklearn-color-unfitted-level-0);\n",
              "}\n",
              "\n",
              "#sk-container-id-1 div.sk-toggleable__content.fitted pre {\n",
              "  /* unfitted */\n",
              "  background-color: var(--sklearn-color-fitted-level-0);\n",
              "}\n",
              "\n",
              "#sk-container-id-1 input.sk-toggleable__control:checked~div.sk-toggleable__content {\n",
              "  /* Expand drop-down */\n",
              "  max-height: 200px;\n",
              "  max-width: 100%;\n",
              "  overflow: auto;\n",
              "}\n",
              "\n",
              "#sk-container-id-1 input.sk-toggleable__control:checked~label.sk-toggleable__label-arrow:before {\n",
              "  content: \"▾\";\n",
              "}\n",
              "\n",
              "/* Pipeline/ColumnTransformer-specific style */\n",
              "\n",
              "#sk-container-id-1 div.sk-label input.sk-toggleable__control:checked~label.sk-toggleable__label {\n",
              "  color: var(--sklearn-color-text);\n",
              "  background-color: var(--sklearn-color-unfitted-level-2);\n",
              "}\n",
              "\n",
              "#sk-container-id-1 div.sk-label.fitted input.sk-toggleable__control:checked~label.sk-toggleable__label {\n",
              "  background-color: var(--sklearn-color-fitted-level-2);\n",
              "}\n",
              "\n",
              "/* Estimator-specific style */\n",
              "\n",
              "/* Colorize estimator box */\n",
              "#sk-container-id-1 div.sk-estimator input.sk-toggleable__control:checked~label.sk-toggleable__label {\n",
              "  /* unfitted */\n",
              "  background-color: var(--sklearn-color-unfitted-level-2);\n",
              "}\n",
              "\n",
              "#sk-container-id-1 div.sk-estimator.fitted input.sk-toggleable__control:checked~label.sk-toggleable__label {\n",
              "  /* fitted */\n",
              "  background-color: var(--sklearn-color-fitted-level-2);\n",
              "}\n",
              "\n",
              "#sk-container-id-1 div.sk-label label.sk-toggleable__label,\n",
              "#sk-container-id-1 div.sk-label label {\n",
              "  /* The background is the default theme color */\n",
              "  color: var(--sklearn-color-text-on-default-background);\n",
              "}\n",
              "\n",
              "/* On hover, darken the color of the background */\n",
              "#sk-container-id-1 div.sk-label:hover label.sk-toggleable__label {\n",
              "  color: var(--sklearn-color-text);\n",
              "  background-color: var(--sklearn-color-unfitted-level-2);\n",
              "}\n",
              "\n",
              "/* Label box, darken color on hover, fitted */\n",
              "#sk-container-id-1 div.sk-label.fitted:hover label.sk-toggleable__label.fitted {\n",
              "  color: var(--sklearn-color-text);\n",
              "  background-color: var(--sklearn-color-fitted-level-2);\n",
              "}\n",
              "\n",
              "/* Estimator label */\n",
              "\n",
              "#sk-container-id-1 div.sk-label label {\n",
              "  font-family: monospace;\n",
              "  font-weight: bold;\n",
              "  display: inline-block;\n",
              "  line-height: 1.2em;\n",
              "}\n",
              "\n",
              "#sk-container-id-1 div.sk-label-container {\n",
              "  text-align: center;\n",
              "}\n",
              "\n",
              "/* Estimator-specific */\n",
              "#sk-container-id-1 div.sk-estimator {\n",
              "  font-family: monospace;\n",
              "  border: 1px dotted var(--sklearn-color-border-box);\n",
              "  border-radius: 0.25em;\n",
              "  box-sizing: border-box;\n",
              "  margin-bottom: 0.5em;\n",
              "  /* unfitted */\n",
              "  background-color: var(--sklearn-color-unfitted-level-0);\n",
              "}\n",
              "\n",
              "#sk-container-id-1 div.sk-estimator.fitted {\n",
              "  /* fitted */\n",
              "  background-color: var(--sklearn-color-fitted-level-0);\n",
              "}\n",
              "\n",
              "/* on hover */\n",
              "#sk-container-id-1 div.sk-estimator:hover {\n",
              "  /* unfitted */\n",
              "  background-color: var(--sklearn-color-unfitted-level-2);\n",
              "}\n",
              "\n",
              "#sk-container-id-1 div.sk-estimator.fitted:hover {\n",
              "  /* fitted */\n",
              "  background-color: var(--sklearn-color-fitted-level-2);\n",
              "}\n",
              "\n",
              "/* Specification for estimator info (e.g. \"i\" and \"?\") */\n",
              "\n",
              "/* Common style for \"i\" and \"?\" */\n",
              "\n",
              ".sk-estimator-doc-link,\n",
              "a:link.sk-estimator-doc-link,\n",
              "a:visited.sk-estimator-doc-link {\n",
              "  float: right;\n",
              "  font-size: smaller;\n",
              "  line-height: 1em;\n",
              "  font-family: monospace;\n",
              "  background-color: var(--sklearn-color-background);\n",
              "  border-radius: 1em;\n",
              "  height: 1em;\n",
              "  width: 1em;\n",
              "  text-decoration: none !important;\n",
              "  margin-left: 1ex;\n",
              "  /* unfitted */\n",
              "  border: var(--sklearn-color-unfitted-level-1) 1pt solid;\n",
              "  color: var(--sklearn-color-unfitted-level-1);\n",
              "}\n",
              "\n",
              ".sk-estimator-doc-link.fitted,\n",
              "a:link.sk-estimator-doc-link.fitted,\n",
              "a:visited.sk-estimator-doc-link.fitted {\n",
              "  /* fitted */\n",
              "  border: var(--sklearn-color-fitted-level-1) 1pt solid;\n",
              "  color: var(--sklearn-color-fitted-level-1);\n",
              "}\n",
              "\n",
              "/* On hover */\n",
              "div.sk-estimator:hover .sk-estimator-doc-link:hover,\n",
              ".sk-estimator-doc-link:hover,\n",
              "div.sk-label-container:hover .sk-estimator-doc-link:hover,\n",
              ".sk-estimator-doc-link:hover {\n",
              "  /* unfitted */\n",
              "  background-color: var(--sklearn-color-unfitted-level-3);\n",
              "  color: var(--sklearn-color-background);\n",
              "  text-decoration: none;\n",
              "}\n",
              "\n",
              "div.sk-estimator.fitted:hover .sk-estimator-doc-link.fitted:hover,\n",
              ".sk-estimator-doc-link.fitted:hover,\n",
              "div.sk-label-container:hover .sk-estimator-doc-link.fitted:hover,\n",
              ".sk-estimator-doc-link.fitted:hover {\n",
              "  /* fitted */\n",
              "  background-color: var(--sklearn-color-fitted-level-3);\n",
              "  color: var(--sklearn-color-background);\n",
              "  text-decoration: none;\n",
              "}\n",
              "\n",
              "/* Span, style for the box shown on hovering the info icon */\n",
              ".sk-estimator-doc-link span {\n",
              "  display: none;\n",
              "  z-index: 9999;\n",
              "  position: relative;\n",
              "  font-weight: normal;\n",
              "  right: .2ex;\n",
              "  padding: .5ex;\n",
              "  margin: .5ex;\n",
              "  width: min-content;\n",
              "  min-width: 20ex;\n",
              "  max-width: 50ex;\n",
              "  color: var(--sklearn-color-text);\n",
              "  box-shadow: 2pt 2pt 4pt #999;\n",
              "  /* unfitted */\n",
              "  background: var(--sklearn-color-unfitted-level-0);\n",
              "  border: .5pt solid var(--sklearn-color-unfitted-level-3);\n",
              "}\n",
              "\n",
              ".sk-estimator-doc-link.fitted span {\n",
              "  /* fitted */\n",
              "  background: var(--sklearn-color-fitted-level-0);\n",
              "  border: var(--sklearn-color-fitted-level-3);\n",
              "}\n",
              "\n",
              ".sk-estimator-doc-link:hover span {\n",
              "  display: block;\n",
              "}\n",
              "\n",
              "/* \"?\"-specific style due to the `<a>` HTML tag */\n",
              "\n",
              "#sk-container-id-1 a.estimator_doc_link {\n",
              "  float: right;\n",
              "  font-size: 1rem;\n",
              "  line-height: 1em;\n",
              "  font-family: monospace;\n",
              "  background-color: var(--sklearn-color-background);\n",
              "  border-radius: 1rem;\n",
              "  height: 1rem;\n",
              "  width: 1rem;\n",
              "  text-decoration: none;\n",
              "  /* unfitted */\n",
              "  color: var(--sklearn-color-unfitted-level-1);\n",
              "  border: var(--sklearn-color-unfitted-level-1) 1pt solid;\n",
              "}\n",
              "\n",
              "#sk-container-id-1 a.estimator_doc_link.fitted {\n",
              "  /* fitted */\n",
              "  border: var(--sklearn-color-fitted-level-1) 1pt solid;\n",
              "  color: var(--sklearn-color-fitted-level-1);\n",
              "}\n",
              "\n",
              "/* On hover */\n",
              "#sk-container-id-1 a.estimator_doc_link:hover {\n",
              "  /* unfitted */\n",
              "  background-color: var(--sklearn-color-unfitted-level-3);\n",
              "  color: var(--sklearn-color-background);\n",
              "  text-decoration: none;\n",
              "}\n",
              "\n",
              "#sk-container-id-1 a.estimator_doc_link.fitted:hover {\n",
              "  /* fitted */\n",
              "  background-color: var(--sklearn-color-fitted-level-3);\n",
              "}\n",
              "</style><div id=\"sk-container-id-1\" class=\"sk-top-container\"><div class=\"sk-text-repr-fallback\"><pre>DBSCAN(min_samples=4)</pre><b>In a Jupyter environment, please rerun this cell to show the HTML representation or trust the notebook. <br />On GitHub, the HTML representation is unable to render, please try loading this page with nbviewer.org.</b></div><div class=\"sk-container\" hidden><div class=\"sk-item\"><div class=\"sk-estimator fitted sk-toggleable\"><input class=\"sk-toggleable__control sk-hidden--visually\" id=\"sk-estimator-id-1\" type=\"checkbox\" checked><label for=\"sk-estimator-id-1\" class=\"sk-toggleable__label fitted sk-toggleable__label-arrow fitted\">&nbsp;&nbsp;DBSCAN<a class=\"sk-estimator-doc-link fitted\" rel=\"noreferrer\" target=\"_blank\" href=\"https://scikit-learn.org/1.5/modules/generated/sklearn.cluster.DBSCAN.html\">?<span>Documentation for DBSCAN</span></a><span class=\"sk-estimator-doc-link fitted\">i<span>Fitted</span></span></label><div class=\"sk-toggleable__content fitted\"><pre>DBSCAN(min_samples=4)</pre></div> </div></div></div></div>"
            ],
            "text/plain": [
              "DBSCAN(min_samples=4)"
            ]
          },
          "execution_count": 30,
          "metadata": {},
          "output_type": "execute_result"
        }
      ],
      "source": [
        "# Inisialisasi dan melatih model dbscan dgn eps (sudah ditentukan sebelumnya)\n",
        "# dapat jumlah eps dari hasil elbow method yang ada di paling atas\n",
        "dbscan = DBSCAN(eps=0.5, min_samples=4)\n",
        "dbscan.fit(X)"
      ]
    },
    {
      "cell_type": "code",
      "execution_count": 31,
      "metadata": {
        "id": "yrPkK_bvM-Ya"
      },
      "outputs": [
        {
          "name": "stdout",
          "output_type": "stream",
          "text": [
            "Silhouette Score: 0.463930\n"
          ]
        }
      ],
      "source": [
        "# kmeans = KMeans(n_clusters=3, random_state=42)\n",
        "print(f\"Silhouette Score: {silhouette_score(X, dbscan.fit_predict(X)):1f}\")"
      ]
    },
    {
      "cell_type": "markdown",
      "metadata": {
        "id": "vWZp5vKNQddd"
      },
      "source": [
        "## **b. Feature Selection (Opsional)**\n",
        "### untuk membandingkan hasil yg pake lib kneed dengan hasil yg pake kode python"
      ]
    },
    {
      "cell_type": "markdown",
      "metadata": {},
      "source": [
        "##### 1. Kneed untuk menentukan eps"
      ]
    },
    {
      "cell_type": "code",
      "execution_count": 25,
      "metadata": {},
      "outputs": [],
      "source": [
        "def find_eps_with_kneed(X, k=4, plot=True):\n",
        "    # Langkah 1: Hitung k-distance\n",
        "    neighbors = NearestNeighbors(n_neighbors=k)\n",
        "    neighbors_fit = neighbors.fit(X)\n",
        "    distances, indices = neighbors_fit.kneighbors(X)\n",
        "    k_distances = np.sort(distances[:, k-1])\n",
        "\n",
        "    # Langkah 2: Gunakan KneeLocator\n",
        "    kneedle = KneeLocator(range(len(k_distances)), k_distances, curve='convex', direction='increasing')\n",
        "    eps = k_distances[kneedle.knee]\n",
        "\n",
        "    # Opsional: visualisasi\n",
        "    if plot:\n",
        "        plt.figure(figsize=(8, 4))\n",
        "        plt.plot(k_distances, label='k-distance')\n",
        "        plt.axvline(kneedle.knee, color='r', linestyle='--', label='elbow')\n",
        "        plt.xlabel(\"Points sorted by distance\")\n",
        "        plt.ylabel(f\"{k}-NN Distance\")\n",
        "        plt.title(f\"KneeLocator detected eps = {eps:.3f}\")\n",
        "        plt.legend()\n",
        "        plt.grid(True)\n",
        "        plt.show()\n",
        "\n",
        "    return eps"
      ]
    },
    {
      "cell_type": "code",
      "execution_count": 26,
      "metadata": {},
      "outputs": [
        {
          "data": {
            "image/png": "[encoded data removed]",
            "text/plain": [
              "<Figure size 800x400 with 1 Axes>"
            ]
          },
          "metadata": {},
          "output_type": "display_data"
        },
        {
          "data": {
            "text/plain": [
              "0.5002146409229503"
            ]
          },
          "execution_count": 26,
          "metadata": {},
          "output_type": "execute_result"
        }
      ],
      "source": [
        "eps = find_eps_with_kneed(X, k=4)  # atau k=5 sesuai kebutuhan\n",
        "eps"
      ]
    },
    {
      "cell_type": "code",
      "execution_count": 28,
      "metadata": {},
      "outputs": [
        {
          "data": {
            "text/html": [
              "<style>#sk-container-id-1 {\n",
              "  /* Definition of color scheme common for light and dark mode */\n",
              "  --sklearn-color-text: black;\n",
              "  --sklearn-color-line: gray;\n",
              "  /* Definition of color scheme for unfitted estimators */\n",
              "  --sklearn-color-unfitted-level-0: #fff5e6;\n",
              "  --sklearn-color-unfitted-level-1: #f6e4d2;\n",
              "  --sklearn-color-unfitted-level-2: #ffe0b3;\n",
              "  --sklearn-color-unfitted-level-3: chocolate;\n",
              "  /* Definition of color scheme for fitted estimators */\n",
              "  --sklearn-color-fitted-level-0: #f0f8ff;\n",
              "  --sklearn-color-fitted-level-1: #d4ebff;\n",
              "  --sklearn-color-fitted-level-2: #b3dbfd;\n",
              "  --sklearn-color-fitted-level-3: cornflowerblue;\n",
              "\n",
              "  /* Specific color for light theme */\n",
              "  --sklearn-color-text-on-default-background: var(--sg-text-color, var(--theme-code-foreground, var(--jp-content-font-color1, black)));\n",
              "  --sklearn-color-background: var(--sg-background-color, var(--theme-background, var(--jp-layout-color0, white)));\n",
              "  --sklearn-color-border-box: var(--sg-text-color, var(--theme-code-foreground, var(--jp-content-font-color1, black)));\n",
              "  --sklearn-color-icon: #696969;\n",
              "\n",
              "  @media (prefers-color-scheme: dark) {\n",
              "    /* Redefinition of color scheme for dark theme */\n",
              "    --sklearn-color-text-on-default-background: var(--sg-text-color, var(--theme-code-foreground, var(--jp-content-font-color1, white)));\n",
              "    --sklearn-color-background: var(--sg-background-color, var(--theme-background, var(--jp-layout-color0, #111)));\n",
              "    --sklearn-color-border-box: var(--sg-text-color, var(--theme-code-foreground, var(--jp-content-font-color1, white)));\n",
              "    --sklearn-color-icon: #878787;\n",
              "  }\n",
              "}\n",
              "\n",
              "#sk-container-id-1 {\n",
              "  color: var(--sklearn-color-text);\n",
              "}\n",
              "\n",
              "#sk-container-id-1 pre {\n",
              "  padding: 0;\n",
              "}\n",
              "\n",
              "#sk-container-id-1 input.sk-hidden--visually {\n",
              "  border: 0;\n",
              "  clip: rect(1px 1px 1px 1px);\n",
              "  clip: rect(1px, 1px, 1px, 1px);\n",
              "  height: 1px;\n",
              "  margin: -1px;\n",
              "  overflow: hidden;\n",
              "  padding: 0;\n",
              "  position: absolute;\n",
              "  width: 1px;\n",
              "}\n",
              "\n",
              "#sk-container-id-1 div.sk-dashed-wrapped {\n",
              "  border: 1px dashed var(--sklearn-color-line);\n",
              "  margin: 0 0.4em 0.5em 0.4em;\n",
              "  box-sizing: border-box;\n",
              "  padding-bottom: 0.4em;\n",
              "  background-color: var(--sklearn-color-background);\n",
              "}\n",
              "\n",
              "#sk-container-id-1 div.sk-container {\n",
              "  /* jupyter's `normalize.less` sets `[hidden] { display: none; }`\n",
              "     but bootstrap.min.css set `[hidden] { display: none !important; }`\n",
              "     so we also need the `!important` here to be able to override the\n",
              "     default hidden behavior on the sphinx rendered scikit-learn.org.\n",
              "     See: https://github.com/scikit-learn/scikit-learn/issues/21755 */\n",
              "  display: inline-block !important;\n",
              "  position: relative;\n",
              "}\n",
              "\n",
              "#sk-container-id-1 div.sk-text-repr-fallback {\n",
              "  display: none;\n",
              "}\n",
              "\n",
              "div.sk-parallel-item,\n",
              "div.sk-serial,\n",
              "div.sk-item {\n",
              "  /* draw centered vertical line to link estimators */\n",
              "  background-image: linear-gradient(var(--sklearn-color-text-on-default-background), var(--sklearn-color-text-on-default-background));\n",
              "  background-size: 2px 100%;\n",
              "  background-repeat: no-repeat;\n",
              "  background-position: center center;\n",
              "}\n",
              "\n",
              "/* Parallel-specific style estimator block */\n",
              "\n",
              "#sk-container-id-1 div.sk-parallel-item::after {\n",
              "  content: \"\";\n",
              "  width: 100%;\n",
              "  border-bottom: 2px solid var(--sklearn-color-text-on-default-background);\n",
              "  flex-grow: 1;\n",
              "}\n",
              "\n",
              "#sk-container-id-1 div.sk-parallel {\n",
              "  display: flex;\n",
              "  align-items: stretch;\n",
              "  justify-content: center;\n",
              "  background-color: var(--sklearn-color-background);\n",
              "  position: relative;\n",
              "}\n",
              "\n",
              "#sk-container-id-1 div.sk-parallel-item {\n",
              "  display: flex;\n",
              "  flex-direction: column;\n",
              "}\n",
              "\n",
              "#sk-container-id-1 div.sk-parallel-item:first-child::after {\n",
              "  align-self: flex-end;\n",
              "  width: 50%;\n",
              "}\n",
              "\n",
              "#sk-container-id-1 div.sk-parallel-item:last-child::after {\n",
              "  align-self: flex-start;\n",
              "  width: 50%;\n",
              "}\n",
              "\n",
              "#sk-container-id-1 div.sk-parallel-item:only-child::after {\n",
              "  width: 0;\n",
              "}\n",
              "\n",
              "/* Serial-specific style estimator block */\n",
              "\n",
              "#sk-container-id-1 div.sk-serial {\n",
              "  display: flex;\n",
              "  flex-direction: column;\n",
              "  align-items: center;\n",
              "  background-color: var(--sklearn-color-background);\n",
              "  padding-right: 1em;\n",
              "  padding-left: 1em;\n",
              "}\n",
              "\n",
              "\n",
              "/* Toggleable style: style used for estimator/Pipeline/ColumnTransformer box that is\n",
              "clickable and can be expanded/collapsed.\n",
              "- Pipeline and ColumnTransformer use this feature and define the default style\n",
              "- Estimators will overwrite some part of the style using the `sk-estimator` class\n",
              "*/\n",
              "\n",
              "/* Pipeline and ColumnTransformer style (default) */\n",
              "\n",
              "#sk-container-id-1 div.sk-toggleable {\n",
              "  /* Default theme specific background. It is overwritten whether we have a\n",
              "  specific estimator or a Pipeline/ColumnTransformer */\n",
              "  background-color: var(--sklearn-color-background);\n",
              "}\n",
              "\n",
              "/* Toggleable label */\n",
              "#sk-container-id-1 label.sk-toggleable__label {\n",
              "  cursor: pointer;\n",
              "  display: block;\n",
              "  width: 100%;\n",
              "  margin-bottom: 0;\n",
              "  padding: 0.5em;\n",
              "  box-sizing: border-box;\n",
              "  text-align: center;\n",
              "}\n",
              "\n",
              "#sk-container-id-1 label.sk-toggleable__label-arrow:before {\n",
              "  /* Arrow on the left of the label */\n",
              "  content: \"▸\";\n",
              "  float: left;\n",
              "  margin-right: 0.25em;\n",
              "  color: var(--sklearn-color-icon);\n",
              "}\n",
              "\n",
              "#sk-container-id-1 label.sk-toggleable__label-arrow:hover:before {\n",
              "  color: var(--sklearn-color-text);\n",
              "}\n",
              "\n",
              "/* Toggleable content - dropdown */\n",
              "\n",
              "#sk-container-id-1 div.sk-toggleable__content {\n",
              "  max-height: 0;\n",
              "  max-width: 0;\n",
              "  overflow: hidden;\n",
              "  text-align: left;\n",
              "  /* unfitted */\n",
              "  background-color: var(--sklearn-color-unfitted-level-0);\n",
              "}\n",
              "\n",
              "#sk-container-id-1 div.sk-toggleable__content.fitted {\n",
              "  /* fitted */\n",
              "  background-color: var(--sklearn-color-fitted-level-0);\n",
              "}\n",
              "\n",
              "#sk-container-id-1 div.sk-toggleable__content pre {\n",
              "  margin: 0.2em;\n",
              "  border-radius: 0.25em;\n",
              "  color: var(--sklearn-color-text);\n",
              "  /* unfitted */\n",
              "  background-color: var(--sklearn-color-unfitted-level-0);\n",
              "}\n",
              "\n",
              "#sk-container-id-1 div.sk-toggleable__content.fitted pre {\n",
              "  /* unfitted */\n",
              "  background-color: var(--sklearn-color-fitted-level-0);\n",
              "}\n",
              "\n",
              "#sk-container-id-1 input.sk-toggleable__control:checked~div.sk-toggleable__content {\n",
              "  /* Expand drop-down */\n",
              "  max-height: 200px;\n",
              "  max-width: 100%;\n",
              "  overflow: auto;\n",
              "}\n",
              "\n",
              "#sk-container-id-1 input.sk-toggleable__control:checked~label.sk-toggleable__label-arrow:before {\n",
              "  content: \"▾\";\n",
              "}\n",
              "\n",
              "/* Pipeline/ColumnTransformer-specific style */\n",
              "\n",
              "#sk-container-id-1 div.sk-label input.sk-toggleable__control:checked~label.sk-toggleable__label {\n",
              "  color: var(--sklearn-color-text);\n",
              "  background-color: var(--sklearn-color-unfitted-level-2);\n",
              "}\n",
              "\n",
              "#sk-container-id-1 div.sk-label.fitted input.sk-toggleable__control:checked~label.sk-toggleable__label {\n",
              "  background-color: var(--sklearn-color-fitted-level-2);\n",
              "}\n",
              "\n",
              "/* Estimator-specific style */\n",
              "\n",
              "/* Colorize estimator box */\n",
              "#sk-container-id-1 div.sk-estimator input.sk-toggleable__control:checked~label.sk-toggleable__label {\n",
              "  /* unfitted */\n",
              "  background-color: var(--sklearn-color-unfitted-level-2);\n",
              "}\n",
              "\n",
              "#sk-container-id-1 div.sk-estimator.fitted input.sk-toggleable__control:checked~label.sk-toggleable__label {\n",
              "  /* fitted */\n",
              "  background-color: var(--sklearn-color-fitted-level-2);\n",
              "}\n",
              "\n",
              "#sk-container-id-1 div.sk-label label.sk-toggleable__label,\n",
              "#sk-container-id-1 div.sk-label label {\n",
              "  /* The background is the default theme color */\n",
              "  color: var(--sklearn-color-text-on-default-background);\n",
              "}\n",
              "\n",
              "/* On hover, darken the color of the background */\n",
              "#sk-container-id-1 div.sk-label:hover label.sk-toggleable__label {\n",
              "  color: var(--sklearn-color-text);\n",
              "  background-color: var(--sklearn-color-unfitted-level-2);\n",
              "}\n",
              "\n",
              "/* Label box, darken color on hover, fitted */\n",
              "#sk-container-id-1 div.sk-label.fitted:hover label.sk-toggleable__label.fitted {\n",
              "  color: var(--sklearn-color-text);\n",
              "  background-color: var(--sklearn-color-fitted-level-2);\n",
              "}\n",
              "\n",
              "/* Estimator label */\n",
              "\n",
              "#sk-container-id-1 div.sk-label label {\n",
              "  font-family: monospace;\n",
              "  font-weight: bold;\n",
              "  display: inline-block;\n",
              "  line-height: 1.2em;\n",
              "}\n",
              "\n",
              "#sk-container-id-1 div.sk-label-container {\n",
              "  text-align: center;\n",
              "}\n",
              "\n",
              "/* Estimator-specific */\n",
              "#sk-container-id-1 div.sk-estimator {\n",
              "  font-family: monospace;\n",
              "  border: 1px dotted var(--sklearn-color-border-box);\n",
              "  border-radius: 0.25em;\n",
              "  box-sizing: border-box;\n",
              "  margin-bottom: 0.5em;\n",
              "  /* unfitted */\n",
              "  background-color: var(--sklearn-color-unfitted-level-0);\n",
              "}\n",
              "\n",
              "#sk-container-id-1 div.sk-estimator.fitted {\n",
              "  /* fitted */\n",
              "  background-color: var(--sklearn-color-fitted-level-0);\n",
              "}\n",
              "\n",
              "/* on hover */\n",
              "#sk-container-id-1 div.sk-estimator:hover {\n",
              "  /* unfitted */\n",
              "  background-color: var(--sklearn-color-unfitted-level-2);\n",
              "}\n",
              "\n",
              "#sk-container-id-1 div.sk-estimator.fitted:hover {\n",
              "  /* fitted */\n",
              "  background-color: var(--sklearn-color-fitted-level-2);\n",
              "}\n",
              "\n",
              "/* Specification for estimator info (e.g. \"i\" and \"?\") */\n",
              "\n",
              "/* Common style for \"i\" and \"?\" */\n",
              "\n",
              ".sk-estimator-doc-link,\n",
              "a:link.sk-estimator-doc-link,\n",
              "a:visited.sk-estimator-doc-link {\n",
              "  float: right;\n",
              "  font-size: smaller;\n",
              "  line-height: 1em;\n",
              "  font-family: monospace;\n",
              "  background-color: var(--sklearn-color-background);\n",
              "  border-radius: 1em;\n",
              "  height: 1em;\n",
              "  width: 1em;\n",
              "  text-decoration: none !important;\n",
              "  margin-left: 1ex;\n",
              "  /* unfitted */\n",
              "  border: var(--sklearn-color-unfitted-level-1) 1pt solid;\n",
              "  color: var(--sklearn-color-unfitted-level-1);\n",
              "}\n",
              "\n",
              ".sk-estimator-doc-link.fitted,\n",
              "a:link.sk-estimator-doc-link.fitted,\n",
              "a:visited.sk-estimator-doc-link.fitted {\n",
              "  /* fitted */\n",
              "  border: var(--sklearn-color-fitted-level-1) 1pt solid;\n",
              "  color: var(--sklearn-color-fitted-level-1);\n",
              "}\n",
              "\n",
              "/* On hover */\n",
              "div.sk-estimator:hover .sk-estimator-doc-link:hover,\n",
              ".sk-estimator-doc-link:hover,\n",
              "div.sk-label-container:hover .sk-estimator-doc-link:hover,\n",
              ".sk-estimator-doc-link:hover {\n",
              "  /* unfitted */\n",
              "  background-color: var(--sklearn-color-unfitted-level-3);\n",
              "  color: var(--sklearn-color-background);\n",
              "  text-decoration: none;\n",
              "}\n",
              "\n",
              "div.sk-estimator.fitted:hover .sk-estimator-doc-link.fitted:hover,\n",
              ".sk-estimator-doc-link.fitted:hover,\n",
              "div.sk-label-container:hover .sk-estimator-doc-link.fitted:hover,\n",
              ".sk-estimator-doc-link.fitted:hover {\n",
              "  /* fitted */\n",
              "  background-color: var(--sklearn-color-fitted-level-3);\n",
              "  color: var(--sklearn-color-background);\n",
              "  text-decoration: none;\n",
              "}\n",
              "\n",
              "/* Span, style for the box shown on hovering the info icon */\n",
              ".sk-estimator-doc-link span {\n",
              "  display: none;\n",
              "  z-index: 9999;\n",
              "  position: relative;\n",
              "  font-weight: normal;\n",
              "  right: .2ex;\n",
              "  padding: .5ex;\n",
              "  margin: .5ex;\n",
              "  width: min-content;\n",
              "  min-width: 20ex;\n",
              "  max-width: 50ex;\n",
              "  color: var(--sklearn-color-text);\n",
              "  box-shadow: 2pt 2pt 4pt #999;\n",
              "  /* unfitted */\n",
              "  background: var(--sklearn-color-unfitted-level-0);\n",
              "  border: .5pt solid var(--sklearn-color-unfitted-level-3);\n",
              "}\n",
              "\n",
              ".sk-estimator-doc-link.fitted span {\n",
              "  /* fitted */\n",
              "  background: var(--sklearn-color-fitted-level-0);\n",
              "  border: var(--sklearn-color-fitted-level-3);\n",
              "}\n",
              "\n",
              ".sk-estimator-doc-link:hover span {\n",
              "  display: block;\n",
              "}\n",
              "\n",
              "/* \"?\"-specific style due to the `<a>` HTML tag */\n",
              "\n",
              "#sk-container-id-1 a.estimator_doc_link {\n",
              "  float: right;\n",
              "  font-size: 1rem;\n",
              "  line-height: 1em;\n",
              "  font-family: monospace;\n",
              "  background-color: var(--sklearn-color-background);\n",
              "  border-radius: 1rem;\n",
              "  height: 1rem;\n",
              "  width: 1rem;\n",
              "  text-decoration: none;\n",
              "  /* unfitted */\n",
              "  color: var(--sklearn-color-unfitted-level-1);\n",
              "  border: var(--sklearn-color-unfitted-level-1) 1pt solid;\n",
              "}\n",
              "\n",
              "#sk-container-id-1 a.estimator_doc_link.fitted {\n",
              "  /* fitted */\n",
              "  border: var(--sklearn-color-fitted-level-1) 1pt solid;\n",
              "  color: var(--sklearn-color-fitted-level-1);\n",
              "}\n",
              "\n",
              "/* On hover */\n",
              "#sk-container-id-1 a.estimator_doc_link:hover {\n",
              "  /* unfitted */\n",
              "  background-color: var(--sklearn-color-unfitted-level-3);\n",
              "  color: var(--sklearn-color-background);\n",
              "  text-decoration: none;\n",
              "}\n",
              "\n",
              "#sk-container-id-1 a.estimator_doc_link.fitted:hover {\n",
              "  /* fitted */\n",
              "  background-color: var(--sklearn-color-fitted-level-3);\n",
              "}\n",
              "</style><div id=\"sk-container-id-1\" class=\"sk-top-container\"><div class=\"sk-text-repr-fallback\"><pre>DBSCAN(min_samples=4)</pre><b>In a Jupyter environment, please rerun this cell to show the HTML representation or trust the notebook. <br />On GitHub, the HTML representation is unable to render, please try loading this page with nbviewer.org.</b></div><div class=\"sk-container\" hidden><div class=\"sk-item\"><div class=\"sk-estimator fitted sk-toggleable\"><input class=\"sk-toggleable__control sk-hidden--visually\" id=\"sk-estimator-id-1\" type=\"checkbox\" checked><label for=\"sk-estimator-id-1\" class=\"sk-toggleable__label fitted sk-toggleable__label-arrow fitted\">&nbsp;&nbsp;DBSCAN<a class=\"sk-estimator-doc-link fitted\" rel=\"noreferrer\" target=\"_blank\" href=\"https://scikit-learn.org/1.5/modules/generated/sklearn.cluster.DBSCAN.html\">?<span>Documentation for DBSCAN</span></a><span class=\"sk-estimator-doc-link fitted\">i<span>Fitted</span></span></label><div class=\"sk-toggleable__content fitted\"><pre>DBSCAN(min_samples=4)</pre></div> </div></div></div></div>"
            ],
            "text/plain": [
              "DBSCAN(min_samples=4)"
            ]
          },
          "execution_count": 28,
          "metadata": {},
          "output_type": "execute_result"
        }
      ],
      "source": [
        "dbscan = DBSCAN(eps=0.5, min_samples=4)\n",
        "dbscan.fit(X)"
      ]
    },
    {
      "cell_type": "code",
      "execution_count": 29,
      "metadata": {},
      "outputs": [
        {
          "name": "stdout",
          "output_type": "stream",
          "text": [
            "Silhouette Score: 0.463930\n"
          ]
        }
      ],
      "source": [
        "print(f\"Silhouette Score: {silhouette_score(X, dbscan.fit_predict(X)):1f}\")"
      ]
    },
    {
      "cell_type": "code",
      "execution_count": 30,
      "metadata": {},
      "outputs": [
        {
          "name": "stdout",
          "output_type": "stream",
          "text": [
            "['y', 'b', 'g', 'r']\n"
          ]
        },
        {
          "data": {
            "image/png": "[encoded data removed]",
            "text/plain": [
              "<Figure size 640x480 with 1 Axes>"
            ]
          },
          "metadata": {},
          "output_type": "display_data"
        }
      ],
      "source": [
        "core_samples_mask = np.zeros_like(dbscan.labels_, dtype=bool)\n",
        "core_samples_mask[dbscan.core_sample_indices_] = True\n",
        "labels = dbscan.labels_\n",
        "\n",
        "# Number of clusters in labels, ignoring noise if present.\n",
        "n_clusters_ = len(set(labels)) - (1 if -1 in labels else 0)\n",
        "\n",
        "unique_labels = set(labels)\n",
        "colors = ['y', 'b', 'g', 'r']\n",
        "print(colors)\n",
        "for k, col in zip(unique_labels, colors):\n",
        "    if k == -1:\n",
        "        # Black used for noise.\n",
        "        col = 'k'\n",
        "\n",
        "    class_member_mask = (labels == k)\n",
        "\n",
        "    xy = X[class_member_mask & core_samples_mask]\n",
        "    plt.plot(xy[:, 0], xy[:, 1], 'o', markerfacecolor=col,\n",
        "             markeredgecolor='k',\n",
        "             markersize=6)\n",
        "\n",
        "    xy = X[class_member_mask & ~core_samples_mask]\n",
        "    plt.plot(xy[:, 0], xy[:, 1], 'o', markerfacecolor=col,\n",
        "             markeredgecolor='k',\n",
        "             markersize=6)\n",
        "\n",
        "plt.title('number of clusters: %d' % n_clusters_)\n",
        "plt.show()"
      ]
    },
    {
      "cell_type": "markdown",
      "metadata": {
        "id": "nn01TKkLLRiF"
      },
      "source": [
        "## **c. Visualisasi Hasil Clustering**"
      ]
    },
    {
      "cell_type": "code",
      "execution_count": 32,
      "metadata": {},
      "outputs": [
        {
          "name": "stdout",
          "output_type": "stream",
          "text": [
            "['y', 'b', 'g', 'r']\n"
          ]
        },
        {
          "data": {
            "image/png": "[encoded data removed]",
            "text/plain": [
              "<Figure size 800x550 with 1 Axes>"
            ]
          },
          "metadata": {},
          "output_type": "display_data"
        }
      ],
      "source": [
        "core_samples_mask = np.zeros_like(dbscan.labels_, dtype=bool)\n",
        "core_samples_mask[dbscan.core_sample_indices_] = True\n",
        "labels = dbscan.labels_\n",
        "\n",
        "# Number of clusters in labels, ignoring noise if present.\n",
        "n_clusters_ = len(set(labels)) - (1 if -1 in labels else 0)\n",
        "\n",
        "unique_labels = set(labels)\n",
        "colors = ['y', 'b', 'g', 'r']\n",
        "print(colors)\n",
        "for k, col in zip(unique_labels, colors):\n",
        "    if k == -1:\n",
        "        # Black used for noise.\n",
        "        col = 'k'\n",
        "\n",
        "    class_member_mask = (labels == k)\n",
        "\n",
        "    xy = X[class_member_mask & core_samples_mask]\n",
        "    plt.plot(xy[:, 0], xy[:, 1], 'o', markerfacecolor=col,\n",
        "             markeredgecolor='k',\n",
        "             markersize=6)\n",
        "\n",
        "    xy = X[class_member_mask & ~core_samples_mask]\n",
        "    plt.plot(xy[:, 0], xy[:, 1], 'o', markerfacecolor=col,\n",
        "             markeredgecolor='k',\n",
        "             markersize=6)\n",
        "\n",
        "plt.title('number of clusters: %d' % n_clusters_)\n",
        "plt.show()"
      ]
    },
    {
      "cell_type": "markdown",
      "metadata": {
        "id": "X4eydPWJLH4I"
      },
      "source": [
        "## **d. Return Values & Hasil Cluster**"
      ]
    },
    {
      "cell_type": "markdown",
      "metadata": {
        "id": "mxTeTkTkA7o6"
      },
      "source": [
        "### Interpretasi Target"
      ]
    },
    {
      "cell_type": "markdown",
      "metadata": {
        "id": "NJDsBARmIsbW"
      },
      "source": [
        "**Tutorial: Melakukan Inverse Transform pada Data Target Setelah Clustering**\n",
        "\n",
        "Setelah melakukan clustering dengan model **KMeans**, kita perlu mengembalikan data yang telah diubah (normalisasi, standarisasi, atau label encoding) ke bentuk aslinya. Berikut adalah langkah-langkahnya.\n",
        "\n",
        "---\n",
        "\n",
        "**1. Tambahkan Hasil Label Cluster ke DataFrame**\n",
        "Setelah mendapatkan hasil clustering, kita tambahkan label cluster ke dalam DataFrame yang telah dinormalisasi.\n",
        "\n",
        "```python\n",
        "df_normalized['Cluster'] = model_kmeans.labels_\n",
        "```\n",
        "\n",
        "Lakukan Inverse Transform pada feature yang sudah dilakukan Labelisasi dan Standararisasi. Berikut code untuk melakukannya:\n",
        "label_encoder.inverse_transform(X_Selected[['Fitur']])\n",
        "\n",
        "Lalu masukkan ke dalam kolom dataset asli atau membuat dataframe baru\n",
        "```python\n",
        "df_normalized['Fitur'] = label_encoder.inverse_transform(df_normalized[['Fitur']])\n",
        "```\n",
        "Masukkan Data yang Sudah Di-Inverse ke dalam Dataset Asli atau Buat DataFrame Baru\n",
        "```python\n",
        "df_original['Fitur'] = df_normalized['Fitur']\n",
        "```"
      ]
    },
    {
      "cell_type": "code",
      "execution_count": 33,
      "metadata": {
        "id": "ySc78cHdOiaQ"
      },
      "outputs": [
        {
          "data": {
            "application/vnd.microsoft.datawrangler.viewer.v0+json": {
              "columns": [
                {
                  "name": "index",
                  "rawType": "int64",
                  "type": "integer"
                },
                {
                  "name": "Cluster",
                  "rawType": "int64",
                  "type": "integer"
                }
              ],
              "ref": "fcdfd199-5298-4c6b-a00d-59e130e57866",
              "rows": [
                [
                  "0",
                  "-1"
                ],
                [
                  "1",
                  "0"
                ],
                [
                  "2",
                  "0"
                ],
                [
                  "3",
                  "0"
                ],
                [
                  "4",
                  "1"
                ],
                [
                  "5",
                  "0"
                ],
                [
                  "6",
                  "0"
                ],
                [
                  "7",
                  "0"
                ],
                [
                  "8",
                  "0"
                ],
                [
                  "9",
                  "-1"
                ],
                [
                  "10",
                  "1"
                ],
                [
                  "11",
                  "0"
                ],
                [
                  "12",
                  "0"
                ],
                [
                  "13",
                  "0"
                ],
                [
                  "14",
                  "0"
                ],
                [
                  "15",
                  "0"
                ],
                [
                  "16",
                  "0"
                ],
                [
                  "17",
                  "0"
                ],
                [
                  "18",
                  "0"
                ],
                [
                  "19",
                  "0"
                ],
                [
                  "20",
                  "0"
                ],
                [
                  "21",
                  "0"
                ],
                [
                  "22",
                  "0"
                ],
                [
                  "23",
                  "0"
                ],
                [
                  "24",
                  "0"
                ],
                [
                  "25",
                  "0"
                ],
                [
                  "26",
                  "0"
                ],
                [
                  "27",
                  "0"
                ],
                [
                  "28",
                  "0"
                ],
                [
                  "29",
                  "0"
                ],
                [
                  "30",
                  "0"
                ],
                [
                  "31",
                  "0"
                ],
                [
                  "32",
                  "0"
                ],
                [
                  "33",
                  "0"
                ],
                [
                  "34",
                  "0"
                ],
                [
                  "35",
                  "0"
                ],
                [
                  "36",
                  "0"
                ],
                [
                  "37",
                  "0"
                ],
                [
                  "38",
                  "0"
                ],
                [
                  "39",
                  "0"
                ],
                [
                  "40",
                  "0"
                ],
                [
                  "41",
                  "0"
                ],
                [
                  "42",
                  "0"
                ],
                [
                  "43",
                  "0"
                ],
                [
                  "44",
                  "0"
                ],
                [
                  "45",
                  "0"
                ],
                [
                  "46",
                  "0"
                ],
                [
                  "47",
                  "0"
                ],
                [
                  "48",
                  "0"
                ],
                [
                  "49",
                  "0"
                ]
              ],
              "shape": {
                "columns": 1,
                "rows": 748
              }
            },
            "text/plain": [
              "0     -1\n",
              "1      0\n",
              "2      0\n",
              "3      0\n",
              "4      1\n",
              "      ..\n",
              "743    0\n",
              "744    0\n",
              "745    0\n",
              "746    2\n",
              "747   -1\n",
              "Name: Cluster, Length: 748, dtype: int64"
            ]
          },
          "execution_count": 33,
          "metadata": {},
          "output_type": "execute_result"
        }
      ],
      "source": [
        "data_without_numMonths['Cluster'] = dbscan.labels_\n",
        "data_without_numMonths['Cluster']"
      ]
    },
    {
      "cell_type": "code",
      "execution_count": 34,
      "metadata": {},
      "outputs": [
        {
          "data": {
            "application/vnd.microsoft.datawrangler.viewer.v0+json": {
              "columns": [
                {
                  "name": "index",
                  "rawType": "int64",
                  "type": "integer"
                },
                {
                  "name": "Months",
                  "rawType": "float64",
                  "type": "float"
                },
                {
                  "name": "Frequencies",
                  "rawType": "float64",
                  "type": "float"
                },
                {
                  "name": "Monetary",
                  "rawType": "float64",
                  "type": "float"
                },
                {
                  "name": "NumMonth",
                  "rawType": "int64",
                  "type": "integer"
                },
                {
                  "name": "isDonate",
                  "rawType": "int64",
                  "type": "integer"
                },
                {
                  "name": "Cluster",
                  "rawType": "int64",
                  "type": "integer"
                }
              ],
              "ref": "d9d6120a-171d-43a5-9bd1-71cc55bb31e2",
              "rows": [
                [
                  "0",
                  "-0.9278987345988959",
                  "7.62334626135984",
                  "7.62334626135984",
                  "98",
                  "1",
                  "-1"
                ],
                [
                  "1",
                  "-1.1751180590797417",
                  "1.2827382634817053",
                  "1.2827382634817053",
                  "28",
                  "1",
                  "0"
                ],
                [
                  "2",
                  "-1.0515083968393188",
                  "1.7968416146610133",
                  "1.7968416146610138",
                  "35",
                  "1",
                  "0"
                ],
                [
                  "3",
                  "-0.9278987345988959",
                  "2.482312749566758",
                  "2.4823127495667583",
                  "45",
                  "1",
                  "0"
                ],
                [
                  "4",
                  "-1.0515083968393188",
                  "3.167783884472502",
                  "3.1677838844725024",
                  "77",
                  "0",
                  "1"
                ],
                [
                  "5",
                  "-0.6806794101180503",
                  "-0.25957179005621933",
                  "-0.2595717900562194",
                  "4",
                  "0",
                  "0"
                ],
                [
                  "6",
                  "-0.9278987345988959",
                  "0.2545315611230889",
                  "0.25453156112308883",
                  "14",
                  "1",
                  "0"
                ],
                [
                  "7",
                  "-1.0515083968393188",
                  "1.1113704797552693",
                  "1.1113704797552693",
                  "35",
                  "0",
                  "0"
                ],
                [
                  "8",
                  "-0.9278987345988959",
                  "0.597267128575961",
                  "0.597267128575961",
                  "22",
                  "1",
                  "0"
                ],
                [
                  "9",
                  "-0.5570697478776274",
                  "6.937875126454095",
                  "6.937875126454096",
                  "98",
                  "1",
                  "-1"
                ],
                [
                  "10",
                  "-0.6806794101180503",
                  "2.9964161007460657",
                  "2.9964161007460666",
                  "58",
                  "0",
                  "1"
                ],
                [
                  "11",
                  "-1.1751180590797417",
                  "-0.4309395737826554",
                  "-0.4309395737826555",
                  "4",
                  "0",
                  "0"
                ],
                [
                  "12",
                  "-0.9278987345988959",
                  "0.7686349123023971",
                  "0.7686349123023971",
                  "28",
                  "1",
                  "0"
                ],
                [
                  "13",
                  "-1.0515083968393188",
                  "1.2827382634817053",
                  "1.2827382634817053",
                  "47",
                  "0",
                  "0"
                ],
                [
                  "14",
                  "-0.9278987345988959",
                  "0.0831637773966528",
                  "0.08316377739665276",
                  "15",
                  "1",
                  "0"
                ],
                [
                  "15",
                  "-0.9278987345988959",
                  "-0.08820400632978326",
                  "-0.08820400632978333",
                  "11",
                  "1",
                  "0"
                ],
                [
                  "16",
                  "-0.9278987345988959",
                  "1.4541060472081413",
                  "1.4541060472081415",
                  "48",
                  "1",
                  "0"
                ],
                [
                  "17",
                  "-0.9278987345988959",
                  "1.6254738309345773",
                  "1.6254738309345778",
                  "49",
                  "1",
                  "0"
                ],
                [
                  "18",
                  "-0.9278987345988959",
                  "0.0831637773966528",
                  "0.08316377739665276",
                  "15",
                  "1",
                  "0"
                ],
                [
                  "19",
                  "-0.9278987345988959",
                  "-0.4309395737826554",
                  "-0.4309395737826555",
                  "4",
                  "1",
                  "0"
                ],
                [
                  "20",
                  "-0.9278987345988959",
                  "-0.4309395737826554",
                  "-0.4309395737826555",
                  "4",
                  "1",
                  "0"
                ],
                [
                  "21",
                  "-0.6806794101180503",
                  "0.9400026960288331",
                  "0.9400026960288332",
                  "28",
                  "0",
                  "0"
                ],
                [
                  "22",
                  "-0.9278987345988959",
                  "0.0831637773966528",
                  "0.08316377739665276",
                  "16",
                  "1",
                  "0"
                ],
                [
                  "23",
                  "-0.9278987345988959",
                  "0.0831637773966528",
                  "0.08316377739665276",
                  "16",
                  "1",
                  "0"
                ],
                [
                  "24",
                  "-0.06263109891593607",
                  "0.597267128575961",
                  "0.597267128575961",
                  "16",
                  "0",
                  "0"
                ],
                [
                  "25",
                  "-0.6806794101180503",
                  "1.4541060472081413",
                  "1.4541060472081415",
                  "40",
                  "0",
                  "0"
                ],
                [
                  "26",
                  "-0.6806794101180503",
                  "0.0831637773966528",
                  "0.08316377739665276",
                  "14",
                  "0",
                  "0"
                ],
                [
                  "27",
                  "-0.6806794101180503",
                  "1.1113704797552693",
                  "1.1113704797552693",
                  "34",
                  "1",
                  "0"
                ],
                [
                  "28",
                  "-0.6806794101180503",
                  "-0.08820400632978326",
                  "-0.08820400632978333",
                  "11",
                  "1",
                  "0"
                ],
                [
                  "29",
                  "-0.6806794101180503",
                  "0.42589934484952496",
                  "0.42589934484952496",
                  "21",
                  "0",
                  "0"
                ],
                [
                  "30",
                  "-1.0515083968393188",
                  "1.4541060472081413",
                  "1.4541060472081415",
                  "58",
                  "0",
                  "0"
                ],
                [
                  "31",
                  "-0.6806794101180503",
                  "0.7686349123023971",
                  "0.7686349123023971",
                  "28",
                  "1",
                  "0"
                ],
                [
                  "32",
                  "-0.6806794101180503",
                  "0.7686349123023971",
                  "0.7686349123023971",
                  "28",
                  "1",
                  "0"
                ],
                [
                  "33",
                  "-0.6806794101180503",
                  "0.597267128575961",
                  "0.597267128575961",
                  "26",
                  "1",
                  "0"
                ],
                [
                  "34",
                  "-0.9278987345988959",
                  "1.7968416146610133",
                  "1.7968416146610138",
                  "64",
                  "0",
                  "0"
                ],
                [
                  "35",
                  "-0.9278987345988959",
                  "0.42589934484952496",
                  "0.42589934484952496",
                  "28",
                  "1",
                  "0"
                ],
                [
                  "36",
                  "-0.9278987345988959",
                  "1.1113704797552693",
                  "1.1113704797552693",
                  "47",
                  "1",
                  "0"
                ],
                [
                  "37",
                  "-0.6806794101180503",
                  "0.0831637773966528",
                  "0.08316377739665276",
                  "16",
                  "1",
                  "0"
                ],
                [
                  "38",
                  "-0.9278987345988959",
                  "1.4541060472081413",
                  "1.4541060472081415",
                  "57",
                  "1",
                  "0"
                ],
                [
                  "39",
                  "-0.6806794101180503",
                  "0.2545315611230889",
                  "0.25453156112308883",
                  "22",
                  "1",
                  "0"
                ],
                [
                  "40",
                  "-0.9278987345988959",
                  "1.2827382634817053",
                  "1.2827382634817053",
                  "53",
                  "1",
                  "0"
                ],
                [
                  "41",
                  "-0.9278987345988959",
                  "-0.08820400632978326",
                  "-0.08820400632978333",
                  "16",
                  "0",
                  "0"
                ],
                [
                  "42",
                  "-0.9278987345988959",
                  "-0.08820400632978326",
                  "-0.08820400632978333",
                  "16",
                  "1",
                  "0"
                ],
                [
                  "43",
                  "-0.9278987345988959",
                  "-0.08820400632978326",
                  "-0.08820400632978333",
                  "16",
                  "0",
                  "0"
                ],
                [
                  "44",
                  "-0.6806794101180503",
                  "2.482312749566758",
                  "2.4823127495667583",
                  "69",
                  "1",
                  "0"
                ],
                [
                  "45",
                  "-0.6806794101180503",
                  "0.597267128575961",
                  "0.597267128575961",
                  "28",
                  "1",
                  "0"
                ],
                [
                  "46",
                  "-0.9278987345988959",
                  "0.597267128575961",
                  "0.597267128575961",
                  "36",
                  "0",
                  "0"
                ],
                [
                  "47",
                  "-0.9278987345988959",
                  "-0.6023073575090915",
                  "-0.6023073575090916",
                  "2",
                  "0",
                  "0"
                ],
                [
                  "48",
                  "-0.9278987345988959",
                  "-0.6023073575090915",
                  "-0.6023073575090916",
                  "2",
                  "0",
                  "0"
                ],
                [
                  "49",
                  "-0.9278987345988959",
                  "-0.6023073575090915",
                  "-0.6023073575090916",
                  "2",
                  "0",
                  "0"
                ]
              ],
              "shape": {
                "columns": 6,
                "rows": 748
              }
            },
            "text/html": [
              "<div>\n",
              "<style scoped>\n",
              "    .dataframe tbody tr th:only-of-type {\n",
              "        vertical-align: middle;\n",
              "    }\n",
              "\n",
              "    .dataframe tbody tr th {\n",
              "        vertical-align: top;\n",
              "    }\n",
              "\n",
              "    .dataframe thead th {\n",
              "        text-align: right;\n",
              "    }\n",
              "</style>\n",
              "<table border=\"1\" class=\"dataframe\">\n",
              "  <thead>\n",
              "    <tr style=\"text-align: right;\">\n",
              "      <th></th>\n",
              "      <th>Months</th>\n",
              "      <th>Frequencies</th>\n",
              "      <th>Monetary</th>\n",
              "      <th>NumMonth</th>\n",
              "      <th>isDonate</th>\n",
              "      <th>Cluster</th>\n",
              "    </tr>\n",
              "  </thead>\n",
              "  <tbody>\n",
              "    <tr>\n",
              "      <th>0</th>\n",
              "      <td>-0.927899</td>\n",
              "      <td>7.623346</td>\n",
              "      <td>7.623346</td>\n",
              "      <td>98</td>\n",
              "      <td>1</td>\n",
              "      <td>-1</td>\n",
              "    </tr>\n",
              "    <tr>\n",
              "      <th>1</th>\n",
              "      <td>-1.175118</td>\n",
              "      <td>1.282738</td>\n",
              "      <td>1.282738</td>\n",
              "      <td>28</td>\n",
              "      <td>1</td>\n",
              "      <td>0</td>\n",
              "    </tr>\n",
              "    <tr>\n",
              "      <th>2</th>\n",
              "      <td>-1.051508</td>\n",
              "      <td>1.796842</td>\n",
              "      <td>1.796842</td>\n",
              "      <td>35</td>\n",
              "      <td>1</td>\n",
              "      <td>0</td>\n",
              "    </tr>\n",
              "    <tr>\n",
              "      <th>3</th>\n",
              "      <td>-0.927899</td>\n",
              "      <td>2.482313</td>\n",
              "      <td>2.482313</td>\n",
              "      <td>45</td>\n",
              "      <td>1</td>\n",
              "      <td>0</td>\n",
              "    </tr>\n",
              "    <tr>\n",
              "      <th>4</th>\n",
              "      <td>-1.051508</td>\n",
              "      <td>3.167784</td>\n",
              "      <td>3.167784</td>\n",
              "      <td>77</td>\n",
              "      <td>0</td>\n",
              "      <td>1</td>\n",
              "    </tr>\n",
              "    <tr>\n",
              "      <th>...</th>\n",
              "      <td>...</td>\n",
              "      <td>...</td>\n",
              "      <td>...</td>\n",
              "      <td>...</td>\n",
              "      <td>...</td>\n",
              "      <td>...</td>\n",
              "    </tr>\n",
              "    <tr>\n",
              "      <th>743</th>\n",
              "      <td>1.667904</td>\n",
              "      <td>-0.602307</td>\n",
              "      <td>-0.602307</td>\n",
              "      <td>38</td>\n",
              "      <td>0</td>\n",
              "      <td>0</td>\n",
              "    </tr>\n",
              "    <tr>\n",
              "      <th>744</th>\n",
              "      <td>1.420685</td>\n",
              "      <td>-0.602307</td>\n",
              "      <td>-0.602307</td>\n",
              "      <td>52</td>\n",
              "      <td>0</td>\n",
              "      <td>0</td>\n",
              "    </tr>\n",
              "    <tr>\n",
              "      <th>745</th>\n",
              "      <td>1.667904</td>\n",
              "      <td>-0.430940</td>\n",
              "      <td>-0.430940</td>\n",
              "      <td>62</td>\n",
              "      <td>0</td>\n",
              "      <td>0</td>\n",
              "    </tr>\n",
              "    <tr>\n",
              "      <th>746</th>\n",
              "      <td>3.645659</td>\n",
              "      <td>-0.773675</td>\n",
              "      <td>-0.773675</td>\n",
              "      <td>39</td>\n",
              "      <td>0</td>\n",
              "      <td>2</td>\n",
              "    </tr>\n",
              "    <tr>\n",
              "      <th>747</th>\n",
              "      <td>7.724778</td>\n",
              "      <td>-0.773675</td>\n",
              "      <td>-0.773675</td>\n",
              "      <td>72</td>\n",
              "      <td>0</td>\n",
              "      <td>-1</td>\n",
              "    </tr>\n",
              "  </tbody>\n",
              "</table>\n",
              "<p>748 rows × 6 columns</p>\n",
              "</div>"
            ],
            "text/plain": [
              "       Months  Frequencies  Monetary  NumMonth  isDonate  Cluster\n",
              "0   -0.927899     7.623346  7.623346        98         1       -1\n",
              "1   -1.175118     1.282738  1.282738        28         1        0\n",
              "2   -1.051508     1.796842  1.796842        35         1        0\n",
              "3   -0.927899     2.482313  2.482313        45         1        0\n",
              "4   -1.051508     3.167784  3.167784        77         0        1\n",
              "..        ...          ...       ...       ...       ...      ...\n",
              "743  1.667904    -0.602307 -0.602307        38         0        0\n",
              "744  1.420685    -0.602307 -0.602307        52         0        0\n",
              "745  1.667904    -0.430940 -0.430940        62         0        0\n",
              "746  3.645659    -0.773675 -0.773675        39         0        2\n",
              "747  7.724778    -0.773675 -0.773675        72         0       -1\n",
              "\n",
              "[748 rows x 6 columns]"
            ]
          },
          "execution_count": 34,
          "metadata": {},
          "output_type": "execute_result"
        }
      ],
      "source": [
        "data_without_numMonths"
      ]
    },
    {
      "cell_type": "markdown",
      "metadata": {
        "id": "vITTtdoT_fIF"
      },
      "source": [
        "### Inverse Data Jika Melakukan Normalisasi/Standardisasi"
      ]
    },
    {
      "cell_type": "markdown",
      "metadata": {
        "id": "bUGkyAvnKRrk"
      },
      "source": [
        "Inverse Transform untuk Data yang Distandarisasi\n",
        "Jika data numerik telah dinormalisasi menggunakan StandardScaler atau MinMaxScaler, kita bisa mengembalikannya ke skala asli:\n",
        "```python\n",
        "df_normalized[['Fitur_Numerik']] = scaler.inverse_transform(df_normalized[['Fitur_Numerik']])\n",
        "```"
      ]
    },
    {
      "cell_type": "code",
      "execution_count": 35,
      "metadata": {},
      "outputs": [
        {
          "data": {
            "application/vnd.microsoft.datawrangler.viewer.v0+json": {
              "columns": [
                {
                  "name": "index",
                  "rawType": "int64",
                  "type": "integer"
                },
                {
                  "name": "Months",
                  "rawType": "float64",
                  "type": "float"
                },
                {
                  "name": "Frequencies",
                  "rawType": "float64",
                  "type": "float"
                },
                {
                  "name": "Monetary",
                  "rawType": "float64",
                  "type": "float"
                }
              ],
              "ref": "47ac44a4-1053-4085-a7c7-0b591c3401c0",
              "rows": [
                [
                  "0",
                  "-0.9278987345988959",
                  "7.62334626135984",
                  "7.62334626135984"
                ],
                [
                  "1",
                  "-1.1751180590797417",
                  "1.2827382634817053",
                  "1.2827382634817053"
                ],
                [
                  "2",
                  "-1.0515083968393188",
                  "1.7968416146610133",
                  "1.7968416146610138"
                ],
                [
                  "3",
                  "-0.9278987345988959",
                  "2.482312749566758",
                  "2.4823127495667583"
                ],
                [
                  "4",
                  "-1.0515083968393188",
                  "3.167783884472502",
                  "3.1677838844725024"
                ],
                [
                  "5",
                  "-0.6806794101180503",
                  "-0.25957179005621933",
                  "-0.2595717900562194"
                ],
                [
                  "6",
                  "-0.9278987345988959",
                  "0.2545315611230889",
                  "0.25453156112308883"
                ],
                [
                  "7",
                  "-1.0515083968393188",
                  "1.1113704797552693",
                  "1.1113704797552693"
                ],
                [
                  "8",
                  "-0.9278987345988959",
                  "0.597267128575961",
                  "0.597267128575961"
                ],
                [
                  "9",
                  "-0.5570697478776274",
                  "6.937875126454095",
                  "6.937875126454096"
                ],
                [
                  "10",
                  "-0.6806794101180503",
                  "2.9964161007460657",
                  "2.9964161007460666"
                ],
                [
                  "11",
                  "-1.1751180590797417",
                  "-0.4309395737826554",
                  "-0.4309395737826555"
                ],
                [
                  "12",
                  "-0.9278987345988959",
                  "0.7686349123023971",
                  "0.7686349123023971"
                ],
                [
                  "13",
                  "-1.0515083968393188",
                  "1.2827382634817053",
                  "1.2827382634817053"
                ],
                [
                  "14",
                  "-0.9278987345988959",
                  "0.0831637773966528",
                  "0.08316377739665276"
                ],
                [
                  "15",
                  "-0.9278987345988959",
                  "-0.08820400632978326",
                  "-0.08820400632978333"
                ],
                [
                  "16",
                  "-0.9278987345988959",
                  "1.4541060472081413",
                  "1.4541060472081415"
                ],
                [
                  "17",
                  "-0.9278987345988959",
                  "1.6254738309345773",
                  "1.6254738309345778"
                ],
                [
                  "18",
                  "-0.9278987345988959",
                  "0.0831637773966528",
                  "0.08316377739665276"
                ],
                [
                  "19",
                  "-0.9278987345988959",
                  "-0.4309395737826554",
                  "-0.4309395737826555"
                ],
                [
                  "20",
                  "-0.9278987345988959",
                  "-0.4309395737826554",
                  "-0.4309395737826555"
                ],
                [
                  "21",
                  "-0.6806794101180503",
                  "0.9400026960288331",
                  "0.9400026960288332"
                ],
                [
                  "22",
                  "-0.9278987345988959",
                  "0.0831637773966528",
                  "0.08316377739665276"
                ],
                [
                  "23",
                  "-0.9278987345988959",
                  "0.0831637773966528",
                  "0.08316377739665276"
                ],
                [
                  "24",
                  "-0.06263109891593607",
                  "0.597267128575961",
                  "0.597267128575961"
                ],
                [
                  "25",
                  "-0.6806794101180503",
                  "1.4541060472081413",
                  "1.4541060472081415"
                ],
                [
                  "26",
                  "-0.6806794101180503",
                  "0.0831637773966528",
                  "0.08316377739665276"
                ],
                [
                  "27",
                  "-0.6806794101180503",
                  "1.1113704797552693",
                  "1.1113704797552693"
                ],
                [
                  "28",
                  "-0.6806794101180503",
                  "-0.08820400632978326",
                  "-0.08820400632978333"
                ],
                [
                  "29",
                  "-0.6806794101180503",
                  "0.42589934484952496",
                  "0.42589934484952496"
                ],
                [
                  "30",
                  "-1.0515083968393188",
                  "1.4541060472081413",
                  "1.4541060472081415"
                ],
                [
                  "31",
                  "-0.6806794101180503",
                  "0.7686349123023971",
                  "0.7686349123023971"
                ],
                [
                  "32",
                  "-0.6806794101180503",
                  "0.7686349123023971",
                  "0.7686349123023971"
                ],
                [
                  "33",
                  "-0.6806794101180503",
                  "0.597267128575961",
                  "0.597267128575961"
                ],
                [
                  "34",
                  "-0.9278987345988959",
                  "1.7968416146610133",
                  "1.7968416146610138"
                ],
                [
                  "35",
                  "-0.9278987345988959",
                  "0.42589934484952496",
                  "0.42589934484952496"
                ],
                [
                  "36",
                  "-0.9278987345988959",
                  "1.1113704797552693",
                  "1.1113704797552693"
                ],
                [
                  "37",
                  "-0.6806794101180503",
                  "0.0831637773966528",
                  "0.08316377739665276"
                ],
                [
                  "38",
                  "-0.9278987345988959",
                  "1.4541060472081413",
                  "1.4541060472081415"
                ],
                [
                  "39",
                  "-0.6806794101180503",
                  "0.2545315611230889",
                  "0.25453156112308883"
                ],
                [
                  "40",
                  "-0.9278987345988959",
                  "1.2827382634817053",
                  "1.2827382634817053"
                ],
                [
                  "41",
                  "-0.9278987345988959",
                  "-0.08820400632978326",
                  "-0.08820400632978333"
                ],
                [
                  "42",
                  "-0.9278987345988959",
                  "-0.08820400632978326",
                  "-0.08820400632978333"
                ],
                [
                  "43",
                  "-0.9278987345988959",
                  "-0.08820400632978326",
                  "-0.08820400632978333"
                ],
                [
                  "44",
                  "-0.6806794101180503",
                  "2.482312749566758",
                  "2.4823127495667583"
                ],
                [
                  "45",
                  "-0.6806794101180503",
                  "0.597267128575961",
                  "0.597267128575961"
                ],
                [
                  "46",
                  "-0.9278987345988959",
                  "0.597267128575961",
                  "0.597267128575961"
                ],
                [
                  "47",
                  "-0.9278987345988959",
                  "-0.6023073575090915",
                  "-0.6023073575090916"
                ],
                [
                  "48",
                  "-0.9278987345988959",
                  "-0.6023073575090915",
                  "-0.6023073575090916"
                ],
                [
                  "49",
                  "-0.9278987345988959",
                  "-0.6023073575090915",
                  "-0.6023073575090916"
                ]
              ],
              "shape": {
                "columns": 3,
                "rows": 748
              }
            },
            "text/html": [
              "<div>\n",
              "<style scoped>\n",
              "    .dataframe tbody tr th:only-of-type {\n",
              "        vertical-align: middle;\n",
              "    }\n",
              "\n",
              "    .dataframe tbody tr th {\n",
              "        vertical-align: top;\n",
              "    }\n",
              "\n",
              "    .dataframe thead th {\n",
              "        text-align: right;\n",
              "    }\n",
              "</style>\n",
              "<table border=\"1\" class=\"dataframe\">\n",
              "  <thead>\n",
              "    <tr style=\"text-align: right;\">\n",
              "      <th></th>\n",
              "      <th>Months</th>\n",
              "      <th>Frequencies</th>\n",
              "      <th>Monetary</th>\n",
              "    </tr>\n",
              "  </thead>\n",
              "  <tbody>\n",
              "    <tr>\n",
              "      <th>0</th>\n",
              "      <td>-0.927899</td>\n",
              "      <td>7.623346</td>\n",
              "      <td>7.623346</td>\n",
              "    </tr>\n",
              "    <tr>\n",
              "      <th>1</th>\n",
              "      <td>-1.175118</td>\n",
              "      <td>1.282738</td>\n",
              "      <td>1.282738</td>\n",
              "    </tr>\n",
              "    <tr>\n",
              "      <th>2</th>\n",
              "      <td>-1.051508</td>\n",
              "      <td>1.796842</td>\n",
              "      <td>1.796842</td>\n",
              "    </tr>\n",
              "    <tr>\n",
              "      <th>3</th>\n",
              "      <td>-0.927899</td>\n",
              "      <td>2.482313</td>\n",
              "      <td>2.482313</td>\n",
              "    </tr>\n",
              "    <tr>\n",
              "      <th>4</th>\n",
              "      <td>-1.051508</td>\n",
              "      <td>3.167784</td>\n",
              "      <td>3.167784</td>\n",
              "    </tr>\n",
              "    <tr>\n",
              "      <th>...</th>\n",
              "      <td>...</td>\n",
              "      <td>...</td>\n",
              "      <td>...</td>\n",
              "    </tr>\n",
              "    <tr>\n",
              "      <th>743</th>\n",
              "      <td>1.667904</td>\n",
              "      <td>-0.602307</td>\n",
              "      <td>-0.602307</td>\n",
              "    </tr>\n",
              "    <tr>\n",
              "      <th>744</th>\n",
              "      <td>1.420685</td>\n",
              "      <td>-0.602307</td>\n",
              "      <td>-0.602307</td>\n",
              "    </tr>\n",
              "    <tr>\n",
              "      <th>745</th>\n",
              "      <td>1.667904</td>\n",
              "      <td>-0.430940</td>\n",
              "      <td>-0.430940</td>\n",
              "    </tr>\n",
              "    <tr>\n",
              "      <th>746</th>\n",
              "      <td>3.645659</td>\n",
              "      <td>-0.773675</td>\n",
              "      <td>-0.773675</td>\n",
              "    </tr>\n",
              "    <tr>\n",
              "      <th>747</th>\n",
              "      <td>7.724778</td>\n",
              "      <td>-0.773675</td>\n",
              "      <td>-0.773675</td>\n",
              "    </tr>\n",
              "  </tbody>\n",
              "</table>\n",
              "<p>748 rows × 3 columns</p>\n",
              "</div>"
            ],
            "text/plain": [
              "       Months  Frequencies  Monetary\n",
              "0   -0.927899     7.623346  7.623346\n",
              "1   -1.175118     1.282738  1.282738\n",
              "2   -1.051508     1.796842  1.796842\n",
              "3   -0.927899     2.482313  2.482313\n",
              "4   -1.051508     3.167784  3.167784\n",
              "..        ...          ...       ...\n",
              "743  1.667904    -0.602307 -0.602307\n",
              "744  1.420685    -0.602307 -0.602307\n",
              "745  1.667904    -0.430940 -0.430940\n",
              "746  3.645659    -0.773675 -0.773675\n",
              "747  7.724778    -0.773675 -0.773675\n",
              "\n",
              "[748 rows x 3 columns]"
            ]
          },
          "execution_count": 35,
          "metadata": {},
          "output_type": "execute_result"
        }
      ],
      "source": [
        "data_without_numMonths[features]"
      ]
    },
    {
      "cell_type": "code",
      "execution_count": 36,
      "metadata": {},
      "outputs": [
        {
          "data": {
            "text/html": [
              "<style>#sk-container-id-2 {\n",
              "  /* Definition of color scheme common for light and dark mode */\n",
              "  --sklearn-color-text: black;\n",
              "  --sklearn-color-line: gray;\n",
              "  /* Definition of color scheme for unfitted estimators */\n",
              "  --sklearn-color-unfitted-level-0: #fff5e6;\n",
              "  --sklearn-color-unfitted-level-1: #f6e4d2;\n",
              "  --sklearn-color-unfitted-level-2: #ffe0b3;\n",
              "  --sklearn-color-unfitted-level-3: chocolate;\n",
              "  /* Definition of color scheme for fitted estimators */\n",
              "  --sklearn-color-fitted-level-0: #f0f8ff;\n",
              "  --sklearn-color-fitted-level-1: #d4ebff;\n",
              "  --sklearn-color-fitted-level-2: #b3dbfd;\n",
              "  --sklearn-color-fitted-level-3: cornflowerblue;\n",
              "\n",
              "  /* Specific color for light theme */\n",
              "  --sklearn-color-text-on-default-background: var(--sg-text-color, var(--theme-code-foreground, var(--jp-content-font-color1, black)));\n",
              "  --sklearn-color-background: var(--sg-background-color, var(--theme-background, var(--jp-layout-color0, white)));\n",
              "  --sklearn-color-border-box: var(--sg-text-color, var(--theme-code-foreground, var(--jp-content-font-color1, black)));\n",
              "  --sklearn-color-icon: #696969;\n",
              "\n",
              "  @media (prefers-color-scheme: dark) {\n",
              "    /* Redefinition of color scheme for dark theme */\n",
              "    --sklearn-color-text-on-default-background: var(--sg-text-color, var(--theme-code-foreground, var(--jp-content-font-color1, white)));\n",
              "    --sklearn-color-background: var(--sg-background-color, var(--theme-background, var(--jp-layout-color0, #111)));\n",
              "    --sklearn-color-border-box: var(--sg-text-color, var(--theme-code-foreground, var(--jp-content-font-color1, white)));\n",
              "    --sklearn-color-icon: #878787;\n",
              "  }\n",
              "}\n",
              "\n",
              "#sk-container-id-2 {\n",
              "  color: var(--sklearn-color-text);\n",
              "}\n",
              "\n",
              "#sk-container-id-2 pre {\n",
              "  padding: 0;\n",
              "}\n",
              "\n",
              "#sk-container-id-2 input.sk-hidden--visually {\n",
              "  border: 0;\n",
              "  clip: rect(1px 1px 1px 1px);\n",
              "  clip: rect(1px, 1px, 1px, 1px);\n",
              "  height: 1px;\n",
              "  margin: -1px;\n",
              "  overflow: hidden;\n",
              "  padding: 0;\n",
              "  position: absolute;\n",
              "  width: 1px;\n",
              "}\n",
              "\n",
              "#sk-container-id-2 div.sk-dashed-wrapped {\n",
              "  border: 1px dashed var(--sklearn-color-line);\n",
              "  margin: 0 0.4em 0.5em 0.4em;\n",
              "  box-sizing: border-box;\n",
              "  padding-bottom: 0.4em;\n",
              "  background-color: var(--sklearn-color-background);\n",
              "}\n",
              "\n",
              "#sk-container-id-2 div.sk-container {\n",
              "  /* jupyter's `normalize.less` sets `[hidden] { display: none; }`\n",
              "     but bootstrap.min.css set `[hidden] { display: none !important; }`\n",
              "     so we also need the `!important` here to be able to override the\n",
              "     default hidden behavior on the sphinx rendered scikit-learn.org.\n",
              "     See: https://github.com/scikit-learn/scikit-learn/issues/21755 */\n",
              "  display: inline-block !important;\n",
              "  position: relative;\n",
              "}\n",
              "\n",
              "#sk-container-id-2 div.sk-text-repr-fallback {\n",
              "  display: none;\n",
              "}\n",
              "\n",
              "div.sk-parallel-item,\n",
              "div.sk-serial,\n",
              "div.sk-item {\n",
              "  /* draw centered vertical line to link estimators */\n",
              "  background-image: linear-gradient(var(--sklearn-color-text-on-default-background), var(--sklearn-color-text-on-default-background));\n",
              "  background-size: 2px 100%;\n",
              "  background-repeat: no-repeat;\n",
              "  background-position: center center;\n",
              "}\n",
              "\n",
              "/* Parallel-specific style estimator block */\n",
              "\n",
              "#sk-container-id-2 div.sk-parallel-item::after {\n",
              "  content: \"\";\n",
              "  width: 100%;\n",
              "  border-bottom: 2px solid var(--sklearn-color-text-on-default-background);\n",
              "  flex-grow: 1;\n",
              "}\n",
              "\n",
              "#sk-container-id-2 div.sk-parallel {\n",
              "  display: flex;\n",
              "  align-items: stretch;\n",
              "  justify-content: center;\n",
              "  background-color: var(--sklearn-color-background);\n",
              "  position: relative;\n",
              "}\n",
              "\n",
              "#sk-container-id-2 div.sk-parallel-item {\n",
              "  display: flex;\n",
              "  flex-direction: column;\n",
              "}\n",
              "\n",
              "#sk-container-id-2 div.sk-parallel-item:first-child::after {\n",
              "  align-self: flex-end;\n",
              "  width: 50%;\n",
              "}\n",
              "\n",
              "#sk-container-id-2 div.sk-parallel-item:last-child::after {\n",
              "  align-self: flex-start;\n",
              "  width: 50%;\n",
              "}\n",
              "\n",
              "#sk-container-id-2 div.sk-parallel-item:only-child::after {\n",
              "  width: 0;\n",
              "}\n",
              "\n",
              "/* Serial-specific style estimator block */\n",
              "\n",
              "#sk-container-id-2 div.sk-serial {\n",
              "  display: flex;\n",
              "  flex-direction: column;\n",
              "  align-items: center;\n",
              "  background-color: var(--sklearn-color-background);\n",
              "  padding-right: 1em;\n",
              "  padding-left: 1em;\n",
              "}\n",
              "\n",
              "\n",
              "/* Toggleable style: style used for estimator/Pipeline/ColumnTransformer box that is\n",
              "clickable and can be expanded/collapsed.\n",
              "- Pipeline and ColumnTransformer use this feature and define the default style\n",
              "- Estimators will overwrite some part of the style using the `sk-estimator` class\n",
              "*/\n",
              "\n",
              "/* Pipeline and ColumnTransformer style (default) */\n",
              "\n",
              "#sk-container-id-2 div.sk-toggleable {\n",
              "  /* Default theme specific background. It is overwritten whether we have a\n",
              "  specific estimator or a Pipeline/ColumnTransformer */\n",
              "  background-color: var(--sklearn-color-background);\n",
              "}\n",
              "\n",
              "/* Toggleable label */\n",
              "#sk-container-id-2 label.sk-toggleable__label {\n",
              "  cursor: pointer;\n",
              "  display: block;\n",
              "  width: 100%;\n",
              "  margin-bottom: 0;\n",
              "  padding: 0.5em;\n",
              "  box-sizing: border-box;\n",
              "  text-align: center;\n",
              "}\n",
              "\n",
              "#sk-container-id-2 label.sk-toggleable__label-arrow:before {\n",
              "  /* Arrow on the left of the label */\n",
              "  content: \"▸\";\n",
              "  float: left;\n",
              "  margin-right: 0.25em;\n",
              "  color: var(--sklearn-color-icon);\n",
              "}\n",
              "\n",
              "#sk-container-id-2 label.sk-toggleable__label-arrow:hover:before {\n",
              "  color: var(--sklearn-color-text);\n",
              "}\n",
              "\n",
              "/* Toggleable content - dropdown */\n",
              "\n",
              "#sk-container-id-2 div.sk-toggleable__content {\n",
              "  max-height: 0;\n",
              "  max-width: 0;\n",
              "  overflow: hidden;\n",
              "  text-align: left;\n",
              "  /* unfitted */\n",
              "  background-color: var(--sklearn-color-unfitted-level-0);\n",
              "}\n",
              "\n",
              "#sk-container-id-2 div.sk-toggleable__content.fitted {\n",
              "  /* fitted */\n",
              "  background-color: var(--sklearn-color-fitted-level-0);\n",
              "}\n",
              "\n",
              "#sk-container-id-2 div.sk-toggleable__content pre {\n",
              "  margin: 0.2em;\n",
              "  border-radius: 0.25em;\n",
              "  color: var(--sklearn-color-text);\n",
              "  /* unfitted */\n",
              "  background-color: var(--sklearn-color-unfitted-level-0);\n",
              "}\n",
              "\n",
              "#sk-container-id-2 div.sk-toggleable__content.fitted pre {\n",
              "  /* unfitted */\n",
              "  background-color: var(--sklearn-color-fitted-level-0);\n",
              "}\n",
              "\n",
              "#sk-container-id-2 input.sk-toggleable__control:checked~div.sk-toggleable__content {\n",
              "  /* Expand drop-down */\n",
              "  max-height: 200px;\n",
              "  max-width: 100%;\n",
              "  overflow: auto;\n",
              "}\n",
              "\n",
              "#sk-container-id-2 input.sk-toggleable__control:checked~label.sk-toggleable__label-arrow:before {\n",
              "  content: \"▾\";\n",
              "}\n",
              "\n",
              "/* Pipeline/ColumnTransformer-specific style */\n",
              "\n",
              "#sk-container-id-2 div.sk-label input.sk-toggleable__control:checked~label.sk-toggleable__label {\n",
              "  color: var(--sklearn-color-text);\n",
              "  background-color: var(--sklearn-color-unfitted-level-2);\n",
              "}\n",
              "\n",
              "#sk-container-id-2 div.sk-label.fitted input.sk-toggleable__control:checked~label.sk-toggleable__label {\n",
              "  background-color: var(--sklearn-color-fitted-level-2);\n",
              "}\n",
              "\n",
              "/* Estimator-specific style */\n",
              "\n",
              "/* Colorize estimator box */\n",
              "#sk-container-id-2 div.sk-estimator input.sk-toggleable__control:checked~label.sk-toggleable__label {\n",
              "  /* unfitted */\n",
              "  background-color: var(--sklearn-color-unfitted-level-2);\n",
              "}\n",
              "\n",
              "#sk-container-id-2 div.sk-estimator.fitted input.sk-toggleable__control:checked~label.sk-toggleable__label {\n",
              "  /* fitted */\n",
              "  background-color: var(--sklearn-color-fitted-level-2);\n",
              "}\n",
              "\n",
              "#sk-container-id-2 div.sk-label label.sk-toggleable__label,\n",
              "#sk-container-id-2 div.sk-label label {\n",
              "  /* The background is the default theme color */\n",
              "  color: var(--sklearn-color-text-on-default-background);\n",
              "}\n",
              "\n",
              "/* On hover, darken the color of the background */\n",
              "#sk-container-id-2 div.sk-label:hover label.sk-toggleable__label {\n",
              "  color: var(--sklearn-color-text);\n",
              "  background-color: var(--sklearn-color-unfitted-level-2);\n",
              "}\n",
              "\n",
              "/* Label box, darken color on hover, fitted */\n",
              "#sk-container-id-2 div.sk-label.fitted:hover label.sk-toggleable__label.fitted {\n",
              "  color: var(--sklearn-color-text);\n",
              "  background-color: var(--sklearn-color-fitted-level-2);\n",
              "}\n",
              "\n",
              "/* Estimator label */\n",
              "\n",
              "#sk-container-id-2 div.sk-label label {\n",
              "  font-family: monospace;\n",
              "  font-weight: bold;\n",
              "  display: inline-block;\n",
              "  line-height: 1.2em;\n",
              "}\n",
              "\n",
              "#sk-container-id-2 div.sk-label-container {\n",
              "  text-align: center;\n",
              "}\n",
              "\n",
              "/* Estimator-specific */\n",
              "#sk-container-id-2 div.sk-estimator {\n",
              "  font-family: monospace;\n",
              "  border: 1px dotted var(--sklearn-color-border-box);\n",
              "  border-radius: 0.25em;\n",
              "  box-sizing: border-box;\n",
              "  margin-bottom: 0.5em;\n",
              "  /* unfitted */\n",
              "  background-color: var(--sklearn-color-unfitted-level-0);\n",
              "}\n",
              "\n",
              "#sk-container-id-2 div.sk-estimator.fitted {\n",
              "  /* fitted */\n",
              "  background-color: var(--sklearn-color-fitted-level-0);\n",
              "}\n",
              "\n",
              "/* on hover */\n",
              "#sk-container-id-2 div.sk-estimator:hover {\n",
              "  /* unfitted */\n",
              "  background-color: var(--sklearn-color-unfitted-level-2);\n",
              "}\n",
              "\n",
              "#sk-container-id-2 div.sk-estimator.fitted:hover {\n",
              "  /* fitted */\n",
              "  background-color: var(--sklearn-color-fitted-level-2);\n",
              "}\n",
              "\n",
              "/* Specification for estimator info (e.g. \"i\" and \"?\") */\n",
              "\n",
              "/* Common style for \"i\" and \"?\" */\n",
              "\n",
              ".sk-estimator-doc-link,\n",
              "a:link.sk-estimator-doc-link,\n",
              "a:visited.sk-estimator-doc-link {\n",
              "  float: right;\n",
              "  font-size: smaller;\n",
              "  line-height: 1em;\n",
              "  font-family: monospace;\n",
              "  background-color: var(--sklearn-color-background);\n",
              "  border-radius: 1em;\n",
              "  height: 1em;\n",
              "  width: 1em;\n",
              "  text-decoration: none !important;\n",
              "  margin-left: 1ex;\n",
              "  /* unfitted */\n",
              "  border: var(--sklearn-color-unfitted-level-1) 1pt solid;\n",
              "  color: var(--sklearn-color-unfitted-level-1);\n",
              "}\n",
              "\n",
              ".sk-estimator-doc-link.fitted,\n",
              "a:link.sk-estimator-doc-link.fitted,\n",
              "a:visited.sk-estimator-doc-link.fitted {\n",
              "  /* fitted */\n",
              "  border: var(--sklearn-color-fitted-level-1) 1pt solid;\n",
              "  color: var(--sklearn-color-fitted-level-1);\n",
              "}\n",
              "\n",
              "/* On hover */\n",
              "div.sk-estimator:hover .sk-estimator-doc-link:hover,\n",
              ".sk-estimator-doc-link:hover,\n",
              "div.sk-label-container:hover .sk-estimator-doc-link:hover,\n",
              ".sk-estimator-doc-link:hover {\n",
              "  /* unfitted */\n",
              "  background-color: var(--sklearn-color-unfitted-level-3);\n",
              "  color: var(--sklearn-color-background);\n",
              "  text-decoration: none;\n",
              "}\n",
              "\n",
              "div.sk-estimator.fitted:hover .sk-estimator-doc-link.fitted:hover,\n",
              ".sk-estimator-doc-link.fitted:hover,\n",
              "div.sk-label-container:hover .sk-estimator-doc-link.fitted:hover,\n",
              ".sk-estimator-doc-link.fitted:hover {\n",
              "  /* fitted */\n",
              "  background-color: var(--sklearn-color-fitted-level-3);\n",
              "  color: var(--sklearn-color-background);\n",
              "  text-decoration: none;\n",
              "}\n",
              "\n",
              "/* Span, style for the box shown on hovering the info icon */\n",
              ".sk-estimator-doc-link span {\n",
              "  display: none;\n",
              "  z-index: 9999;\n",
              "  position: relative;\n",
              "  font-weight: normal;\n",
              "  right: .2ex;\n",
              "  padding: .5ex;\n",
              "  margin: .5ex;\n",
              "  width: min-content;\n",
              "  min-width: 20ex;\n",
              "  max-width: 50ex;\n",
              "  color: var(--sklearn-color-text);\n",
              "  box-shadow: 2pt 2pt 4pt #999;\n",
              "  /* unfitted */\n",
              "  background: var(--sklearn-color-unfitted-level-0);\n",
              "  border: .5pt solid var(--sklearn-color-unfitted-level-3);\n",
              "}\n",
              "\n",
              ".sk-estimator-doc-link.fitted span {\n",
              "  /* fitted */\n",
              "  background: var(--sklearn-color-fitted-level-0);\n",
              "  border: var(--sklearn-color-fitted-level-3);\n",
              "}\n",
              "\n",
              ".sk-estimator-doc-link:hover span {\n",
              "  display: block;\n",
              "}\n",
              "\n",
              "/* \"?\"-specific style due to the `<a>` HTML tag */\n",
              "\n",
              "#sk-container-id-2 a.estimator_doc_link {\n",
              "  float: right;\n",
              "  font-size: 1rem;\n",
              "  line-height: 1em;\n",
              "  font-family: monospace;\n",
              "  background-color: var(--sklearn-color-background);\n",
              "  border-radius: 1rem;\n",
              "  height: 1rem;\n",
              "  width: 1rem;\n",
              "  text-decoration: none;\n",
              "  /* unfitted */\n",
              "  color: var(--sklearn-color-unfitted-level-1);\n",
              "  border: var(--sklearn-color-unfitted-level-1) 1pt solid;\n",
              "}\n",
              "\n",
              "#sk-container-id-2 a.estimator_doc_link.fitted {\n",
              "  /* fitted */\n",
              "  border: var(--sklearn-color-fitted-level-1) 1pt solid;\n",
              "  color: var(--sklearn-color-fitted-level-1);\n",
              "}\n",
              "\n",
              "/* On hover */\n",
              "#sk-container-id-2 a.estimator_doc_link:hover {\n",
              "  /* unfitted */\n",
              "  background-color: var(--sklearn-color-unfitted-level-3);\n",
              "  color: var(--sklearn-color-background);\n",
              "  text-decoration: none;\n",
              "}\n",
              "\n",
              "#sk-container-id-2 a.estimator_doc_link.fitted:hover {\n",
              "  /* fitted */\n",
              "  background-color: var(--sklearn-color-fitted-level-3);\n",
              "}\n",
              "</style><div id=\"sk-container-id-2\" class=\"sk-top-container\"><div class=\"sk-text-repr-fallback\"><pre>StandardScaler()</pre><b>In a Jupyter environment, please rerun this cell to show the HTML representation or trust the notebook. <br />On GitHub, the HTML representation is unable to render, please try loading this page with nbviewer.org.</b></div><div class=\"sk-container\" hidden><div class=\"sk-item\"><div class=\"sk-estimator fitted sk-toggleable\"><input class=\"sk-toggleable__control sk-hidden--visually\" id=\"sk-estimator-id-2\" type=\"checkbox\" checked><label for=\"sk-estimator-id-2\" class=\"sk-toggleable__label fitted sk-toggleable__label-arrow fitted\">&nbsp;&nbsp;StandardScaler<a class=\"sk-estimator-doc-link fitted\" rel=\"noreferrer\" target=\"_blank\" href=\"https://scikit-learn.org/1.5/modules/generated/sklearn.preprocessing.StandardScaler.html\">?<span>Documentation for StandardScaler</span></a><span class=\"sk-estimator-doc-link fitted\">i<span>Fitted</span></span></label><div class=\"sk-toggleable__content fitted\"><pre>StandardScaler()</pre></div> </div></div></div></div>"
            ],
            "text/plain": [
              "StandardScaler()"
            ]
          },
          "execution_count": 36,
          "metadata": {},
          "output_type": "execute_result"
        }
      ],
      "source": [
        "scaler"
      ]
    },
    {
      "cell_type": "code",
      "execution_count": 37,
      "metadata": {},
      "outputs": [],
      "source": [
        "lmao = data_without_numMonths.copy()"
      ]
    },
    {
      "cell_type": "code",
      "execution_count": 38,
      "metadata": {},
      "outputs": [
        {
          "data": {
            "application/vnd.microsoft.datawrangler.viewer.v0+json": {
              "columns": [
                {
                  "name": "index",
                  "rawType": "int64",
                  "type": "integer"
                },
                {
                  "name": "Months",
                  "rawType": "float64",
                  "type": "float"
                },
                {
                  "name": "Frequencies",
                  "rawType": "float64",
                  "type": "float"
                },
                {
                  "name": "Monetary",
                  "rawType": "float64",
                  "type": "float"
                },
                {
                  "name": "NumMonth",
                  "rawType": "int64",
                  "type": "integer"
                },
                {
                  "name": "isDonate",
                  "rawType": "int64",
                  "type": "integer"
                },
                {
                  "name": "Cluster",
                  "rawType": "int64",
                  "type": "integer"
                }
              ],
              "ref": "e4cfbc3f-557a-4258-804c-dfdb141c8ba5",
              "rows": [
                [
                  "0",
                  "2.0",
                  "50.0",
                  "12500.0",
                  "98",
                  "1",
                  "-1"
                ],
                [
                  "1",
                  "0.0",
                  "13.0",
                  "3250.0",
                  "28",
                  "1",
                  "0"
                ],
                [
                  "2",
                  "1.0",
                  "16.0",
                  "4000.0",
                  "35",
                  "1",
                  "0"
                ],
                [
                  "3",
                  "2.0",
                  "20.0",
                  "5000.0",
                  "45",
                  "1",
                  "0"
                ],
                [
                  "4",
                  "1.0",
                  "24.0",
                  "6000.0",
                  "77",
                  "0",
                  "1"
                ],
                [
                  "5",
                  "3.999999999999999",
                  "4.0",
                  "1000.0",
                  "4",
                  "0",
                  "0"
                ],
                [
                  "6",
                  "2.0",
                  "7.0",
                  "1750.0",
                  "14",
                  "1",
                  "0"
                ],
                [
                  "7",
                  "1.0",
                  "12.0",
                  "3000.0",
                  "35",
                  "0",
                  "0"
                ],
                [
                  "8",
                  "2.0",
                  "9.0",
                  "2250.0",
                  "22",
                  "1",
                  "0"
                ],
                [
                  "9",
                  "5.0",
                  "46.0",
                  "11500.0",
                  "98",
                  "1",
                  "-1"
                ],
                [
                  "10",
                  "3.999999999999999",
                  "23.0",
                  "5750.0",
                  "58",
                  "0",
                  "1"
                ],
                [
                  "11",
                  "0.0",
                  "3.0",
                  "750.0",
                  "4",
                  "0",
                  "0"
                ],
                [
                  "12",
                  "2.0",
                  "10.0",
                  "2500.0",
                  "28",
                  "1",
                  "0"
                ],
                [
                  "13",
                  "1.0",
                  "13.0",
                  "3250.0",
                  "47",
                  "0",
                  "0"
                ],
                [
                  "14",
                  "2.0",
                  "6.0",
                  "1500.0",
                  "15",
                  "1",
                  "0"
                ],
                [
                  "15",
                  "2.0",
                  "5.0",
                  "1250.0",
                  "11",
                  "1",
                  "0"
                ],
                [
                  "16",
                  "2.0",
                  "14.0",
                  "3500.0",
                  "48",
                  "1",
                  "0"
                ],
                [
                  "17",
                  "2.0",
                  "15.0",
                  "3750.0",
                  "49",
                  "1",
                  "0"
                ],
                [
                  "18",
                  "2.0",
                  "6.0",
                  "1500.0",
                  "15",
                  "1",
                  "0"
                ],
                [
                  "19",
                  "2.0",
                  "3.0",
                  "750.0",
                  "4",
                  "1",
                  "0"
                ],
                [
                  "20",
                  "2.0",
                  "3.0",
                  "750.0",
                  "4",
                  "1",
                  "0"
                ],
                [
                  "21",
                  "3.999999999999999",
                  "11.0",
                  "2750.0",
                  "28",
                  "0",
                  "0"
                ],
                [
                  "22",
                  "2.0",
                  "6.0",
                  "1500.0",
                  "16",
                  "1",
                  "0"
                ],
                [
                  "23",
                  "2.0",
                  "6.0",
                  "1500.0",
                  "16",
                  "1",
                  "0"
                ],
                [
                  "24",
                  "9.0",
                  "9.0",
                  "2250.0",
                  "16",
                  "0",
                  "0"
                ],
                [
                  "25",
                  "3.999999999999999",
                  "14.0",
                  "3500.0",
                  "40",
                  "0",
                  "0"
                ],
                [
                  "26",
                  "3.999999999999999",
                  "6.0",
                  "1500.0",
                  "14",
                  "0",
                  "0"
                ],
                [
                  "27",
                  "3.999999999999999",
                  "12.0",
                  "3000.0",
                  "34",
                  "1",
                  "0"
                ],
                [
                  "28",
                  "3.999999999999999",
                  "5.0",
                  "1250.0",
                  "11",
                  "1",
                  "0"
                ],
                [
                  "29",
                  "3.999999999999999",
                  "8.0",
                  "2000.0",
                  "21",
                  "0",
                  "0"
                ],
                [
                  "30",
                  "1.0",
                  "14.0",
                  "3500.0",
                  "58",
                  "0",
                  "0"
                ],
                [
                  "31",
                  "3.999999999999999",
                  "10.0",
                  "2500.0",
                  "28",
                  "1",
                  "0"
                ],
                [
                  "32",
                  "3.999999999999999",
                  "10.0",
                  "2500.0",
                  "28",
                  "1",
                  "0"
                ],
                [
                  "33",
                  "3.999999999999999",
                  "9.0",
                  "2250.0",
                  "26",
                  "1",
                  "0"
                ],
                [
                  "34",
                  "2.0",
                  "16.0",
                  "4000.0",
                  "64",
                  "0",
                  "0"
                ],
                [
                  "35",
                  "2.0",
                  "8.0",
                  "2000.0",
                  "28",
                  "1",
                  "0"
                ],
                [
                  "36",
                  "2.0",
                  "12.0",
                  "3000.0",
                  "47",
                  "1",
                  "0"
                ],
                [
                  "37",
                  "3.999999999999999",
                  "6.0",
                  "1500.0",
                  "16",
                  "1",
                  "0"
                ],
                [
                  "38",
                  "2.0",
                  "14.0",
                  "3500.0",
                  "57",
                  "1",
                  "0"
                ],
                [
                  "39",
                  "3.999999999999999",
                  "7.0",
                  "1750.0",
                  "22",
                  "1",
                  "0"
                ],
                [
                  "40",
                  "2.0",
                  "13.0",
                  "3250.0",
                  "53",
                  "1",
                  "0"
                ],
                [
                  "41",
                  "2.0",
                  "5.0",
                  "1250.0",
                  "16",
                  "0",
                  "0"
                ],
                [
                  "42",
                  "2.0",
                  "5.0",
                  "1250.0",
                  "16",
                  "1",
                  "0"
                ],
                [
                  "43",
                  "2.0",
                  "5.0",
                  "1250.0",
                  "16",
                  "0",
                  "0"
                ],
                [
                  "44",
                  "3.999999999999999",
                  "20.0",
                  "5000.0",
                  "69",
                  "1",
                  "0"
                ],
                [
                  "45",
                  "3.999999999999999",
                  "9.0",
                  "2250.0",
                  "28",
                  "1",
                  "0"
                ],
                [
                  "46",
                  "2.0",
                  "9.0",
                  "2250.0",
                  "36",
                  "0",
                  "0"
                ],
                [
                  "47",
                  "2.0",
                  "2.0",
                  "500.0",
                  "2",
                  "0",
                  "0"
                ],
                [
                  "48",
                  "2.0",
                  "2.0",
                  "500.0",
                  "2",
                  "0",
                  "0"
                ],
                [
                  "49",
                  "2.0",
                  "2.0",
                  "500.0",
                  "2",
                  "0",
                  "0"
                ]
              ],
              "shape": {
                "columns": 6,
                "rows": 748
              }
            },
            "text/html": [
              "<div>\n",
              "<style scoped>\n",
              "    .dataframe tbody tr th:only-of-type {\n",
              "        vertical-align: middle;\n",
              "    }\n",
              "\n",
              "    .dataframe tbody tr th {\n",
              "        vertical-align: top;\n",
              "    }\n",
              "\n",
              "    .dataframe thead th {\n",
              "        text-align: right;\n",
              "    }\n",
              "</style>\n",
              "<table border=\"1\" class=\"dataframe\">\n",
              "  <thead>\n",
              "    <tr style=\"text-align: right;\">\n",
              "      <th></th>\n",
              "      <th>Months</th>\n",
              "      <th>Frequencies</th>\n",
              "      <th>Monetary</th>\n",
              "      <th>NumMonth</th>\n",
              "      <th>isDonate</th>\n",
              "      <th>Cluster</th>\n",
              "    </tr>\n",
              "  </thead>\n",
              "  <tbody>\n",
              "    <tr>\n",
              "      <th>0</th>\n",
              "      <td>2.0</td>\n",
              "      <td>50.0</td>\n",
              "      <td>12500.0</td>\n",
              "      <td>98</td>\n",
              "      <td>1</td>\n",
              "      <td>-1</td>\n",
              "    </tr>\n",
              "    <tr>\n",
              "      <th>1</th>\n",
              "      <td>0.0</td>\n",
              "      <td>13.0</td>\n",
              "      <td>3250.0</td>\n",
              "      <td>28</td>\n",
              "      <td>1</td>\n",
              "      <td>0</td>\n",
              "    </tr>\n",
              "    <tr>\n",
              "      <th>2</th>\n",
              "      <td>1.0</td>\n",
              "      <td>16.0</td>\n",
              "      <td>4000.0</td>\n",
              "      <td>35</td>\n",
              "      <td>1</td>\n",
              "      <td>0</td>\n",
              "    </tr>\n",
              "    <tr>\n",
              "      <th>3</th>\n",
              "      <td>2.0</td>\n",
              "      <td>20.0</td>\n",
              "      <td>5000.0</td>\n",
              "      <td>45</td>\n",
              "      <td>1</td>\n",
              "      <td>0</td>\n",
              "    </tr>\n",
              "    <tr>\n",
              "      <th>4</th>\n",
              "      <td>1.0</td>\n",
              "      <td>24.0</td>\n",
              "      <td>6000.0</td>\n",
              "      <td>77</td>\n",
              "      <td>0</td>\n",
              "      <td>1</td>\n",
              "    </tr>\n",
              "    <tr>\n",
              "      <th>...</th>\n",
              "      <td>...</td>\n",
              "      <td>...</td>\n",
              "      <td>...</td>\n",
              "      <td>...</td>\n",
              "      <td>...</td>\n",
              "      <td>...</td>\n",
              "    </tr>\n",
              "    <tr>\n",
              "      <th>743</th>\n",
              "      <td>23.0</td>\n",
              "      <td>2.0</td>\n",
              "      <td>500.0</td>\n",
              "      <td>38</td>\n",
              "      <td>0</td>\n",
              "      <td>0</td>\n",
              "    </tr>\n",
              "    <tr>\n",
              "      <th>744</th>\n",
              "      <td>21.0</td>\n",
              "      <td>2.0</td>\n",
              "      <td>500.0</td>\n",
              "      <td>52</td>\n",
              "      <td>0</td>\n",
              "      <td>0</td>\n",
              "    </tr>\n",
              "    <tr>\n",
              "      <th>745</th>\n",
              "      <td>23.0</td>\n",
              "      <td>3.0</td>\n",
              "      <td>750.0</td>\n",
              "      <td>62</td>\n",
              "      <td>0</td>\n",
              "      <td>0</td>\n",
              "    </tr>\n",
              "    <tr>\n",
              "      <th>746</th>\n",
              "      <td>39.0</td>\n",
              "      <td>1.0</td>\n",
              "      <td>250.0</td>\n",
              "      <td>39</td>\n",
              "      <td>0</td>\n",
              "      <td>2</td>\n",
              "    </tr>\n",
              "    <tr>\n",
              "      <th>747</th>\n",
              "      <td>72.0</td>\n",
              "      <td>1.0</td>\n",
              "      <td>250.0</td>\n",
              "      <td>72</td>\n",
              "      <td>0</td>\n",
              "      <td>-1</td>\n",
              "    </tr>\n",
              "  </tbody>\n",
              "</table>\n",
              "<p>748 rows × 6 columns</p>\n",
              "</div>"
            ],
            "text/plain": [
              "     Months  Frequencies  Monetary  NumMonth  isDonate  Cluster\n",
              "0       2.0         50.0   12500.0        98         1       -1\n",
              "1       0.0         13.0    3250.0        28         1        0\n",
              "2       1.0         16.0    4000.0        35         1        0\n",
              "3       2.0         20.0    5000.0        45         1        0\n",
              "4       1.0         24.0    6000.0        77         0        1\n",
              "..      ...          ...       ...       ...       ...      ...\n",
              "743    23.0          2.0     500.0        38         0        0\n",
              "744    21.0          2.0     500.0        52         0        0\n",
              "745    23.0          3.0     750.0        62         0        0\n",
              "746    39.0          1.0     250.0        39         0        2\n",
              "747    72.0          1.0     250.0        72         0       -1\n",
              "\n",
              "[748 rows x 6 columns]"
            ]
          },
          "execution_count": 38,
          "metadata": {},
          "output_type": "execute_result"
        }
      ],
      "source": [
        "data_without_numMonths[features]=scaler.inverse_transform(data_without_numMonths[features])\n",
        "data_without_numMonths"
      ]
    },
    {
      "cell_type": "code",
      "execution_count": 39,
      "metadata": {
        "id": "MFq0x-OzM_Wt"
      },
      "outputs": [
        {
          "name": "stdout",
          "output_type": "stream",
          "text": [
            "            Months  Frequencies     Monetary\n",
            "Cluster                                     \n",
            "-1       17.866667    28.333333  7083.333333\n",
            " 0        9.198347     4.993113  1248.278237\n",
            " 1        3.333333    23.666667  5916.666667\n",
            " 2       38.750000     1.000000   250.000000 \n",
            "\n"
          ]
        }
      ],
      "source": [
        "# Sebelum mengubah nomor indeks\n",
        "print(data_without_numMonths.groupby(by=['Cluster']).agg({'Months':'mean', 'Frequencies':'mean', 'Monetary':'mean'}), \"\\n\")\n"
      ]
    },
    {
      "cell_type": "markdown",
      "metadata": {
        "id": "jaYP1fx5VgWO"
      },
      "source": [
        "# **7. Mengeksport Data**\n",
        "\n",
        "Simpan hasilnya ke dalam file CSV."
      ]
    },
    {
      "cell_type": "code",
      "execution_count": null,
      "metadata": {
        "id": "fkbg_o80aRSH"
      },
      "outputs": [],
      "source": [
        "data_without_numMonths.to_csv(\"../data/data-with-outlier/data_dbscan.csv\", index=False)"
      ]
    }
  ],
  "metadata": {
    "colab": {
      "provenance": []
    },
    "kernelspec": {
      "display_name": "Python 3",
      "name": "python3"
    },
    "language_info": {
      "codemirror_mode": {
        "name": "ipython",
        "version": 3
      },
      "file_extension": ".py",
      "mimetype": "text/x-python",
      "name": "python",
      "nbconvert_exporter": "python",
      "pygments_lexer": "ipython3",
      "version": "3.12.5"
    }
  },
  "nbformat": 4,
  "nbformat_minor": 0
}
