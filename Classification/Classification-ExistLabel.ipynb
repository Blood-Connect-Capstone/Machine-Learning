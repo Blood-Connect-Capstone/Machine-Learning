{
 "cells": [
  {
   "cell_type": "code",
   "execution_count": null,
   "metadata": {
    "execution": {
     "iopub.execute_input": "2025-02-27T13:38:45.760487Z",
     "iopub.status.busy": "2025-02-27T13:38:45.760030Z",
     "iopub.status.idle": "2025-02-27T13:38:46.643199Z",
     "shell.execute_reply": "2025-02-27T13:38:46.642053Z",
     "shell.execute_reply.started": "2025-02-27T13:38:45.760460Z"
    },
    "trusted": true
   },
   "outputs": [],
   "source": [
    "import matplotlib.pyplot as plt\n",
    "import pandas as pd\n",
    "import numpy as np\n",
    "import seaborn as sns\n",
    "from sklearn.model_selection import train_test_split"
   ]
  },
  {
   "cell_type": "code",
   "execution_count": 3,
   "metadata": {
    "execution": {
     "iopub.execute_input": "2025-02-27T13:38:46.645346Z",
     "iopub.status.busy": "2025-02-27T13:38:46.644756Z",
     "iopub.status.idle": "2025-02-27T13:38:46.719806Z",
     "shell.execute_reply": "2025-02-27T13:38:46.718613Z",
     "shell.execute_reply.started": "2025-02-27T13:38:46.645304Z"
    },
    "trusted": true
   },
   "outputs": [],
   "source": [
    "data = pd.read_csv(r\"..\\data\\dataset\\transfusion.csv\", delimiter=\",\")"
   ]
  },
  {
   "cell_type": "code",
   "execution_count": 3,
   "metadata": {
    "_cell_guid": "b1076dfc-b9ad-4769-8c92-a6c4dae69d19",
    "_uuid": "8f2839f25d086af736a60e9eeb907d3b93b6e0e5",
    "execution": {
     "iopub.execute_input": "2025-02-27T13:38:46.781243Z",
     "iopub.status.busy": "2025-02-27T13:38:46.780958Z",
     "iopub.status.idle": "2025-02-27T13:38:46.809668Z",
     "shell.execute_reply": "2025-02-27T13:38:46.808531Z",
     "shell.execute_reply.started": "2025-02-27T13:38:46.781220Z"
    },
    "trusted": true
   },
   "outputs": [
    {
     "data": {
      "application/vnd.microsoft.datawrangler.viewer.v0+json": {
       "columns": [
        {
         "name": "index",
         "rawType": "int64",
         "type": "integer"
        },
        {
         "name": "Recency (months)",
         "rawType": "int64",
         "type": "integer"
        },
        {
         "name": "Frequency (times)",
         "rawType": "int64",
         "type": "integer"
        },
        {
         "name": "Monetary (c.c. blood)",
         "rawType": "int64",
         "type": "integer"
        },
        {
         "name": "Time (months)",
         "rawType": "int64",
         "type": "integer"
        },
        {
         "name": "whether he/she donated blood in March 2007",
         "rawType": "int64",
         "type": "integer"
        }
       ],
       "ref": "2735053e-5449-45cf-872c-71147cd4207c",
       "rows": [
        [
         "1",
         "2",
         "50",
         "12500",
         "98",
         "1"
        ],
        [
         "2",
         "0",
         "13",
         "3250",
         "28",
         "1"
        ],
        [
         "3",
         "1",
         "16",
         "4000",
         "35",
         "1"
        ],
        [
         "4",
         "2",
         "20",
         "5000",
         "45",
         "1"
        ],
        [
         "5",
         "1",
         "24",
         "6000",
         "77",
         "0"
        ],
        [
         "6",
         "4",
         "4",
         "1000",
         "4",
         "0"
        ],
        [
         "7",
         "2",
         "7",
         "1750",
         "14",
         "1"
        ],
        [
         "8",
         "1",
         "12",
         "3000",
         "35",
         "0"
        ],
        [
         "9",
         "2",
         "9",
         "2250",
         "22",
         "1"
        ],
        [
         "10",
         "5",
         "46",
         "11500",
         "98",
         "1"
        ],
        [
         "11",
         "4",
         "23",
         "5750",
         "58",
         "0"
        ],
        [
         "12",
         "0",
         "3",
         "750",
         "4",
         "0"
        ],
        [
         "13",
         "2",
         "10",
         "2500",
         "28",
         "1"
        ],
        [
         "14",
         "1",
         "13",
         "3250",
         "47",
         "0"
        ],
        [
         "15",
         "2",
         "6",
         "1500",
         "15",
         "1"
        ],
        [
         "16",
         "2",
         "5",
         "1250",
         "11",
         "1"
        ],
        [
         "17",
         "2",
         "14",
         "3500",
         "48",
         "1"
        ],
        [
         "18",
         "2",
         "15",
         "3750",
         "49",
         "1"
        ],
        [
         "19",
         "2",
         "6",
         "1500",
         "15",
         "1"
        ],
        [
         "20",
         "2",
         "3",
         "750",
         "4",
         "1"
        ],
        [
         "21",
         "2",
         "3",
         "750",
         "4",
         "1"
        ],
        [
         "22",
         "4",
         "11",
         "2750",
         "28",
         "0"
        ],
        [
         "23",
         "2",
         "6",
         "1500",
         "16",
         "1"
        ],
        [
         "24",
         "2",
         "6",
         "1500",
         "16",
         "1"
        ],
        [
         "25",
         "9",
         "9",
         "2250",
         "16",
         "0"
        ],
        [
         "26",
         "4",
         "14",
         "3500",
         "40",
         "0"
        ],
        [
         "27",
         "4",
         "6",
         "1500",
         "14",
         "0"
        ],
        [
         "28",
         "4",
         "12",
         "3000",
         "34",
         "1"
        ],
        [
         "29",
         "4",
         "5",
         "1250",
         "11",
         "1"
        ],
        [
         "30",
         "4",
         "8",
         "2000",
         "21",
         "0"
        ],
        [
         "31",
         "1",
         "14",
         "3500",
         "58",
         "0"
        ],
        [
         "32",
         "4",
         "10",
         "2500",
         "28",
         "1"
        ],
        [
         "33",
         "4",
         "10",
         "2500",
         "28",
         "1"
        ],
        [
         "34",
         "4",
         "9",
         "2250",
         "26",
         "1"
        ],
        [
         "35",
         "2",
         "16",
         "4000",
         "64",
         "0"
        ],
        [
         "36",
         "2",
         "8",
         "2000",
         "28",
         "1"
        ],
        [
         "37",
         "2",
         "12",
         "3000",
         "47",
         "1"
        ],
        [
         "38",
         "4",
         "6",
         "1500",
         "16",
         "1"
        ],
        [
         "39",
         "2",
         "14",
         "3500",
         "57",
         "1"
        ],
        [
         "40",
         "4",
         "7",
         "1750",
         "22",
         "1"
        ],
        [
         "41",
         "2",
         "13",
         "3250",
         "53",
         "1"
        ],
        [
         "42",
         "2",
         "5",
         "1250",
         "16",
         "0"
        ],
        [
         "43",
         "2",
         "5",
         "1250",
         "16",
         "1"
        ],
        [
         "44",
         "2",
         "5",
         "1250",
         "16",
         "0"
        ],
        [
         "45",
         "4",
         "20",
         "5000",
         "69",
         "1"
        ],
        [
         "46",
         "4",
         "9",
         "2250",
         "28",
         "1"
        ],
        [
         "47",
         "2",
         "9",
         "2250",
         "36",
         "0"
        ],
        [
         "48",
         "2",
         "2",
         "500",
         "2",
         "0"
        ],
        [
         "49",
         "2",
         "2",
         "500",
         "2",
         "0"
        ],
        [
         "50",
         "2",
         "2",
         "500",
         "2",
         "0"
        ]
       ],
       "shape": {
        "columns": 5,
        "rows": 748
       }
      },
      "text/html": [
       "<div>\n",
       "<style scoped>\n",
       "    .dataframe tbody tr th:only-of-type {\n",
       "        vertical-align: middle;\n",
       "    }\n",
       "\n",
       "    .dataframe tbody tr th {\n",
       "        vertical-align: top;\n",
       "    }\n",
       "\n",
       "    .dataframe thead th {\n",
       "        text-align: right;\n",
       "    }\n",
       "</style>\n",
       "<table border=\"1\" class=\"dataframe\">\n",
       "  <thead>\n",
       "    <tr style=\"text-align: right;\">\n",
       "      <th></th>\n",
       "      <th>Recency (months)</th>\n",
       "      <th>Frequency (times)</th>\n",
       "      <th>Monetary (c.c. blood)</th>\n",
       "      <th>Time (months)</th>\n",
       "      <th>whether he/she donated blood in March 2007</th>\n",
       "    </tr>\n",
       "  </thead>\n",
       "  <tbody>\n",
       "    <tr>\n",
       "      <th>1</th>\n",
       "      <td>2</td>\n",
       "      <td>50</td>\n",
       "      <td>12500</td>\n",
       "      <td>98</td>\n",
       "      <td>1</td>\n",
       "    </tr>\n",
       "    <tr>\n",
       "      <th>2</th>\n",
       "      <td>0</td>\n",
       "      <td>13</td>\n",
       "      <td>3250</td>\n",
       "      <td>28</td>\n",
       "      <td>1</td>\n",
       "    </tr>\n",
       "    <tr>\n",
       "      <th>3</th>\n",
       "      <td>1</td>\n",
       "      <td>16</td>\n",
       "      <td>4000</td>\n",
       "      <td>35</td>\n",
       "      <td>1</td>\n",
       "    </tr>\n",
       "    <tr>\n",
       "      <th>4</th>\n",
       "      <td>2</td>\n",
       "      <td>20</td>\n",
       "      <td>5000</td>\n",
       "      <td>45</td>\n",
       "      <td>1</td>\n",
       "    </tr>\n",
       "    <tr>\n",
       "      <th>5</th>\n",
       "      <td>1</td>\n",
       "      <td>24</td>\n",
       "      <td>6000</td>\n",
       "      <td>77</td>\n",
       "      <td>0</td>\n",
       "    </tr>\n",
       "    <tr>\n",
       "      <th>...</th>\n",
       "      <td>...</td>\n",
       "      <td>...</td>\n",
       "      <td>...</td>\n",
       "      <td>...</td>\n",
       "      <td>...</td>\n",
       "    </tr>\n",
       "    <tr>\n",
       "      <th>744</th>\n",
       "      <td>23</td>\n",
       "      <td>2</td>\n",
       "      <td>500</td>\n",
       "      <td>38</td>\n",
       "      <td>0</td>\n",
       "    </tr>\n",
       "    <tr>\n",
       "      <th>745</th>\n",
       "      <td>21</td>\n",
       "      <td>2</td>\n",
       "      <td>500</td>\n",
       "      <td>52</td>\n",
       "      <td>0</td>\n",
       "    </tr>\n",
       "    <tr>\n",
       "      <th>746</th>\n",
       "      <td>23</td>\n",
       "      <td>3</td>\n",
       "      <td>750</td>\n",
       "      <td>62</td>\n",
       "      <td>0</td>\n",
       "    </tr>\n",
       "    <tr>\n",
       "      <th>747</th>\n",
       "      <td>39</td>\n",
       "      <td>1</td>\n",
       "      <td>250</td>\n",
       "      <td>39</td>\n",
       "      <td>0</td>\n",
       "    </tr>\n",
       "    <tr>\n",
       "      <th>748</th>\n",
       "      <td>72</td>\n",
       "      <td>1</td>\n",
       "      <td>250</td>\n",
       "      <td>72</td>\n",
       "      <td>0</td>\n",
       "    </tr>\n",
       "  </tbody>\n",
       "</table>\n",
       "<p>748 rows × 5 columns</p>\n",
       "</div>"
      ],
      "text/plain": [
       "     Recency (months)  Frequency (times)  Monetary (c.c. blood)  \\\n",
       "1                   2                 50                  12500   \n",
       "2                   0                 13                   3250   \n",
       "3                   1                 16                   4000   \n",
       "4                   2                 20                   5000   \n",
       "5                   1                 24                   6000   \n",
       "..                ...                ...                    ...   \n",
       "744                23                  2                    500   \n",
       "745                21                  2                    500   \n",
       "746                23                  3                    750   \n",
       "747                39                  1                    250   \n",
       "748                72                  1                    250   \n",
       "\n",
       "     Time (months)  whether he/she donated blood in March 2007  \n",
       "1               98                                           1  \n",
       "2               28                                           1  \n",
       "3               35                                           1  \n",
       "4               45                                           1  \n",
       "5               77                                           0  \n",
       "..             ...                                         ...  \n",
       "744             38                                           0  \n",
       "745             52                                           0  \n",
       "746             62                                           0  \n",
       "747             39                                           0  \n",
       "748             72                                           0  \n",
       "\n",
       "[748 rows x 5 columns]"
      ]
     },
     "metadata": {},
     "output_type": "display_data"
    },
    {
     "data": {
      "text/plain": [
       "Index(['Recency (months)', 'Frequency (times)', 'Monetary (c.c. blood)',\n",
       "       'Time (months)', 'whether he/she donated blood in March 2007'],\n",
       "      dtype='object')"
      ]
     },
     "execution_count": 3,
     "metadata": {},
     "output_type": "execute_result"
    }
   ],
   "source": [
    "data.index +=1\n",
    "display(data)\n",
    "data.columns"
   ]
  },
  {
   "cell_type": "code",
   "execution_count": 4,
   "metadata": {
    "execution": {
     "iopub.execute_input": "2025-02-27T13:38:46.812167Z",
     "iopub.status.busy": "2025-02-27T13:38:46.811713Z",
     "iopub.status.idle": "2025-02-27T13:38:46.836709Z",
     "shell.execute_reply": "2025-02-27T13:38:46.835479Z",
     "shell.execute_reply.started": "2025-02-27T13:38:46.812127Z"
    },
    "trusted": true
   },
   "outputs": [
    {
     "name": "stdout",
     "output_type": "stream",
     "text": [
      "<class 'pandas.core.frame.DataFrame'>\n",
      "RangeIndex: 748 entries, 1 to 748\n",
      "Data columns (total 5 columns):\n",
      " #   Column                                      Non-Null Count  Dtype\n",
      "---  ------                                      --------------  -----\n",
      " 0   Recency (months)                            748 non-null    int64\n",
      " 1   Frequency (times)                           748 non-null    int64\n",
      " 2   Monetary (c.c. blood)                       748 non-null    int64\n",
      " 3   Time (months)                               748 non-null    int64\n",
      " 4   whether he/she donated blood in March 2007  748 non-null    int64\n",
      "dtypes: int64(5)\n",
      "memory usage: 29.3 KB\n"
     ]
    }
   ],
   "source": [
    "data.info()"
   ]
  },
  {
   "cell_type": "code",
   "execution_count": 5,
   "metadata": {
    "execution": {
     "iopub.execute_input": "2025-02-27T13:38:46.838179Z",
     "iopub.status.busy": "2025-02-27T13:38:46.837783Z",
     "iopub.status.idle": "2025-02-27T13:38:46.864934Z",
     "shell.execute_reply": "2025-02-27T13:38:46.863826Z",
     "shell.execute_reply.started": "2025-02-27T13:38:46.838142Z"
    },
    "trusted": true
   },
   "outputs": [
    {
     "data": {
      "application/vnd.microsoft.datawrangler.viewer.v0+json": {
       "columns": [
        {
         "name": "index",
         "rawType": "object",
         "type": "string"
        },
        {
         "name": "Recency (months)",
         "rawType": "float64",
         "type": "float"
        },
        {
         "name": "Frequency (times)",
         "rawType": "float64",
         "type": "float"
        },
        {
         "name": "Monetary (c.c. blood)",
         "rawType": "float64",
         "type": "float"
        },
        {
         "name": "Time (months)",
         "rawType": "float64",
         "type": "float"
        },
        {
         "name": "whether he/she donated blood in March 2007",
         "rawType": "float64",
         "type": "float"
        }
       ],
       "ref": "964b9f84-a2bd-4800-a26c-71ff3c9eec8a",
       "rows": [
        [
         "count",
         "748.0",
         "748.0",
         "748.0",
         "748.0",
         "748.0"
        ],
        [
         "mean",
         "9.506684491978609",
         "5.514705882352941",
         "1378.6764705882354",
         "34.282085561497325",
         "0.23796791443850268"
        ],
        [
         "std",
         "8.095395635299214",
         "5.839307123090025",
         "1459.8267807725063",
         "24.376714368614188",
         "0.4261243278014516"
        ],
        [
         "min",
         "0.0",
         "1.0",
         "250.0",
         "2.0",
         "0.0"
        ],
        [
         "25%",
         "2.75",
         "2.0",
         "500.0",
         "16.0",
         "0.0"
        ],
        [
         "50%",
         "7.0",
         "4.0",
         "1000.0",
         "28.0",
         "0.0"
        ],
        [
         "75%",
         "14.0",
         "7.0",
         "1750.0",
         "50.0",
         "0.0"
        ],
        [
         "max",
         "74.0",
         "50.0",
         "12500.0",
         "98.0",
         "1.0"
        ]
       ],
       "shape": {
        "columns": 5,
        "rows": 8
       }
      },
      "text/html": [
       "<div>\n",
       "<style scoped>\n",
       "    .dataframe tbody tr th:only-of-type {\n",
       "        vertical-align: middle;\n",
       "    }\n",
       "\n",
       "    .dataframe tbody tr th {\n",
       "        vertical-align: top;\n",
       "    }\n",
       "\n",
       "    .dataframe thead th {\n",
       "        text-align: right;\n",
       "    }\n",
       "</style>\n",
       "<table border=\"1\" class=\"dataframe\">\n",
       "  <thead>\n",
       "    <tr style=\"text-align: right;\">\n",
       "      <th></th>\n",
       "      <th>Recency (months)</th>\n",
       "      <th>Frequency (times)</th>\n",
       "      <th>Monetary (c.c. blood)</th>\n",
       "      <th>Time (months)</th>\n",
       "      <th>whether he/she donated blood in March 2007</th>\n",
       "    </tr>\n",
       "  </thead>\n",
       "  <tbody>\n",
       "    <tr>\n",
       "      <th>count</th>\n",
       "      <td>748.000000</td>\n",
       "      <td>748.000000</td>\n",
       "      <td>748.000000</td>\n",
       "      <td>748.000000</td>\n",
       "      <td>748.000000</td>\n",
       "    </tr>\n",
       "    <tr>\n",
       "      <th>mean</th>\n",
       "      <td>9.506684</td>\n",
       "      <td>5.514706</td>\n",
       "      <td>1378.676471</td>\n",
       "      <td>34.282086</td>\n",
       "      <td>0.237968</td>\n",
       "    </tr>\n",
       "    <tr>\n",
       "      <th>std</th>\n",
       "      <td>8.095396</td>\n",
       "      <td>5.839307</td>\n",
       "      <td>1459.826781</td>\n",
       "      <td>24.376714</td>\n",
       "      <td>0.426124</td>\n",
       "    </tr>\n",
       "    <tr>\n",
       "      <th>min</th>\n",
       "      <td>0.000000</td>\n",
       "      <td>1.000000</td>\n",
       "      <td>250.000000</td>\n",
       "      <td>2.000000</td>\n",
       "      <td>0.000000</td>\n",
       "    </tr>\n",
       "    <tr>\n",
       "      <th>25%</th>\n",
       "      <td>2.750000</td>\n",
       "      <td>2.000000</td>\n",
       "      <td>500.000000</td>\n",
       "      <td>16.000000</td>\n",
       "      <td>0.000000</td>\n",
       "    </tr>\n",
       "    <tr>\n",
       "      <th>50%</th>\n",
       "      <td>7.000000</td>\n",
       "      <td>4.000000</td>\n",
       "      <td>1000.000000</td>\n",
       "      <td>28.000000</td>\n",
       "      <td>0.000000</td>\n",
       "    </tr>\n",
       "    <tr>\n",
       "      <th>75%</th>\n",
       "      <td>14.000000</td>\n",
       "      <td>7.000000</td>\n",
       "      <td>1750.000000</td>\n",
       "      <td>50.000000</td>\n",
       "      <td>0.000000</td>\n",
       "    </tr>\n",
       "    <tr>\n",
       "      <th>max</th>\n",
       "      <td>74.000000</td>\n",
       "      <td>50.000000</td>\n",
       "      <td>12500.000000</td>\n",
       "      <td>98.000000</td>\n",
       "      <td>1.000000</td>\n",
       "    </tr>\n",
       "  </tbody>\n",
       "</table>\n",
       "</div>"
      ],
      "text/plain": [
       "       Recency (months)  Frequency (times)  Monetary (c.c. blood)  \\\n",
       "count        748.000000         748.000000             748.000000   \n",
       "mean           9.506684           5.514706            1378.676471   \n",
       "std            8.095396           5.839307            1459.826781   \n",
       "min            0.000000           1.000000             250.000000   \n",
       "25%            2.750000           2.000000             500.000000   \n",
       "50%            7.000000           4.000000            1000.000000   \n",
       "75%           14.000000           7.000000            1750.000000   \n",
       "max           74.000000          50.000000           12500.000000   \n",
       "\n",
       "       Time (months)  whether he/she donated blood in March 2007  \n",
       "count     748.000000                                  748.000000  \n",
       "mean       34.282086                                    0.237968  \n",
       "std        24.376714                                    0.426124  \n",
       "min         2.000000                                    0.000000  \n",
       "25%        16.000000                                    0.000000  \n",
       "50%        28.000000                                    0.000000  \n",
       "75%        50.000000                                    0.000000  \n",
       "max        98.000000                                    1.000000  "
      ]
     },
     "execution_count": 5,
     "metadata": {},
     "output_type": "execute_result"
    }
   ],
   "source": [
    "data.describe()"
   ]
  },
  {
   "cell_type": "code",
   "execution_count": null,
   "metadata": {
    "execution": {
     "iopub.execute_input": "2025-02-27T13:38:46.875523Z",
     "iopub.status.busy": "2025-02-27T13:38:46.875107Z",
     "iopub.status.idle": "2025-02-27T13:38:46.906545Z",
     "shell.execute_reply": "2025-02-27T13:38:46.905360Z",
     "shell.execute_reply.started": "2025-02-27T13:38:46.875466Z"
    },
    "trusted": true
   },
   "outputs": [
    {
     "data": {
      "application/vnd.microsoft.datawrangler.viewer.v0+json": {
       "columns": [
        {
         "name": "index",
         "rawType": "int64",
         "type": "integer"
        },
        {
         "name": "Months",
         "rawType": "int64",
         "type": "integer"
        },
        {
         "name": "Frequencies",
         "rawType": "int64",
         "type": "integer"
        },
        {
         "name": "Monetary",
         "rawType": "int64",
         "type": "integer"
        },
        {
         "name": "NumMonth",
         "rawType": "int64",
         "type": "integer"
        },
        {
         "name": "isDonate",
         "rawType": "int64",
         "type": "integer"
        }
       ],
       "ref": "41ee4331-df76-45f4-91be-b400dc5f8a81",
       "rows": [
        [
         "1",
         "2",
         "50",
         "12500",
         "98",
         "1"
        ],
        [
         "2",
         "0",
         "13",
         "3250",
         "28",
         "1"
        ],
        [
         "3",
         "1",
         "16",
         "4000",
         "35",
         "1"
        ],
        [
         "4",
         "2",
         "20",
         "5000",
         "45",
         "1"
        ],
        [
         "5",
         "1",
         "24",
         "6000",
         "77",
         "0"
        ],
        [
         "6",
         "4",
         "4",
         "1000",
         "4",
         "0"
        ],
        [
         "7",
         "2",
         "7",
         "1750",
         "14",
         "1"
        ],
        [
         "8",
         "1",
         "12",
         "3000",
         "35",
         "0"
        ],
        [
         "9",
         "2",
         "9",
         "2250",
         "22",
         "1"
        ],
        [
         "10",
         "5",
         "46",
         "11500",
         "98",
         "1"
        ],
        [
         "11",
         "4",
         "23",
         "5750",
         "58",
         "0"
        ],
        [
         "12",
         "0",
         "3",
         "750",
         "4",
         "0"
        ],
        [
         "13",
         "2",
         "10",
         "2500",
         "28",
         "1"
        ],
        [
         "14",
         "1",
         "13",
         "3250",
         "47",
         "0"
        ],
        [
         "15",
         "2",
         "6",
         "1500",
         "15",
         "1"
        ],
        [
         "16",
         "2",
         "5",
         "1250",
         "11",
         "1"
        ],
        [
         "17",
         "2",
         "14",
         "3500",
         "48",
         "1"
        ],
        [
         "18",
         "2",
         "15",
         "3750",
         "49",
         "1"
        ],
        [
         "19",
         "2",
         "6",
         "1500",
         "15",
         "1"
        ],
        [
         "20",
         "2",
         "3",
         "750",
         "4",
         "1"
        ],
        [
         "21",
         "2",
         "3",
         "750",
         "4",
         "1"
        ],
        [
         "22",
         "4",
         "11",
         "2750",
         "28",
         "0"
        ],
        [
         "23",
         "2",
         "6",
         "1500",
         "16",
         "1"
        ],
        [
         "24",
         "2",
         "6",
         "1500",
         "16",
         "1"
        ],
        [
         "25",
         "9",
         "9",
         "2250",
         "16",
         "0"
        ],
        [
         "26",
         "4",
         "14",
         "3500",
         "40",
         "0"
        ],
        [
         "27",
         "4",
         "6",
         "1500",
         "14",
         "0"
        ],
        [
         "28",
         "4",
         "12",
         "3000",
         "34",
         "1"
        ],
        [
         "29",
         "4",
         "5",
         "1250",
         "11",
         "1"
        ],
        [
         "30",
         "4",
         "8",
         "2000",
         "21",
         "0"
        ],
        [
         "31",
         "1",
         "14",
         "3500",
         "58",
         "0"
        ],
        [
         "32",
         "4",
         "10",
         "2500",
         "28",
         "1"
        ],
        [
         "33",
         "4",
         "10",
         "2500",
         "28",
         "1"
        ],
        [
         "34",
         "4",
         "9",
         "2250",
         "26",
         "1"
        ],
        [
         "35",
         "2",
         "16",
         "4000",
         "64",
         "0"
        ],
        [
         "36",
         "2",
         "8",
         "2000",
         "28",
         "1"
        ],
        [
         "37",
         "2",
         "12",
         "3000",
         "47",
         "1"
        ],
        [
         "38",
         "4",
         "6",
         "1500",
         "16",
         "1"
        ],
        [
         "39",
         "2",
         "14",
         "3500",
         "57",
         "1"
        ],
        [
         "40",
         "4",
         "7",
         "1750",
         "22",
         "1"
        ],
        [
         "41",
         "2",
         "13",
         "3250",
         "53",
         "1"
        ],
        [
         "42",
         "2",
         "5",
         "1250",
         "16",
         "0"
        ],
        [
         "43",
         "2",
         "5",
         "1250",
         "16",
         "1"
        ],
        [
         "44",
         "2",
         "5",
         "1250",
         "16",
         "0"
        ],
        [
         "45",
         "4",
         "20",
         "5000",
         "69",
         "1"
        ],
        [
         "46",
         "4",
         "9",
         "2250",
         "28",
         "1"
        ],
        [
         "47",
         "2",
         "9",
         "2250",
         "36",
         "0"
        ],
        [
         "48",
         "2",
         "2",
         "500",
         "2",
         "0"
        ],
        [
         "49",
         "2",
         "2",
         "500",
         "2",
         "0"
        ],
        [
         "50",
         "2",
         "2",
         "500",
         "2",
         "0"
        ]
       ],
       "shape": {
        "columns": 5,
        "rows": 748
       }
      },
      "text/html": [
       "<div>\n",
       "<style scoped>\n",
       "    .dataframe tbody tr th:only-of-type {\n",
       "        vertical-align: middle;\n",
       "    }\n",
       "\n",
       "    .dataframe tbody tr th {\n",
       "        vertical-align: top;\n",
       "    }\n",
       "\n",
       "    .dataframe thead th {\n",
       "        text-align: right;\n",
       "    }\n",
       "</style>\n",
       "<table border=\"1\" class=\"dataframe\">\n",
       "  <thead>\n",
       "    <tr style=\"text-align: right;\">\n",
       "      <th></th>\n",
       "      <th>Months</th>\n",
       "      <th>Frequencies</th>\n",
       "      <th>Monetary</th>\n",
       "      <th>NumMonth</th>\n",
       "      <th>isDonate</th>\n",
       "    </tr>\n",
       "  </thead>\n",
       "  <tbody>\n",
       "    <tr>\n",
       "      <th>1</th>\n",
       "      <td>2</td>\n",
       "      <td>50</td>\n",
       "      <td>12500</td>\n",
       "      <td>98</td>\n",
       "      <td>1</td>\n",
       "    </tr>\n",
       "    <tr>\n",
       "      <th>2</th>\n",
       "      <td>0</td>\n",
       "      <td>13</td>\n",
       "      <td>3250</td>\n",
       "      <td>28</td>\n",
       "      <td>1</td>\n",
       "    </tr>\n",
       "    <tr>\n",
       "      <th>3</th>\n",
       "      <td>1</td>\n",
       "      <td>16</td>\n",
       "      <td>4000</td>\n",
       "      <td>35</td>\n",
       "      <td>1</td>\n",
       "    </tr>\n",
       "    <tr>\n",
       "      <th>4</th>\n",
       "      <td>2</td>\n",
       "      <td>20</td>\n",
       "      <td>5000</td>\n",
       "      <td>45</td>\n",
       "      <td>1</td>\n",
       "    </tr>\n",
       "    <tr>\n",
       "      <th>5</th>\n",
       "      <td>1</td>\n",
       "      <td>24</td>\n",
       "      <td>6000</td>\n",
       "      <td>77</td>\n",
       "      <td>0</td>\n",
       "    </tr>\n",
       "    <tr>\n",
       "      <th>...</th>\n",
       "      <td>...</td>\n",
       "      <td>...</td>\n",
       "      <td>...</td>\n",
       "      <td>...</td>\n",
       "      <td>...</td>\n",
       "    </tr>\n",
       "    <tr>\n",
       "      <th>744</th>\n",
       "      <td>23</td>\n",
       "      <td>2</td>\n",
       "      <td>500</td>\n",
       "      <td>38</td>\n",
       "      <td>0</td>\n",
       "    </tr>\n",
       "    <tr>\n",
       "      <th>745</th>\n",
       "      <td>21</td>\n",
       "      <td>2</td>\n",
       "      <td>500</td>\n",
       "      <td>52</td>\n",
       "      <td>0</td>\n",
       "    </tr>\n",
       "    <tr>\n",
       "      <th>746</th>\n",
       "      <td>23</td>\n",
       "      <td>3</td>\n",
       "      <td>750</td>\n",
       "      <td>62</td>\n",
       "      <td>0</td>\n",
       "    </tr>\n",
       "    <tr>\n",
       "      <th>747</th>\n",
       "      <td>39</td>\n",
       "      <td>1</td>\n",
       "      <td>250</td>\n",
       "      <td>39</td>\n",
       "      <td>0</td>\n",
       "    </tr>\n",
       "    <tr>\n",
       "      <th>748</th>\n",
       "      <td>72</td>\n",
       "      <td>1</td>\n",
       "      <td>250</td>\n",
       "      <td>72</td>\n",
       "      <td>0</td>\n",
       "    </tr>\n",
       "  </tbody>\n",
       "</table>\n",
       "<p>748 rows × 5 columns</p>\n",
       "</div>"
      ],
      "text/plain": [
       "     Months  Frequencies  Monetary  NumMonth  isDonate\n",
       "1         2           50     12500        98         1\n",
       "2         0           13      3250        28         1\n",
       "3         1           16      4000        35         1\n",
       "4         2           20      5000        45         1\n",
       "5         1           24      6000        77         0\n",
       "..      ...          ...       ...       ...       ...\n",
       "744      23            2       500        38         0\n",
       "745      21            2       500        52         0\n",
       "746      23            3       750        62         0\n",
       "747      39            1       250        39         0\n",
       "748      72            1       250        72         0\n",
       "\n",
       "[748 rows x 5 columns]"
      ]
     },
     "execution_count": 6,
     "metadata": {},
     "output_type": "execute_result"
    }
   ],
   "source": [
    "data = pd.DataFrame(data)\n",
    "data = data.rename(columns={\"Recency (months)\":\"Months\", \"Frequency (times)\":\"Frequencies\", \"Monetary (c.c. blood)\":\"Monetary\", \n",
    "                            \"Time (months)\":\"NumMonth\",\"whether he/she donated blood in March 2007\":\"isDonate\"})\n",
    "data"
   ]
  },
  {
   "cell_type": "code",
   "execution_count": 7,
   "metadata": {
    "execution": {
     "iopub.execute_input": "2025-02-27T13:38:46.908109Z",
     "iopub.status.busy": "2025-02-27T13:38:46.907730Z",
     "iopub.status.idle": "2025-02-27T13:38:46.929625Z",
     "shell.execute_reply": "2025-02-27T13:38:46.928589Z",
     "shell.execute_reply.started": "2025-02-27T13:38:46.908069Z"
    },
    "trusted": true
   },
   "outputs": [
    {
     "data": {
      "application/vnd.microsoft.datawrangler.viewer.v0+json": {
       "columns": [
        {
         "name": "index",
         "rawType": "int64",
         "type": "integer"
        },
        {
         "name": "isDonate",
         "rawType": "int64",
         "type": "integer"
        }
       ],
       "ref": "57416854-9416-4d23-9c48-db874e3f71d3",
       "rows": [
        [
         "1",
         "1"
        ],
        [
         "2",
         "1"
        ],
        [
         "3",
         "1"
        ],
        [
         "4",
         "1"
        ],
        [
         "5",
         "0"
        ],
        [
         "6",
         "0"
        ],
        [
         "7",
         "1"
        ],
        [
         "8",
         "0"
        ],
        [
         "9",
         "1"
        ],
        [
         "10",
         "1"
        ],
        [
         "11",
         "0"
        ],
        [
         "12",
         "0"
        ],
        [
         "13",
         "1"
        ],
        [
         "14",
         "0"
        ],
        [
         "15",
         "1"
        ],
        [
         "16",
         "1"
        ],
        [
         "17",
         "1"
        ],
        [
         "18",
         "1"
        ],
        [
         "19",
         "1"
        ],
        [
         "20",
         "1"
        ],
        [
         "21",
         "1"
        ],
        [
         "22",
         "0"
        ],
        [
         "23",
         "1"
        ],
        [
         "24",
         "1"
        ],
        [
         "25",
         "0"
        ],
        [
         "26",
         "0"
        ],
        [
         "27",
         "0"
        ],
        [
         "28",
         "1"
        ],
        [
         "29",
         "1"
        ],
        [
         "30",
         "0"
        ],
        [
         "31",
         "0"
        ],
        [
         "32",
         "1"
        ],
        [
         "33",
         "1"
        ],
        [
         "34",
         "1"
        ],
        [
         "35",
         "0"
        ],
        [
         "36",
         "1"
        ],
        [
         "37",
         "1"
        ],
        [
         "38",
         "1"
        ],
        [
         "39",
         "1"
        ],
        [
         "40",
         "1"
        ],
        [
         "41",
         "1"
        ],
        [
         "42",
         "0"
        ],
        [
         "43",
         "1"
        ],
        [
         "44",
         "0"
        ],
        [
         "45",
         "1"
        ],
        [
         "46",
         "1"
        ],
        [
         "47",
         "0"
        ],
        [
         "48",
         "0"
        ],
        [
         "49",
         "0"
        ],
        [
         "50",
         "0"
        ]
       ],
       "shape": {
        "columns": 1,
        "rows": 748
       }
      },
      "text/plain": [
       "1      1\n",
       "2      1\n",
       "3      1\n",
       "4      1\n",
       "5      0\n",
       "      ..\n",
       "744    0\n",
       "745    0\n",
       "746    0\n",
       "747    0\n",
       "748    0\n",
       "Name: isDonate, Length: 748, dtype: int64"
      ]
     },
     "execution_count": 7,
     "metadata": {},
     "output_type": "execute_result"
    }
   ],
   "source": [
    "data['isDonate']"
   ]
  },
  {
   "cell_type": "code",
   "execution_count": 8,
   "metadata": {
    "execution": {
     "iopub.execute_input": "2025-02-27T13:38:46.930973Z",
     "iopub.status.busy": "2025-02-27T13:38:46.930672Z",
     "iopub.status.idle": "2025-02-27T13:38:46.961797Z",
     "shell.execute_reply": "2025-02-27T13:38:46.960521Z",
     "shell.execute_reply.started": "2025-02-27T13:38:46.930944Z"
    },
    "trusted": true
   },
   "outputs": [
    {
     "data": {
      "application/vnd.microsoft.datawrangler.viewer.v0+json": {
       "columns": [
        {
         "name": "index",
         "rawType": "object",
         "type": "string"
        },
        {
         "name": "Months",
         "rawType": "float64",
         "type": "float"
        },
        {
         "name": "Frequencies",
         "rawType": "float64",
         "type": "float"
        },
        {
         "name": "Monetary",
         "rawType": "float64",
         "type": "float"
        },
        {
         "name": "NumMonth",
         "rawType": "float64",
         "type": "float"
        },
        {
         "name": "isDonate",
         "rawType": "float64",
         "type": "float"
        }
       ],
       "ref": "fe1ffa29-e07f-4f8b-8eff-7e5f9cda56c1",
       "rows": [
        [
         "count",
         "748.0",
         "748.0",
         "748.0",
         "748.0",
         "748.0"
        ],
        [
         "mean",
         "9.506684491978609",
         "5.514705882352941",
         "1378.6764705882354",
         "34.282085561497325",
         "0.23796791443850268"
        ],
        [
         "std",
         "8.095395635299214",
         "5.839307123090025",
         "1459.8267807725063",
         "24.376714368614188",
         "0.4261243278014516"
        ],
        [
         "min",
         "0.0",
         "1.0",
         "250.0",
         "2.0",
         "0.0"
        ],
        [
         "25%",
         "2.75",
         "2.0",
         "500.0",
         "16.0",
         "0.0"
        ],
        [
         "50%",
         "7.0",
         "4.0",
         "1000.0",
         "28.0",
         "0.0"
        ],
        [
         "75%",
         "14.0",
         "7.0",
         "1750.0",
         "50.0",
         "0.0"
        ],
        [
         "max",
         "74.0",
         "50.0",
         "12500.0",
         "98.0",
         "1.0"
        ]
       ],
       "shape": {
        "columns": 5,
        "rows": 8
       }
      },
      "text/html": [
       "<div>\n",
       "<style scoped>\n",
       "    .dataframe tbody tr th:only-of-type {\n",
       "        vertical-align: middle;\n",
       "    }\n",
       "\n",
       "    .dataframe tbody tr th {\n",
       "        vertical-align: top;\n",
       "    }\n",
       "\n",
       "    .dataframe thead th {\n",
       "        text-align: right;\n",
       "    }\n",
       "</style>\n",
       "<table border=\"1\" class=\"dataframe\">\n",
       "  <thead>\n",
       "    <tr style=\"text-align: right;\">\n",
       "      <th></th>\n",
       "      <th>Months</th>\n",
       "      <th>Frequencies</th>\n",
       "      <th>Monetary</th>\n",
       "      <th>NumMonth</th>\n",
       "      <th>isDonate</th>\n",
       "    </tr>\n",
       "  </thead>\n",
       "  <tbody>\n",
       "    <tr>\n",
       "      <th>count</th>\n",
       "      <td>748.000000</td>\n",
       "      <td>748.000000</td>\n",
       "      <td>748.000000</td>\n",
       "      <td>748.000000</td>\n",
       "      <td>748.000000</td>\n",
       "    </tr>\n",
       "    <tr>\n",
       "      <th>mean</th>\n",
       "      <td>9.506684</td>\n",
       "      <td>5.514706</td>\n",
       "      <td>1378.676471</td>\n",
       "      <td>34.282086</td>\n",
       "      <td>0.237968</td>\n",
       "    </tr>\n",
       "    <tr>\n",
       "      <th>std</th>\n",
       "      <td>8.095396</td>\n",
       "      <td>5.839307</td>\n",
       "      <td>1459.826781</td>\n",
       "      <td>24.376714</td>\n",
       "      <td>0.426124</td>\n",
       "    </tr>\n",
       "    <tr>\n",
       "      <th>min</th>\n",
       "      <td>0.000000</td>\n",
       "      <td>1.000000</td>\n",
       "      <td>250.000000</td>\n",
       "      <td>2.000000</td>\n",
       "      <td>0.000000</td>\n",
       "    </tr>\n",
       "    <tr>\n",
       "      <th>25%</th>\n",
       "      <td>2.750000</td>\n",
       "      <td>2.000000</td>\n",
       "      <td>500.000000</td>\n",
       "      <td>16.000000</td>\n",
       "      <td>0.000000</td>\n",
       "    </tr>\n",
       "    <tr>\n",
       "      <th>50%</th>\n",
       "      <td>7.000000</td>\n",
       "      <td>4.000000</td>\n",
       "      <td>1000.000000</td>\n",
       "      <td>28.000000</td>\n",
       "      <td>0.000000</td>\n",
       "    </tr>\n",
       "    <tr>\n",
       "      <th>75%</th>\n",
       "      <td>14.000000</td>\n",
       "      <td>7.000000</td>\n",
       "      <td>1750.000000</td>\n",
       "      <td>50.000000</td>\n",
       "      <td>0.000000</td>\n",
       "    </tr>\n",
       "    <tr>\n",
       "      <th>max</th>\n",
       "      <td>74.000000</td>\n",
       "      <td>50.000000</td>\n",
       "      <td>12500.000000</td>\n",
       "      <td>98.000000</td>\n",
       "      <td>1.000000</td>\n",
       "    </tr>\n",
       "  </tbody>\n",
       "</table>\n",
       "</div>"
      ],
      "text/plain": [
       "           Months  Frequencies      Monetary    NumMonth    isDonate\n",
       "count  748.000000   748.000000    748.000000  748.000000  748.000000\n",
       "mean     9.506684     5.514706   1378.676471   34.282086    0.237968\n",
       "std      8.095396     5.839307   1459.826781   24.376714    0.426124\n",
       "min      0.000000     1.000000    250.000000    2.000000    0.000000\n",
       "25%      2.750000     2.000000    500.000000   16.000000    0.000000\n",
       "50%      7.000000     4.000000   1000.000000   28.000000    0.000000\n",
       "75%     14.000000     7.000000   1750.000000   50.000000    0.000000\n",
       "max     74.000000    50.000000  12500.000000   98.000000    1.000000"
      ]
     },
     "execution_count": 8,
     "metadata": {},
     "output_type": "execute_result"
    }
   ],
   "source": [
    "data.describe()"
   ]
  },
  {
   "cell_type": "code",
   "execution_count": 9,
   "metadata": {},
   "outputs": [
    {
     "data": {
      "application/vnd.microsoft.datawrangler.viewer.v0+json": {
       "columns": [
        {
         "name": "isDonate",
         "rawType": "int64",
         "type": "integer"
        },
        {
         "name": "numDonate",
         "rawType": "int64",
         "type": "integer"
        }
       ],
       "ref": "a6d30dc4-e06a-4d04-96de-c8060885e5eb",
       "rows": [
        [
         "0",
         "570"
        ],
        [
         "1",
         "178"
        ]
       ],
       "shape": {
        "columns": 1,
        "rows": 2
       }
      },
      "text/html": [
       "<div>\n",
       "<style scoped>\n",
       "    .dataframe tbody tr th:only-of-type {\n",
       "        vertical-align: middle;\n",
       "    }\n",
       "\n",
       "    .dataframe tbody tr th {\n",
       "        vertical-align: top;\n",
       "    }\n",
       "\n",
       "    .dataframe thead th {\n",
       "        text-align: right;\n",
       "    }\n",
       "</style>\n",
       "<table border=\"1\" class=\"dataframe\">\n",
       "  <thead>\n",
       "    <tr style=\"text-align: right;\">\n",
       "      <th></th>\n",
       "      <th>numDonate</th>\n",
       "    </tr>\n",
       "    <tr>\n",
       "      <th>isDonate</th>\n",
       "      <th></th>\n",
       "    </tr>\n",
       "  </thead>\n",
       "  <tbody>\n",
       "    <tr>\n",
       "      <th>0</th>\n",
       "      <td>570</td>\n",
       "    </tr>\n",
       "    <tr>\n",
       "      <th>1</th>\n",
       "      <td>178</td>\n",
       "    </tr>\n",
       "  </tbody>\n",
       "</table>\n",
       "</div>"
      ],
      "text/plain": [
       "          numDonate\n",
       "isDonate           \n",
       "0               570\n",
       "1               178"
      ]
     },
     "metadata": {},
     "output_type": "display_data"
    }
   ],
   "source": [
    "data_isdonate = data.groupby(by=[\"isDonate\"]).agg({\"isDonate\":\"count\"}).rename(columns={\"isDonate\": \"numDonate\"})\n",
    "display(data_isdonate)\n"
   ]
  },
  {
   "cell_type": "code",
   "execution_count": 11,
   "metadata": {
    "execution": {
     "iopub.execute_input": "2025-02-27T13:38:58.856713Z",
     "iopub.status.busy": "2025-02-27T13:38:58.856241Z",
     "iopub.status.idle": "2025-02-27T13:38:59.087486Z",
     "shell.execute_reply": "2025-02-27T13:38:59.086205Z",
     "shell.execute_reply.started": "2025-02-27T13:38:58.856654Z"
    },
    "trusted": true
   },
   "outputs": [
    {
     "name": "stdout",
     "output_type": "stream",
     "text": [
      "Banyaknya data x train:  (598, 4)\n",
      "Banyaknya data x test:  (150, 4)\n",
      "Banyaknya data y train:  (598,)\n",
      "Banyaknya data y test:  (150,)\n"
     ]
    }
   ],
   "source": [
    "x = data.drop(\"isDonate\", axis=1)\n",
    "y = data['isDonate']\n",
    "x_train, x_test, y_train, y_test = train_test_split(x, y, test_size=0.2, random_state=225)\n",
    "\n",
    "print(\"Banyaknya data x train: \", x_train.shape)\n",
    "print(\"Banyaknya data x test: \", x_test.shape)\n",
    "print(\"Banyaknya data y train: \", y_train.shape)\n",
    "print(\"Banyaknya data y test: \", y_test.shape)"
   ]
  },
  {
   "cell_type": "code",
   "execution_count": 12,
   "metadata": {
    "execution": {
     "iopub.execute_input": "2025-02-27T13:38:59.134535Z",
     "iopub.status.busy": "2025-02-27T13:38:59.134055Z",
     "iopub.status.idle": "2025-02-27T13:38:59.152110Z",
     "shell.execute_reply": "2025-02-27T13:38:59.150887Z",
     "shell.execute_reply.started": "2025-02-27T13:38:59.134473Z"
    },
    "trusted": true
   },
   "outputs": [],
   "source": [
    "from sklearn.metrics import confusion_matrix, classification_report, accuracy_score, precision_score, recall_score, f1_score"
   ]
  },
  {
   "cell_type": "code",
   "execution_count": 13,
   "metadata": {
    "execution": {
     "iopub.execute_input": "2025-02-27T13:38:59.153981Z",
     "iopub.status.busy": "2025-02-27T13:38:59.153316Z",
     "iopub.status.idle": "2025-02-27T13:38:59.475665Z",
     "shell.execute_reply": "2025-02-27T13:38:59.474615Z",
     "shell.execute_reply.started": "2025-02-27T13:38:59.153941Z"
    },
    "trusted": true
   },
   "outputs": [],
   "source": [
    "from sklearn.svm import SVC\n",
    "from sklearn.ensemble import RandomForestClassifier\n",
    "from sklearn.linear_model import LogisticRegression\n",
    "from sklearn.naive_bayes import MultinomialNB\n",
    "from sklearn.naive_bayes import ComplementNB\n",
    "from sklearn.naive_bayes import BernoulliNB\n",
    "from sklearn.tree import DecisionTreeClassifier\n",
    "from sklearn.neighbors import KNeighborsClassifier\n",
    "\n",
    "svm = SVC()\n",
    "rf = RandomForestClassifier() # boleh isi random state 225 atau 42\n",
    "lr = LogisticRegression()\n",
    "dt = DecisionTreeClassifier()\n",
    "knn = KNeighborsClassifier(n_neighbors=47)\n",
    "rf = RandomForestClassifier()\n"
   ]
  },
  {
   "cell_type": "code",
   "execution_count": 14,
   "metadata": {
    "execution": {
     "iopub.execute_input": "2025-02-27T13:38:59.477213Z",
     "iopub.status.busy": "2025-02-27T13:38:59.476843Z",
     "iopub.status.idle": "2025-02-27T13:38:59.486048Z",
     "shell.execute_reply": "2025-02-27T13:38:59.484904Z",
     "shell.execute_reply.started": "2025-02-27T13:38:59.477176Z"
    },
    "trusted": true
   },
   "outputs": [],
   "source": [
    "def findMetrics(test, pred, model_label):\n",
    "    print(\"\\n\")\n",
    "    print(\"Klasifikasi \"+ model_label +\":\\n\")\n",
    "\n",
    "    labels_test = np.sort(test.unique())\n",
    "    cm = confusion_matrix(test, pred, labels=labels_test)\n",
    "    print(\"Confusion Matrix\")\n",
    "    print(cm)\n",
    "\n",
    "    print(\"\\n\")\n",
    "    print(\"Accuracy:\", accuracy_score(test, pred) * 100)\n",
    "    print(\"Precision:\", precision_score(test, pred, average='macro') * 100)\n",
    "    print(\"Recall:\", recall_score(test, pred, average='macro') * 100)\n",
    "    print(\"F1-Score:\", f1_score(test, pred, average='macro') * 100)\n",
    "    print(\"\\n\")\n",
    "    print(classification_report(test, pred))\n",
    "    \n",
    "    sns.heatmap(cm, annot=True, fmt=\"d\", cmap='coolwarm', xticklabels=labels_test, yticklabels=labels_test)\n",
    "    plt.title('Confusion Matrix', fontsize=17, pad=20)\n",
    "    plt.gca().xaxis.set_label_position('top')\n",
    "    plt.ylabel('Actual', fontsize=13)\n",
    "    plt.xlabel('Predicted', fontsize=13)\n",
    "    plt.gca().xaxis.tick_top()\n",
    "\n",
    "    plt.gca().figure.subplots_adjust(bottom=0.2)\n",
    "    plt.show()\n",
    "\n",
    "def train_model(classification, x_train, y_train):\n",
    "    model = classification\n",
    "    train = model.fit(x_train, y_train)\n",
    "    return train"
   ]
  },
  {
   "cell_type": "code",
   "execution_count": null,
   "metadata": {
    "collapsed": true,
    "execution": {
     "iopub.execute_input": "2025-02-27T13:38:59.487436Z",
     "iopub.status.busy": "2025-02-27T13:38:59.487141Z",
     "iopub.status.idle": "2025-02-27T13:41:56.845551Z",
     "shell.execute_reply": "2025-02-27T13:41:56.844192Z",
     "shell.execute_reply.started": "2025-02-27T13:38:59.487411Z"
    },
    "jupyter": {
     "outputs_hidden": true
    },
    "trusted": true
   },
   "outputs": [
    {
     "name": "stdout",
     "output_type": "stream",
     "text": [
      "\n",
      "\n",
      "Klasifikasi Support Vector Machine:\n",
      "\n",
      "Confusion Matrix\n",
      "[[100   6]\n",
      " [ 41   3]]\n",
      "\n",
      "\n",
      "Accuracy: 68.66666666666667\n",
      "Precision: 52.12765957446809\n",
      "Recall: 50.578902229845625\n",
      "F1-Score: 46.146207318004734\n",
      "\n",
      "\n",
      "              precision    recall  f1-score   support\n",
      "\n",
      "           0       0.71      0.94      0.81       106\n",
      "           1       0.33      0.07      0.11        44\n",
      "\n",
      "    accuracy                           0.69       150\n",
      "   macro avg       0.52      0.51      0.46       150\n",
      "weighted avg       0.60      0.69      0.61       150\n",
      "\n"
     ]
    },
    {
     "data": {
      "image/png": "[encoded data removed]",
      "text/plain": [
       "<Figure size 640x480 with 2 Axes>"
      ]
     },
     "metadata": {},
     "output_type": "display_data"
    },
    {
     "name": "stdout",
     "output_type": "stream",
     "text": [
      "\n",
      "\n",
      "Klasifikasi Logistic Regression:\n",
      "\n",
      "Confusion Matrix\n",
      "[[100   6]\n",
      " [ 39   5]]\n",
      "\n",
      "\n",
      "Accuracy: 70.0\n",
      "Precision: 58.698495748855464\n",
      "Recall: 52.85162950257289\n",
      "F1-Score: 49.90723562152134\n",
      "\n",
      "\n",
      "              precision    recall  f1-score   support\n",
      "\n",
      "           0       0.72      0.94      0.82       106\n",
      "           1       0.45      0.11      0.18        44\n",
      "\n",
      "    accuracy                           0.70       150\n",
      "   macro avg       0.59      0.53      0.50       150\n",
      "weighted avg       0.64      0.70      0.63       150\n",
      "\n"
     ]
    },
    {
     "data": {
      "image/png": "[encoded data removed]",
      "text/plain": [
       "<Figure size 640x480 with 2 Axes>"
      ]
     },
     "metadata": {},
     "output_type": "display_data"
    },
    {
     "name": "stdout",
     "output_type": "stream",
     "text": [
      "\n",
      "\n",
      "Klasifikasi Decision Tree:\n",
      "\n",
      "Confusion Matrix\n",
      "[[85 21]\n",
      " [30 14]]\n",
      "\n",
      "\n",
      "Accuracy: 66.0\n",
      "Precision: 56.95652173913044\n",
      "Recall: 56.00343053173242\n",
      "F1-Score: 56.183057448880234\n",
      "\n",
      "\n",
      "              precision    recall  f1-score   support\n",
      "\n",
      "           0       0.74      0.80      0.77       106\n",
      "           1       0.40      0.32      0.35        44\n",
      "\n",
      "    accuracy                           0.66       150\n",
      "   macro avg       0.57      0.56      0.56       150\n",
      "weighted avg       0.64      0.66      0.65       150\n",
      "\n"
     ]
    },
    {
     "data": {
      "image/png": "[encoded data removed]",
      "text/plain": [
       "<Figure size 640x480 with 2 Axes>"
      ]
     },
     "metadata": {},
     "output_type": "display_data"
    },
    {
     "name": "stdout",
     "output_type": "stream",
     "text": [
      "\n",
      "\n",
      "Klasifikasi K-Nearest Neighbor:\n",
      "\n",
      "Confusion Matrix\n",
      "[[106   0]\n",
      " [ 44   0]]\n",
      "\n",
      "\n",
      "Accuracy: 70.66666666666667\n",
      "Precision: 35.333333333333336\n",
      "Recall: 50.0\n",
      "F1-Score: 41.40625\n",
      "\n",
      "\n",
      "              precision    recall  f1-score   support\n",
      "\n",
      "           0       0.71      1.00      0.83       106\n",
      "           1       0.00      0.00      0.00        44\n",
      "\n",
      "    accuracy                           0.71       150\n",
      "   macro avg       0.35      0.50      0.41       150\n",
      "weighted avg       0.50      0.71      0.59       150\n",
      "\n"
     ]
    },
    {
     "name": "stderr",
     "output_type": "stream",
     "text": [
      "C:\\Users\\ACER\\AppData\\Roaming\\Python\\Python312\\site-packages\\sklearn\\metrics\\_classification.py:1531: UndefinedMetricWarning: Precision is ill-defined and being set to 0.0 in labels with no predicted samples. Use `zero_division` parameter to control this behavior.\n",
      "  _warn_prf(average, modifier, f\"{metric.capitalize()} is\", len(result))\n",
      "C:\\Users\\ACER\\AppData\\Roaming\\Python\\Python312\\site-packages\\sklearn\\metrics\\_classification.py:1531: UndefinedMetricWarning: Precision is ill-defined and being set to 0.0 in labels with no predicted samples. Use `zero_division` parameter to control this behavior.\n",
      "  _warn_prf(average, modifier, f\"{metric.capitalize()} is\", len(result))\n",
      "C:\\Users\\ACER\\AppData\\Roaming\\Python\\Python312\\site-packages\\sklearn\\metrics\\_classification.py:1531: UndefinedMetricWarning: Precision is ill-defined and being set to 0.0 in labels with no predicted samples. Use `zero_division` parameter to control this behavior.\n",
      "  _warn_prf(average, modifier, f\"{metric.capitalize()} is\", len(result))\n",
      "C:\\Users\\ACER\\AppData\\Roaming\\Python\\Python312\\site-packages\\sklearn\\metrics\\_classification.py:1531: UndefinedMetricWarning: Precision is ill-defined and being set to 0.0 in labels with no predicted samples. Use `zero_division` parameter to control this behavior.\n",
      "  _warn_prf(average, modifier, f\"{metric.capitalize()} is\", len(result))\n"
     ]
    },
    {
     "data": {
      "image/png": "[encoded data removed]",
      "text/plain": [
       "<Figure size 640x480 with 2 Axes>"
      ]
     },
     "metadata": {},
     "output_type": "display_data"
    },
    {
     "name": "stdout",
     "output_type": "stream",
     "text": [
      "\n",
      "\n",
      "Klasifikasi Random Forest:\n",
      "\n",
      "Confusion Matrix\n",
      "[[85 21]\n",
      " [30 14]]\n",
      "\n",
      "\n",
      "Accuracy: 66.0\n",
      "Precision: 56.95652173913044\n",
      "Recall: 56.00343053173242\n",
      "F1-Score: 56.183057448880234\n",
      "\n",
      "\n",
      "              precision    recall  f1-score   support\n",
      "\n",
      "           0       0.74      0.80      0.77       106\n",
      "           1       0.40      0.32      0.35        44\n",
      "\n",
      "    accuracy                           0.66       150\n",
      "   macro avg       0.57      0.56      0.56       150\n",
      "weighted avg       0.64      0.66      0.65       150\n",
      "\n"
     ]
    },
    {
     "data": {
      "image/png": "[encoded data removed]",
      "text/plain": [
       "<Figure size 640x480 with 2 Axes>"
      ]
     },
     "metadata": {},
     "output_type": "display_data"
    }
   ],
   "source": [
    "classification = [svm, lr, dt, knn, rf]\n",
    "clf_label = ['Support Vector Machine', 'Logistic Regression', 'Decision Tree', 'K-Nearest Neighbor', 'Random Forest']\n",
    "\n",
    "for i in range(len(classification)):\n",
    "    train = train_model(classification[i], x_train, y_train)\n",
    "    y_pred = train.predict(x_test)\n",
    "    findMetrics(y_test, y_pred, clf_label[i])"
   ]
  },
  {
   "cell_type": "code",
   "execution_count": 16,
   "metadata": {
    "execution": {
     "iopub.execute_input": "2025-02-27T13:41:56.847056Z",
     "iopub.status.busy": "2025-02-27T13:41:56.846680Z",
     "iopub.status.idle": "2025-02-27T13:41:59.490237Z",
     "shell.execute_reply": "2025-02-27T13:41:59.488695Z",
     "shell.execute_reply.started": "2025-02-27T13:41:56.847021Z"
    },
    "trusted": true
   },
   "outputs": [
    {
     "name": "stdout",
     "output_type": "stream",
     "text": [
      "\n",
      "\n",
      "Klasifikasi Multinomial Naive Bayes:\n",
      "\n",
      "Confusion Matrix\n",
      "[[79 27]\n",
      " [19 25]]\n",
      "\n",
      "\n",
      "Accuracy: 69.33333333333334\n",
      "Precision: 64.34458398744113\n",
      "Recall: 65.67324185248712\n",
      "F1-Score: 64.7671568627451\n",
      "\n",
      "\n",
      "              precision    recall  f1-score   support\n",
      "\n",
      "           0       0.81      0.75      0.77       106\n",
      "           1       0.48      0.57      0.52        44\n",
      "\n",
      "    accuracy                           0.69       150\n",
      "   macro avg       0.64      0.66      0.65       150\n",
      "weighted avg       0.71      0.69      0.70       150\n",
      "\n"
     ]
    },
    {
     "data": {
      "image/png": "[encoded data removed]",
      "text/plain": [
       "<Figure size 640x480 with 2 Axes>"
      ]
     },
     "metadata": {},
     "output_type": "display_data"
    },
    {
     "name": "stdout",
     "output_type": "stream",
     "text": [
      "\n",
      "\n",
      "Klasifikasi Complement Naive Bayes:\n",
      "\n",
      "Confusion Matrix\n",
      "[[68 38]\n",
      " [16 28]]\n",
      "\n",
      "\n",
      "Accuracy: 64.0\n",
      "Precision: 61.68831168831169\n",
      "Recall: 63.893653516295025\n",
      "F1-Score: 61.24401913875598\n",
      "\n",
      "\n",
      "              precision    recall  f1-score   support\n",
      "\n",
      "           0       0.81      0.64      0.72       106\n",
      "           1       0.42      0.64      0.51        44\n",
      "\n",
      "    accuracy                           0.64       150\n",
      "   macro avg       0.62      0.64      0.61       150\n",
      "weighted avg       0.70      0.64      0.66       150\n",
      "\n"
     ]
    },
    {
     "data": {
      "image/png": "[encoded data removed]",
      "text/plain": [
       "<Figure size 640x480 with 2 Axes>"
      ]
     },
     "metadata": {},
     "output_type": "display_data"
    },
    {
     "name": "stdout",
     "output_type": "stream",
     "text": [
      "\n",
      "\n",
      "Klasifikasi Bernoulli Naive Bayes:\n",
      "\n",
      "Confusion Matrix\n",
      "[[106   0]\n",
      " [ 44   0]]\n",
      "\n",
      "\n",
      "Accuracy: 70.66666666666667\n",
      "Precision: 35.333333333333336\n",
      "Recall: 50.0\n",
      "F1-Score: 41.40625\n",
      "\n",
      "\n",
      "              precision    recall  f1-score   support\n",
      "\n",
      "           0       0.71      1.00      0.83       106\n",
      "           1       0.00      0.00      0.00        44\n",
      "\n",
      "    accuracy                           0.71       150\n",
      "   macro avg       0.35      0.50      0.41       150\n",
      "weighted avg       0.50      0.71      0.59       150\n",
      "\n"
     ]
    },
    {
     "name": "stderr",
     "output_type": "stream",
     "text": [
      "C:\\Users\\ACER\\AppData\\Roaming\\Python\\Python312\\site-packages\\sklearn\\metrics\\_classification.py:1531: UndefinedMetricWarning: Precision is ill-defined and being set to 0.0 in labels with no predicted samples. Use `zero_division` parameter to control this behavior.\n",
      "  _warn_prf(average, modifier, f\"{metric.capitalize()} is\", len(result))\n",
      "C:\\Users\\ACER\\AppData\\Roaming\\Python\\Python312\\site-packages\\sklearn\\metrics\\_classification.py:1531: UndefinedMetricWarning: Precision is ill-defined and being set to 0.0 in labels with no predicted samples. Use `zero_division` parameter to control this behavior.\n",
      "  _warn_prf(average, modifier, f\"{metric.capitalize()} is\", len(result))\n",
      "C:\\Users\\ACER\\AppData\\Roaming\\Python\\Python312\\site-packages\\sklearn\\metrics\\_classification.py:1531: UndefinedMetricWarning: Precision is ill-defined and being set to 0.0 in labels with no predicted samples. Use `zero_division` parameter to control this behavior.\n",
      "  _warn_prf(average, modifier, f\"{metric.capitalize()} is\", len(result))\n",
      "C:\\Users\\ACER\\AppData\\Roaming\\Python\\Python312\\site-packages\\sklearn\\metrics\\_classification.py:1531: UndefinedMetricWarning: Precision is ill-defined and being set to 0.0 in labels with no predicted samples. Use `zero_division` parameter to control this behavior.\n",
      "  _warn_prf(average, modifier, f\"{metric.capitalize()} is\", len(result))\n"
     ]
    },
    {
     "data": {
      "image/png": "[encoded data removed]",
      "text/plain": [
       "<Figure size 640x480 with 2 Axes>"
      ]
     },
     "metadata": {},
     "output_type": "display_data"
    }
   ],
   "source": [
    "mnb = MultinomialNB()\n",
    "cnb = ComplementNB()\n",
    "bnb = BernoulliNB()\n",
    "\n",
    "modelNB = [mnb, cnb, bnb]\n",
    "modelNB_label = ['Multinomial Naive Bayes', 'Complement Naive Bayes', 'Bernoulli Naive Bayes']\n",
    "\n",
    "\n",
    "for i in range(len(modelNB)):\n",
    "    train = train_model(modelNB[i], x_train, y_train)\n",
    "    y_pred = train.predict(x_test)\n",
    "    findMetrics(y_test, y_pred, modelNB_label[i])"
   ]
  }
 ],
 "metadata": {
  "kaggle": {
   "accelerator": "none",
   "dataSources": [
    {
     "datasetId": 6129148,
     "sourceId": 9963898,
     "sourceType": "datasetVersion"
    }
   ],
   "dockerImageVersionId": 30822,
   "isGpuEnabled": false,
   "isInternetEnabled": true,
   "language": "python",
   "sourceType": "notebook"
  },
  "kernelspec": {
   "display_name": "Python 3",
   "language": "python",
   "name": "python3"
  },
  "language_info": {
   "codemirror_mode": {
    "name": "ipython",
    "version": 3
   },
   "file_extension": ".py",
   "mimetype": "text/x-python",
   "name": "python",
   "nbconvert_exporter": "python",
   "pygments_lexer": "ipython3",
   "version": "3.12.5"
  }
 },
 "nbformat": 4,
 "nbformat_minor": 4
}
